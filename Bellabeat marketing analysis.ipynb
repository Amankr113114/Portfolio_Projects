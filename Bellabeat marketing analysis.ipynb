{
 "cells": [
  {
   "cell_type": "markdown",
   "id": "454ecb85",
   "metadata": {},
   "source": [
    "### Scenario\n",
    "You are a junior data analyst working on the marketing analyst team at Bellabeat, a high-tech manufacturer of health-focused products for women. Bellabeat is a successful small company, but they have the potential to become a larger player in the\n",
    "global\n",
    "smart device\n",
    "market. Urška Sršen, cofounder and Chief Creative Officer of Bellabeat, believes that analyzing smart device fitness data could help unlock new growth opportunities for the company. You have been asked to focus on one of Bellabeat’s products and analyze smart device data to gain insight into how consumers are using their smart devices. The insights you discover will then help guide marketing strategy for the company. You will present your analysis to the Bellabeat executive team along with your high-level recommendations for Bellabeat’s marketing strategy."
   ]
  },
  {
   "cell_type": "markdown",
   "id": "25663e20",
   "metadata": {},
   "source": [
    "#### Background\n",
    "Bellabeat is a high-tech manufacturer of beautifully-designed health-focused smart products for women since 2013. Inspiring and empowering women with knowledge about their own health and habits, Bellabeat has grown rapidly and quickly positioned itself as a tech-driven wellness company for females.\n",
    "\n",
    "The co-founder and Chief Creative Officer, Urška Sršen is confident that an analysis of non-Bellebeat consumer data (ie. FitBit fitness tracker usage data) would reveal more opportunities for growth.\n",
    "\n",
    "#### Business Task:\n",
    "* Analyze FitBit Fitness Tracker Data to gain insights into how consumers are using the FitBit app and discover trends and insights for Bellabeat marketing strategy.\n",
    "\n",
    "\n",
    "#### Business Objectives:\n",
    "* What are the trends identified?\n",
    "* How could these trends apply to Bellabeat customers?\n",
    "* How could these trends help influence Bellabeat marketing strategy?\n",
    "\n",
    "#### Deliverables:\n",
    "* A clear summary of the business task\n",
    "* A description of all data sources used\n",
    "* Documentation of any cleaning or manipulation of data\n",
    "* A summary of analysis\n",
    "* Supporting visualizations and key findings\n",
    "* High-level content recommendations based on the analysis\n",
    "\n",
    "\n",
    "#### Key Stakeholders:\n",
    "* Urška Sršen: Bellabeat’s cofounder and Chief Creative Officer\n",
    "* Sando Mur: Mathematician, Bellabeat’s cofounder and key member of the Bellabeat executive team\n",
    "* Bellabeat marketing analytics team: A team of data analysts guiding Bellabeat's marketing strategy.\n"
   ]
  },
  {
   "cell_type": "code",
   "execution_count": 1,
   "id": "c5274175",
   "metadata": {},
   "outputs": [],
   "source": [
    "#loading packages\n",
    "import numpy as np \n",
    "import pandas as pd \n",
    "import matplotlib.pyplot as plt\n",
    "import missingno as msno\n",
    "import seaborn as sns"
   ]
  },
  {
   "cell_type": "markdown",
   "id": "dc9de9a9",
   "metadata": {},
   "source": [
    "The datasets are gathered internally by FitBit, therefore the data can be safely assumed to be unbias and credible. I have also taken a look at the datasets in a spreadsheet software and there doesn't seem to be any problems other than the date formats are not properly converted. I will convert them to datetime formats when the need arises.\n",
    "\n",
    "The data is publicly available on Kaggle: FitBit Fitness Tracker Data and stored in 18 csv files.\n",
    "\n",
    "So, There are a total of 18 datasets available. However, I will only need a few of them for this case study. I will also merge some datasets if neccesary as I progress through this project."
   ]
  },
  {
   "cell_type": "code",
   "execution_count": 2,
   "id": "1e704f29",
   "metadata": {},
   "outputs": [],
   "source": [
    "dailyActivity = pd.read_csv('dailyActivity_merged.csv')\n",
    "dailyCalories = pd.read_csv('dailyCalories_merged.csv')\n",
    "\n",
    "minuteSleep = pd.read_csv('minuteSleep_merged.csv')\n",
    "dailySteps = pd.read_csv('dailySteps_merged.csv')\n",
    "heartrateSeconds = pd.read_csv('heartrate_seconds_merged.csv')\n",
    "hourlyCalories = pd.read_csv('hourlyCalories_merged.csv')\n",
    "\n",
    "hourlyIntensities = pd.read_csv('hourlyIntensities_merged.csv')\n",
    "hourlySteps = pd.read_csv('hourlySteps_merged.csv')\n",
    "sleepDay = pd.read_csv('sleepDay_merged.csv')\n",
    "stepsDf = pd.read_csv('hourlySteps_merged.csv')\n",
    "weightLog = pd.read_csv('weightLogInfo_merged.csv')"
   ]
  },
  {
   "cell_type": "code",
   "execution_count": 3,
   "id": "883af7ef",
   "metadata": {},
   "outputs": [
    {
     "data": {
      "text/html": [
       "<div>\n",
       "<style scoped>\n",
       "    .dataframe tbody tr th:only-of-type {\n",
       "        vertical-align: middle;\n",
       "    }\n",
       "\n",
       "    .dataframe tbody tr th {\n",
       "        vertical-align: top;\n",
       "    }\n",
       "\n",
       "    .dataframe thead th {\n",
       "        text-align: right;\n",
       "    }\n",
       "</style>\n",
       "<table border=\"1\" class=\"dataframe\">\n",
       "  <thead>\n",
       "    <tr style=\"text-align: right;\">\n",
       "      <th></th>\n",
       "      <th>Id</th>\n",
       "      <th>ActivityDate</th>\n",
       "      <th>TotalSteps</th>\n",
       "      <th>TotalDistance</th>\n",
       "      <th>TrackerDistance</th>\n",
       "      <th>LoggedActivitiesDistance</th>\n",
       "      <th>VeryActiveDistance</th>\n",
       "      <th>ModeratelyActiveDistance</th>\n",
       "      <th>LightActiveDistance</th>\n",
       "      <th>SedentaryActiveDistance</th>\n",
       "      <th>VeryActiveMinutes</th>\n",
       "      <th>FairlyActiveMinutes</th>\n",
       "      <th>LightlyActiveMinutes</th>\n",
       "      <th>SedentaryMinutes</th>\n",
       "      <th>Calories</th>\n",
       "    </tr>\n",
       "  </thead>\n",
       "  <tbody>\n",
       "    <tr>\n",
       "      <th>0</th>\n",
       "      <td>1503960366</td>\n",
       "      <td>4/12/2016</td>\n",
       "      <td>13162</td>\n",
       "      <td>8.50</td>\n",
       "      <td>8.50</td>\n",
       "      <td>0.0</td>\n",
       "      <td>1.88</td>\n",
       "      <td>0.55</td>\n",
       "      <td>6.06</td>\n",
       "      <td>0.0</td>\n",
       "      <td>25</td>\n",
       "      <td>13</td>\n",
       "      <td>328</td>\n",
       "      <td>728</td>\n",
       "      <td>1985</td>\n",
       "    </tr>\n",
       "    <tr>\n",
       "      <th>1</th>\n",
       "      <td>1503960366</td>\n",
       "      <td>4/13/2016</td>\n",
       "      <td>10735</td>\n",
       "      <td>6.97</td>\n",
       "      <td>6.97</td>\n",
       "      <td>0.0</td>\n",
       "      <td>1.57</td>\n",
       "      <td>0.69</td>\n",
       "      <td>4.71</td>\n",
       "      <td>0.0</td>\n",
       "      <td>21</td>\n",
       "      <td>19</td>\n",
       "      <td>217</td>\n",
       "      <td>776</td>\n",
       "      <td>1797</td>\n",
       "    </tr>\n",
       "    <tr>\n",
       "      <th>2</th>\n",
       "      <td>1503960366</td>\n",
       "      <td>4/14/2016</td>\n",
       "      <td>10460</td>\n",
       "      <td>6.74</td>\n",
       "      <td>6.74</td>\n",
       "      <td>0.0</td>\n",
       "      <td>2.44</td>\n",
       "      <td>0.40</td>\n",
       "      <td>3.91</td>\n",
       "      <td>0.0</td>\n",
       "      <td>30</td>\n",
       "      <td>11</td>\n",
       "      <td>181</td>\n",
       "      <td>1218</td>\n",
       "      <td>1776</td>\n",
       "    </tr>\n",
       "    <tr>\n",
       "      <th>3</th>\n",
       "      <td>1503960366</td>\n",
       "      <td>4/15/2016</td>\n",
       "      <td>9762</td>\n",
       "      <td>6.28</td>\n",
       "      <td>6.28</td>\n",
       "      <td>0.0</td>\n",
       "      <td>2.14</td>\n",
       "      <td>1.26</td>\n",
       "      <td>2.83</td>\n",
       "      <td>0.0</td>\n",
       "      <td>29</td>\n",
       "      <td>34</td>\n",
       "      <td>209</td>\n",
       "      <td>726</td>\n",
       "      <td>1745</td>\n",
       "    </tr>\n",
       "    <tr>\n",
       "      <th>4</th>\n",
       "      <td>1503960366</td>\n",
       "      <td>4/16/2016</td>\n",
       "      <td>12669</td>\n",
       "      <td>8.16</td>\n",
       "      <td>8.16</td>\n",
       "      <td>0.0</td>\n",
       "      <td>2.71</td>\n",
       "      <td>0.41</td>\n",
       "      <td>5.04</td>\n",
       "      <td>0.0</td>\n",
       "      <td>36</td>\n",
       "      <td>10</td>\n",
       "      <td>221</td>\n",
       "      <td>773</td>\n",
       "      <td>1863</td>\n",
       "    </tr>\n",
       "  </tbody>\n",
       "</table>\n",
       "</div>"
      ],
      "text/plain": [
       "           Id ActivityDate  TotalSteps  TotalDistance  TrackerDistance  \\\n",
       "0  1503960366    4/12/2016       13162           8.50             8.50   \n",
       "1  1503960366    4/13/2016       10735           6.97             6.97   \n",
       "2  1503960366    4/14/2016       10460           6.74             6.74   \n",
       "3  1503960366    4/15/2016        9762           6.28             6.28   \n",
       "4  1503960366    4/16/2016       12669           8.16             8.16   \n",
       "\n",
       "   LoggedActivitiesDistance  VeryActiveDistance  ModeratelyActiveDistance  \\\n",
       "0                       0.0                1.88                      0.55   \n",
       "1                       0.0                1.57                      0.69   \n",
       "2                       0.0                2.44                      0.40   \n",
       "3                       0.0                2.14                      1.26   \n",
       "4                       0.0                2.71                      0.41   \n",
       "\n",
       "   LightActiveDistance  SedentaryActiveDistance  VeryActiveMinutes  \\\n",
       "0                 6.06                      0.0                 25   \n",
       "1                 4.71                      0.0                 21   \n",
       "2                 3.91                      0.0                 30   \n",
       "3                 2.83                      0.0                 29   \n",
       "4                 5.04                      0.0                 36   \n",
       "\n",
       "   FairlyActiveMinutes  LightlyActiveMinutes  SedentaryMinutes  Calories  \n",
       "0                   13                   328               728      1985  \n",
       "1                   19                   217               776      1797  \n",
       "2                   11                   181              1218      1776  \n",
       "3                   34                   209               726      1745  \n",
       "4                   10                   221               773      1863  "
      ]
     },
     "execution_count": 3,
     "metadata": {},
     "output_type": "execute_result"
    }
   ],
   "source": [
    "dailyActivity.head()"
   ]
  },
  {
   "cell_type": "code",
   "execution_count": 4,
   "id": "ec7311e8",
   "metadata": {},
   "outputs": [
    {
     "data": {
      "text/html": [
       "<div>\n",
       "<style scoped>\n",
       "    .dataframe tbody tr th:only-of-type {\n",
       "        vertical-align: middle;\n",
       "    }\n",
       "\n",
       "    .dataframe tbody tr th {\n",
       "        vertical-align: top;\n",
       "    }\n",
       "\n",
       "    .dataframe thead th {\n",
       "        text-align: right;\n",
       "    }\n",
       "</style>\n",
       "<table border=\"1\" class=\"dataframe\">\n",
       "  <thead>\n",
       "    <tr style=\"text-align: right;\">\n",
       "      <th></th>\n",
       "      <th>Id</th>\n",
       "      <th>ActivityDay</th>\n",
       "      <th>Calories</th>\n",
       "    </tr>\n",
       "  </thead>\n",
       "  <tbody>\n",
       "    <tr>\n",
       "      <th>0</th>\n",
       "      <td>1503960366</td>\n",
       "      <td>4/12/2016</td>\n",
       "      <td>1985</td>\n",
       "    </tr>\n",
       "    <tr>\n",
       "      <th>1</th>\n",
       "      <td>1503960366</td>\n",
       "      <td>4/13/2016</td>\n",
       "      <td>1797</td>\n",
       "    </tr>\n",
       "    <tr>\n",
       "      <th>2</th>\n",
       "      <td>1503960366</td>\n",
       "      <td>4/14/2016</td>\n",
       "      <td>1776</td>\n",
       "    </tr>\n",
       "    <tr>\n",
       "      <th>3</th>\n",
       "      <td>1503960366</td>\n",
       "      <td>4/15/2016</td>\n",
       "      <td>1745</td>\n",
       "    </tr>\n",
       "    <tr>\n",
       "      <th>4</th>\n",
       "      <td>1503960366</td>\n",
       "      <td>4/16/2016</td>\n",
       "      <td>1863</td>\n",
       "    </tr>\n",
       "  </tbody>\n",
       "</table>\n",
       "</div>"
      ],
      "text/plain": [
       "           Id ActivityDay  Calories\n",
       "0  1503960366   4/12/2016      1985\n",
       "1  1503960366   4/13/2016      1797\n",
       "2  1503960366   4/14/2016      1776\n",
       "3  1503960366   4/15/2016      1745\n",
       "4  1503960366   4/16/2016      1863"
      ]
     },
     "execution_count": 4,
     "metadata": {},
     "output_type": "execute_result"
    }
   ],
   "source": [
    "dailyCalories.head()"
   ]
  },
  {
   "cell_type": "code",
   "execution_count": 5,
   "id": "f3c9134d",
   "metadata": {},
   "outputs": [
    {
     "data": {
      "text/html": [
       "<div>\n",
       "<style scoped>\n",
       "    .dataframe tbody tr th:only-of-type {\n",
       "        vertical-align: middle;\n",
       "    }\n",
       "\n",
       "    .dataframe tbody tr th {\n",
       "        vertical-align: top;\n",
       "    }\n",
       "\n",
       "    .dataframe thead th {\n",
       "        text-align: right;\n",
       "    }\n",
       "</style>\n",
       "<table border=\"1\" class=\"dataframe\">\n",
       "  <thead>\n",
       "    <tr style=\"text-align: right;\">\n",
       "      <th></th>\n",
       "      <th>Id</th>\n",
       "      <th>date</th>\n",
       "      <th>value</th>\n",
       "      <th>logId</th>\n",
       "    </tr>\n",
       "  </thead>\n",
       "  <tbody>\n",
       "    <tr>\n",
       "      <th>0</th>\n",
       "      <td>1503960366</td>\n",
       "      <td>4/12/2016 2:47:30 AM</td>\n",
       "      <td>3</td>\n",
       "      <td>11380564589</td>\n",
       "    </tr>\n",
       "    <tr>\n",
       "      <th>1</th>\n",
       "      <td>1503960366</td>\n",
       "      <td>4/12/2016 2:48:30 AM</td>\n",
       "      <td>2</td>\n",
       "      <td>11380564589</td>\n",
       "    </tr>\n",
       "    <tr>\n",
       "      <th>2</th>\n",
       "      <td>1503960366</td>\n",
       "      <td>4/12/2016 2:49:30 AM</td>\n",
       "      <td>1</td>\n",
       "      <td>11380564589</td>\n",
       "    </tr>\n",
       "    <tr>\n",
       "      <th>3</th>\n",
       "      <td>1503960366</td>\n",
       "      <td>4/12/2016 2:50:30 AM</td>\n",
       "      <td>1</td>\n",
       "      <td>11380564589</td>\n",
       "    </tr>\n",
       "    <tr>\n",
       "      <th>4</th>\n",
       "      <td>1503960366</td>\n",
       "      <td>4/12/2016 2:51:30 AM</td>\n",
       "      <td>1</td>\n",
       "      <td>11380564589</td>\n",
       "    </tr>\n",
       "  </tbody>\n",
       "</table>\n",
       "</div>"
      ],
      "text/plain": [
       "           Id                  date  value        logId\n",
       "0  1503960366  4/12/2016 2:47:30 AM      3  11380564589\n",
       "1  1503960366  4/12/2016 2:48:30 AM      2  11380564589\n",
       "2  1503960366  4/12/2016 2:49:30 AM      1  11380564589\n",
       "3  1503960366  4/12/2016 2:50:30 AM      1  11380564589\n",
       "4  1503960366  4/12/2016 2:51:30 AM      1  11380564589"
      ]
     },
     "execution_count": 5,
     "metadata": {},
     "output_type": "execute_result"
    }
   ],
   "source": [
    "minuteSleep.head()"
   ]
  },
  {
   "cell_type": "code",
   "execution_count": 6,
   "id": "7e1e7fca",
   "metadata": {},
   "outputs": [
    {
     "data": {
      "text/html": [
       "<div>\n",
       "<style scoped>\n",
       "    .dataframe tbody tr th:only-of-type {\n",
       "        vertical-align: middle;\n",
       "    }\n",
       "\n",
       "    .dataframe tbody tr th {\n",
       "        vertical-align: top;\n",
       "    }\n",
       "\n",
       "    .dataframe thead th {\n",
       "        text-align: right;\n",
       "    }\n",
       "</style>\n",
       "<table border=\"1\" class=\"dataframe\">\n",
       "  <thead>\n",
       "    <tr style=\"text-align: right;\">\n",
       "      <th></th>\n",
       "      <th>Id</th>\n",
       "      <th>ActivityDay</th>\n",
       "      <th>StepTotal</th>\n",
       "    </tr>\n",
       "  </thead>\n",
       "  <tbody>\n",
       "    <tr>\n",
       "      <th>0</th>\n",
       "      <td>1503960366</td>\n",
       "      <td>4/12/2016</td>\n",
       "      <td>13162</td>\n",
       "    </tr>\n",
       "    <tr>\n",
       "      <th>1</th>\n",
       "      <td>1503960366</td>\n",
       "      <td>4/13/2016</td>\n",
       "      <td>10735</td>\n",
       "    </tr>\n",
       "    <tr>\n",
       "      <th>2</th>\n",
       "      <td>1503960366</td>\n",
       "      <td>4/14/2016</td>\n",
       "      <td>10460</td>\n",
       "    </tr>\n",
       "    <tr>\n",
       "      <th>3</th>\n",
       "      <td>1503960366</td>\n",
       "      <td>4/15/2016</td>\n",
       "      <td>9762</td>\n",
       "    </tr>\n",
       "    <tr>\n",
       "      <th>4</th>\n",
       "      <td>1503960366</td>\n",
       "      <td>4/16/2016</td>\n",
       "      <td>12669</td>\n",
       "    </tr>\n",
       "  </tbody>\n",
       "</table>\n",
       "</div>"
      ],
      "text/plain": [
       "           Id ActivityDay  StepTotal\n",
       "0  1503960366   4/12/2016      13162\n",
       "1  1503960366   4/13/2016      10735\n",
       "2  1503960366   4/14/2016      10460\n",
       "3  1503960366   4/15/2016       9762\n",
       "4  1503960366   4/16/2016      12669"
      ]
     },
     "execution_count": 6,
     "metadata": {},
     "output_type": "execute_result"
    }
   ],
   "source": [
    "dailySteps.head()"
   ]
  },
  {
   "cell_type": "code",
   "execution_count": 7,
   "id": "abece027",
   "metadata": {},
   "outputs": [
    {
     "data": {
      "text/html": [
       "<div>\n",
       "<style scoped>\n",
       "    .dataframe tbody tr th:only-of-type {\n",
       "        vertical-align: middle;\n",
       "    }\n",
       "\n",
       "    .dataframe tbody tr th {\n",
       "        vertical-align: top;\n",
       "    }\n",
       "\n",
       "    .dataframe thead th {\n",
       "        text-align: right;\n",
       "    }\n",
       "</style>\n",
       "<table border=\"1\" class=\"dataframe\">\n",
       "  <thead>\n",
       "    <tr style=\"text-align: right;\">\n",
       "      <th></th>\n",
       "      <th>Id</th>\n",
       "      <th>Time</th>\n",
       "      <th>Value</th>\n",
       "    </tr>\n",
       "  </thead>\n",
       "  <tbody>\n",
       "    <tr>\n",
       "      <th>0</th>\n",
       "      <td>2022484408</td>\n",
       "      <td>4/12/2016 7:21:00 AM</td>\n",
       "      <td>97</td>\n",
       "    </tr>\n",
       "    <tr>\n",
       "      <th>1</th>\n",
       "      <td>2022484408</td>\n",
       "      <td>4/12/2016 7:21:05 AM</td>\n",
       "      <td>102</td>\n",
       "    </tr>\n",
       "    <tr>\n",
       "      <th>2</th>\n",
       "      <td>2022484408</td>\n",
       "      <td>4/12/2016 7:21:10 AM</td>\n",
       "      <td>105</td>\n",
       "    </tr>\n",
       "    <tr>\n",
       "      <th>3</th>\n",
       "      <td>2022484408</td>\n",
       "      <td>4/12/2016 7:21:20 AM</td>\n",
       "      <td>103</td>\n",
       "    </tr>\n",
       "    <tr>\n",
       "      <th>4</th>\n",
       "      <td>2022484408</td>\n",
       "      <td>4/12/2016 7:21:25 AM</td>\n",
       "      <td>101</td>\n",
       "    </tr>\n",
       "  </tbody>\n",
       "</table>\n",
       "</div>"
      ],
      "text/plain": [
       "           Id                  Time  Value\n",
       "0  2022484408  4/12/2016 7:21:00 AM     97\n",
       "1  2022484408  4/12/2016 7:21:05 AM    102\n",
       "2  2022484408  4/12/2016 7:21:10 AM    105\n",
       "3  2022484408  4/12/2016 7:21:20 AM    103\n",
       "4  2022484408  4/12/2016 7:21:25 AM    101"
      ]
     },
     "execution_count": 7,
     "metadata": {},
     "output_type": "execute_result"
    }
   ],
   "source": [
    "heartrateSeconds.head()"
   ]
  },
  {
   "cell_type": "code",
   "execution_count": 8,
   "id": "8183413e",
   "metadata": {},
   "outputs": [
    {
     "data": {
      "text/html": [
       "<div>\n",
       "<style scoped>\n",
       "    .dataframe tbody tr th:only-of-type {\n",
       "        vertical-align: middle;\n",
       "    }\n",
       "\n",
       "    .dataframe tbody tr th {\n",
       "        vertical-align: top;\n",
       "    }\n",
       "\n",
       "    .dataframe thead th {\n",
       "        text-align: right;\n",
       "    }\n",
       "</style>\n",
       "<table border=\"1\" class=\"dataframe\">\n",
       "  <thead>\n",
       "    <tr style=\"text-align: right;\">\n",
       "      <th></th>\n",
       "      <th>Id</th>\n",
       "      <th>ActivityHour</th>\n",
       "      <th>Calories</th>\n",
       "    </tr>\n",
       "  </thead>\n",
       "  <tbody>\n",
       "    <tr>\n",
       "      <th>0</th>\n",
       "      <td>1503960366</td>\n",
       "      <td>4/12/2016 12:00:00 AM</td>\n",
       "      <td>81</td>\n",
       "    </tr>\n",
       "    <tr>\n",
       "      <th>1</th>\n",
       "      <td>1503960366</td>\n",
       "      <td>4/12/2016 1:00:00 AM</td>\n",
       "      <td>61</td>\n",
       "    </tr>\n",
       "    <tr>\n",
       "      <th>2</th>\n",
       "      <td>1503960366</td>\n",
       "      <td>4/12/2016 2:00:00 AM</td>\n",
       "      <td>59</td>\n",
       "    </tr>\n",
       "    <tr>\n",
       "      <th>3</th>\n",
       "      <td>1503960366</td>\n",
       "      <td>4/12/2016 3:00:00 AM</td>\n",
       "      <td>47</td>\n",
       "    </tr>\n",
       "    <tr>\n",
       "      <th>4</th>\n",
       "      <td>1503960366</td>\n",
       "      <td>4/12/2016 4:00:00 AM</td>\n",
       "      <td>48</td>\n",
       "    </tr>\n",
       "  </tbody>\n",
       "</table>\n",
       "</div>"
      ],
      "text/plain": [
       "           Id           ActivityHour  Calories\n",
       "0  1503960366  4/12/2016 12:00:00 AM        81\n",
       "1  1503960366   4/12/2016 1:00:00 AM        61\n",
       "2  1503960366   4/12/2016 2:00:00 AM        59\n",
       "3  1503960366   4/12/2016 3:00:00 AM        47\n",
       "4  1503960366   4/12/2016 4:00:00 AM        48"
      ]
     },
     "execution_count": 8,
     "metadata": {},
     "output_type": "execute_result"
    }
   ],
   "source": [
    "hourlyCalories.head()"
   ]
  },
  {
   "cell_type": "code",
   "execution_count": 9,
   "id": "1d41303e",
   "metadata": {},
   "outputs": [
    {
     "data": {
      "text/html": [
       "<div>\n",
       "<style scoped>\n",
       "    .dataframe tbody tr th:only-of-type {\n",
       "        vertical-align: middle;\n",
       "    }\n",
       "\n",
       "    .dataframe tbody tr th {\n",
       "        vertical-align: top;\n",
       "    }\n",
       "\n",
       "    .dataframe thead th {\n",
       "        text-align: right;\n",
       "    }\n",
       "</style>\n",
       "<table border=\"1\" class=\"dataframe\">\n",
       "  <thead>\n",
       "    <tr style=\"text-align: right;\">\n",
       "      <th></th>\n",
       "      <th>Id</th>\n",
       "      <th>ActivityHour</th>\n",
       "      <th>TotalIntensity</th>\n",
       "      <th>AverageIntensity</th>\n",
       "    </tr>\n",
       "  </thead>\n",
       "  <tbody>\n",
       "    <tr>\n",
       "      <th>0</th>\n",
       "      <td>1503960366</td>\n",
       "      <td>4/12/2016 12:00:00 AM</td>\n",
       "      <td>20</td>\n",
       "      <td>0.333333</td>\n",
       "    </tr>\n",
       "    <tr>\n",
       "      <th>1</th>\n",
       "      <td>1503960366</td>\n",
       "      <td>4/12/2016 1:00:00 AM</td>\n",
       "      <td>8</td>\n",
       "      <td>0.133333</td>\n",
       "    </tr>\n",
       "    <tr>\n",
       "      <th>2</th>\n",
       "      <td>1503960366</td>\n",
       "      <td>4/12/2016 2:00:00 AM</td>\n",
       "      <td>7</td>\n",
       "      <td>0.116667</td>\n",
       "    </tr>\n",
       "    <tr>\n",
       "      <th>3</th>\n",
       "      <td>1503960366</td>\n",
       "      <td>4/12/2016 3:00:00 AM</td>\n",
       "      <td>0</td>\n",
       "      <td>0.000000</td>\n",
       "    </tr>\n",
       "    <tr>\n",
       "      <th>4</th>\n",
       "      <td>1503960366</td>\n",
       "      <td>4/12/2016 4:00:00 AM</td>\n",
       "      <td>0</td>\n",
       "      <td>0.000000</td>\n",
       "    </tr>\n",
       "  </tbody>\n",
       "</table>\n",
       "</div>"
      ],
      "text/plain": [
       "           Id           ActivityHour  TotalIntensity  AverageIntensity\n",
       "0  1503960366  4/12/2016 12:00:00 AM              20          0.333333\n",
       "1  1503960366   4/12/2016 1:00:00 AM               8          0.133333\n",
       "2  1503960366   4/12/2016 2:00:00 AM               7          0.116667\n",
       "3  1503960366   4/12/2016 3:00:00 AM               0          0.000000\n",
       "4  1503960366   4/12/2016 4:00:00 AM               0          0.000000"
      ]
     },
     "execution_count": 9,
     "metadata": {},
     "output_type": "execute_result"
    }
   ],
   "source": [
    "hourlyIntensities.head()"
   ]
  },
  {
   "cell_type": "code",
   "execution_count": 10,
   "id": "c451215d",
   "metadata": {},
   "outputs": [
    {
     "data": {
      "text/html": [
       "<div>\n",
       "<style scoped>\n",
       "    .dataframe tbody tr th:only-of-type {\n",
       "        vertical-align: middle;\n",
       "    }\n",
       "\n",
       "    .dataframe tbody tr th {\n",
       "        vertical-align: top;\n",
       "    }\n",
       "\n",
       "    .dataframe thead th {\n",
       "        text-align: right;\n",
       "    }\n",
       "</style>\n",
       "<table border=\"1\" class=\"dataframe\">\n",
       "  <thead>\n",
       "    <tr style=\"text-align: right;\">\n",
       "      <th></th>\n",
       "      <th>Id</th>\n",
       "      <th>ActivityHour</th>\n",
       "      <th>StepTotal</th>\n",
       "    </tr>\n",
       "  </thead>\n",
       "  <tbody>\n",
       "    <tr>\n",
       "      <th>0</th>\n",
       "      <td>1503960366</td>\n",
       "      <td>4/12/2016 12:00:00 AM</td>\n",
       "      <td>373</td>\n",
       "    </tr>\n",
       "    <tr>\n",
       "      <th>1</th>\n",
       "      <td>1503960366</td>\n",
       "      <td>4/12/2016 1:00:00 AM</td>\n",
       "      <td>160</td>\n",
       "    </tr>\n",
       "    <tr>\n",
       "      <th>2</th>\n",
       "      <td>1503960366</td>\n",
       "      <td>4/12/2016 2:00:00 AM</td>\n",
       "      <td>151</td>\n",
       "    </tr>\n",
       "    <tr>\n",
       "      <th>3</th>\n",
       "      <td>1503960366</td>\n",
       "      <td>4/12/2016 3:00:00 AM</td>\n",
       "      <td>0</td>\n",
       "    </tr>\n",
       "    <tr>\n",
       "      <th>4</th>\n",
       "      <td>1503960366</td>\n",
       "      <td>4/12/2016 4:00:00 AM</td>\n",
       "      <td>0</td>\n",
       "    </tr>\n",
       "  </tbody>\n",
       "</table>\n",
       "</div>"
      ],
      "text/plain": [
       "           Id           ActivityHour  StepTotal\n",
       "0  1503960366  4/12/2016 12:00:00 AM        373\n",
       "1  1503960366   4/12/2016 1:00:00 AM        160\n",
       "2  1503960366   4/12/2016 2:00:00 AM        151\n",
       "3  1503960366   4/12/2016 3:00:00 AM          0\n",
       "4  1503960366   4/12/2016 4:00:00 AM          0"
      ]
     },
     "execution_count": 10,
     "metadata": {},
     "output_type": "execute_result"
    }
   ],
   "source": [
    "hourlySteps.head()"
   ]
  },
  {
   "cell_type": "code",
   "execution_count": 11,
   "id": "83168da4",
   "metadata": {},
   "outputs": [
    {
     "data": {
      "text/html": [
       "<div>\n",
       "<style scoped>\n",
       "    .dataframe tbody tr th:only-of-type {\n",
       "        vertical-align: middle;\n",
       "    }\n",
       "\n",
       "    .dataframe tbody tr th {\n",
       "        vertical-align: top;\n",
       "    }\n",
       "\n",
       "    .dataframe thead th {\n",
       "        text-align: right;\n",
       "    }\n",
       "</style>\n",
       "<table border=\"1\" class=\"dataframe\">\n",
       "  <thead>\n",
       "    <tr style=\"text-align: right;\">\n",
       "      <th></th>\n",
       "      <th>Id</th>\n",
       "      <th>SleepDay</th>\n",
       "      <th>TotalSleepRecords</th>\n",
       "      <th>TotalMinutesAsleep</th>\n",
       "      <th>TotalTimeInBed</th>\n",
       "    </tr>\n",
       "  </thead>\n",
       "  <tbody>\n",
       "    <tr>\n",
       "      <th>0</th>\n",
       "      <td>1503960366</td>\n",
       "      <td>4/12/2016 12:00:00 AM</td>\n",
       "      <td>1</td>\n",
       "      <td>327</td>\n",
       "      <td>346</td>\n",
       "    </tr>\n",
       "    <tr>\n",
       "      <th>1</th>\n",
       "      <td>1503960366</td>\n",
       "      <td>4/13/2016 12:00:00 AM</td>\n",
       "      <td>2</td>\n",
       "      <td>384</td>\n",
       "      <td>407</td>\n",
       "    </tr>\n",
       "    <tr>\n",
       "      <th>2</th>\n",
       "      <td>1503960366</td>\n",
       "      <td>4/15/2016 12:00:00 AM</td>\n",
       "      <td>1</td>\n",
       "      <td>412</td>\n",
       "      <td>442</td>\n",
       "    </tr>\n",
       "    <tr>\n",
       "      <th>3</th>\n",
       "      <td>1503960366</td>\n",
       "      <td>4/16/2016 12:00:00 AM</td>\n",
       "      <td>2</td>\n",
       "      <td>340</td>\n",
       "      <td>367</td>\n",
       "    </tr>\n",
       "    <tr>\n",
       "      <th>4</th>\n",
       "      <td>1503960366</td>\n",
       "      <td>4/17/2016 12:00:00 AM</td>\n",
       "      <td>1</td>\n",
       "      <td>700</td>\n",
       "      <td>712</td>\n",
       "    </tr>\n",
       "  </tbody>\n",
       "</table>\n",
       "</div>"
      ],
      "text/plain": [
       "           Id               SleepDay  TotalSleepRecords  TotalMinutesAsleep  \\\n",
       "0  1503960366  4/12/2016 12:00:00 AM                  1                 327   \n",
       "1  1503960366  4/13/2016 12:00:00 AM                  2                 384   \n",
       "2  1503960366  4/15/2016 12:00:00 AM                  1                 412   \n",
       "3  1503960366  4/16/2016 12:00:00 AM                  2                 340   \n",
       "4  1503960366  4/17/2016 12:00:00 AM                  1                 700   \n",
       "\n",
       "   TotalTimeInBed  \n",
       "0             346  \n",
       "1             407  \n",
       "2             442  \n",
       "3             367  \n",
       "4             712  "
      ]
     },
     "execution_count": 11,
     "metadata": {},
     "output_type": "execute_result"
    }
   ],
   "source": [
    "sleepDay.head()"
   ]
  },
  {
   "cell_type": "code",
   "execution_count": 12,
   "id": "88381801",
   "metadata": {},
   "outputs": [
    {
     "data": {
      "text/html": [
       "<div>\n",
       "<style scoped>\n",
       "    .dataframe tbody tr th:only-of-type {\n",
       "        vertical-align: middle;\n",
       "    }\n",
       "\n",
       "    .dataframe tbody tr th {\n",
       "        vertical-align: top;\n",
       "    }\n",
       "\n",
       "    .dataframe thead th {\n",
       "        text-align: right;\n",
       "    }\n",
       "</style>\n",
       "<table border=\"1\" class=\"dataframe\">\n",
       "  <thead>\n",
       "    <tr style=\"text-align: right;\">\n",
       "      <th></th>\n",
       "      <th>Id</th>\n",
       "      <th>ActivityHour</th>\n",
       "      <th>StepTotal</th>\n",
       "    </tr>\n",
       "  </thead>\n",
       "  <tbody>\n",
       "    <tr>\n",
       "      <th>0</th>\n",
       "      <td>1503960366</td>\n",
       "      <td>4/12/2016 12:00:00 AM</td>\n",
       "      <td>373</td>\n",
       "    </tr>\n",
       "    <tr>\n",
       "      <th>1</th>\n",
       "      <td>1503960366</td>\n",
       "      <td>4/12/2016 1:00:00 AM</td>\n",
       "      <td>160</td>\n",
       "    </tr>\n",
       "    <tr>\n",
       "      <th>2</th>\n",
       "      <td>1503960366</td>\n",
       "      <td>4/12/2016 2:00:00 AM</td>\n",
       "      <td>151</td>\n",
       "    </tr>\n",
       "    <tr>\n",
       "      <th>3</th>\n",
       "      <td>1503960366</td>\n",
       "      <td>4/12/2016 3:00:00 AM</td>\n",
       "      <td>0</td>\n",
       "    </tr>\n",
       "    <tr>\n",
       "      <th>4</th>\n",
       "      <td>1503960366</td>\n",
       "      <td>4/12/2016 4:00:00 AM</td>\n",
       "      <td>0</td>\n",
       "    </tr>\n",
       "  </tbody>\n",
       "</table>\n",
       "</div>"
      ],
      "text/plain": [
       "           Id           ActivityHour  StepTotal\n",
       "0  1503960366  4/12/2016 12:00:00 AM        373\n",
       "1  1503960366   4/12/2016 1:00:00 AM        160\n",
       "2  1503960366   4/12/2016 2:00:00 AM        151\n",
       "3  1503960366   4/12/2016 3:00:00 AM          0\n",
       "4  1503960366   4/12/2016 4:00:00 AM          0"
      ]
     },
     "execution_count": 12,
     "metadata": {},
     "output_type": "execute_result"
    }
   ],
   "source": [
    "stepsDf.head()"
   ]
  },
  {
   "cell_type": "code",
   "execution_count": 13,
   "id": "e1f2ecf2",
   "metadata": {},
   "outputs": [
    {
     "data": {
      "text/html": [
       "<div>\n",
       "<style scoped>\n",
       "    .dataframe tbody tr th:only-of-type {\n",
       "        vertical-align: middle;\n",
       "    }\n",
       "\n",
       "    .dataframe tbody tr th {\n",
       "        vertical-align: top;\n",
       "    }\n",
       "\n",
       "    .dataframe thead th {\n",
       "        text-align: right;\n",
       "    }\n",
       "</style>\n",
       "<table border=\"1\" class=\"dataframe\">\n",
       "  <thead>\n",
       "    <tr style=\"text-align: right;\">\n",
       "      <th></th>\n",
       "      <th>Id</th>\n",
       "      <th>Date</th>\n",
       "      <th>WeightKg</th>\n",
       "      <th>WeightPounds</th>\n",
       "      <th>Fat</th>\n",
       "      <th>BMI</th>\n",
       "      <th>IsManualReport</th>\n",
       "      <th>LogId</th>\n",
       "    </tr>\n",
       "  </thead>\n",
       "  <tbody>\n",
       "    <tr>\n",
       "      <th>0</th>\n",
       "      <td>1503960366</td>\n",
       "      <td>5/2/2016 11:59:59 PM</td>\n",
       "      <td>52.599998</td>\n",
       "      <td>115.963147</td>\n",
       "      <td>22.0</td>\n",
       "      <td>22.650000</td>\n",
       "      <td>True</td>\n",
       "      <td>1462233599000</td>\n",
       "    </tr>\n",
       "    <tr>\n",
       "      <th>1</th>\n",
       "      <td>1503960366</td>\n",
       "      <td>5/3/2016 11:59:59 PM</td>\n",
       "      <td>52.599998</td>\n",
       "      <td>115.963147</td>\n",
       "      <td>NaN</td>\n",
       "      <td>22.650000</td>\n",
       "      <td>True</td>\n",
       "      <td>1462319999000</td>\n",
       "    </tr>\n",
       "    <tr>\n",
       "      <th>2</th>\n",
       "      <td>1927972279</td>\n",
       "      <td>4/13/2016 1:08:52 AM</td>\n",
       "      <td>133.500000</td>\n",
       "      <td>294.317120</td>\n",
       "      <td>NaN</td>\n",
       "      <td>47.540001</td>\n",
       "      <td>False</td>\n",
       "      <td>1460509732000</td>\n",
       "    </tr>\n",
       "    <tr>\n",
       "      <th>3</th>\n",
       "      <td>2873212765</td>\n",
       "      <td>4/21/2016 11:59:59 PM</td>\n",
       "      <td>56.700001</td>\n",
       "      <td>125.002104</td>\n",
       "      <td>NaN</td>\n",
       "      <td>21.450001</td>\n",
       "      <td>True</td>\n",
       "      <td>1461283199000</td>\n",
       "    </tr>\n",
       "    <tr>\n",
       "      <th>4</th>\n",
       "      <td>2873212765</td>\n",
       "      <td>5/12/2016 11:59:59 PM</td>\n",
       "      <td>57.299999</td>\n",
       "      <td>126.324875</td>\n",
       "      <td>NaN</td>\n",
       "      <td>21.690001</td>\n",
       "      <td>True</td>\n",
       "      <td>1463097599000</td>\n",
       "    </tr>\n",
       "  </tbody>\n",
       "</table>\n",
       "</div>"
      ],
      "text/plain": [
       "           Id                   Date    WeightKg  WeightPounds   Fat  \\\n",
       "0  1503960366   5/2/2016 11:59:59 PM   52.599998    115.963147  22.0   \n",
       "1  1503960366   5/3/2016 11:59:59 PM   52.599998    115.963147   NaN   \n",
       "2  1927972279   4/13/2016 1:08:52 AM  133.500000    294.317120   NaN   \n",
       "3  2873212765  4/21/2016 11:59:59 PM   56.700001    125.002104   NaN   \n",
       "4  2873212765  5/12/2016 11:59:59 PM   57.299999    126.324875   NaN   \n",
       "\n",
       "         BMI  IsManualReport          LogId  \n",
       "0  22.650000            True  1462233599000  \n",
       "1  22.650000            True  1462319999000  \n",
       "2  47.540001           False  1460509732000  \n",
       "3  21.450001            True  1461283199000  \n",
       "4  21.690001            True  1463097599000  "
      ]
     },
     "execution_count": 13,
     "metadata": {},
     "output_type": "execute_result"
    }
   ],
   "source": [
    "weightLog.head()"
   ]
  },
  {
   "cell_type": "markdown",
   "id": "6b381ba0",
   "metadata": {},
   "source": [
    "After taking a look and understanding the datasets available, I've decided to use the above 11 datasets for my analysis.\n",
    "After having an understanding of these available datasets, I have prepared these questions in order to aid myself in the analysis phase.\n",
    "\n",
    "* How active are these users?\n",
    "* What factors contribute to the highest calorie burns?\n",
    "* Have these users been having a good night sleep? Is there a relationship between how active they are and their sleep schedule?\n",
    "* How does the data vary from weekends and weekdays?"
   ]
  },
  {
   "cell_type": "code",
   "execution_count": 14,
   "id": "f5cd5e15",
   "metadata": {},
   "outputs": [],
   "source": [
    "#convert to datetime\n",
    "dailyActivity['ActivityDate'] = pd.to_datetime(dailyActivity['ActivityDate'])\n",
    "\n",
    "# add a new column that indicates the day's name\n",
    "dailyActivity['day_name'] = dailyActivity['ActivityDate'].dt.day_name()\n",
    "\n",
    "# add a new column that indicates weekday/weekend\n",
    "dailyActivity['weekend_weekday'] = np.where(dailyActivity['ActivityDate'].dt.dayofweek > 4, 'Weekend', 'Weekday')"
   ]
  },
  {
   "cell_type": "code",
   "execution_count": 15,
   "id": "77d45e1c",
   "metadata": {},
   "outputs": [
    {
     "name": "stdout",
     "output_type": "stream",
     "text": [
      "Total Steps Summary\n",
      "count      940.000000\n",
      "mean      7637.910638\n",
      "std       5087.150742\n",
      "min          0.000000\n",
      "25%       3789.750000\n",
      "50%       7405.500000\n",
      "75%      10727.000000\n",
      "max      36019.000000\n",
      "Name: TotalSteps, dtype: float64\n",
      "\n",
      "\n"
     ]
    }
   ],
   "source": [
    "# steps taken summary\n",
    "print(\"Total Steps Summary\")\n",
    "steps = dailyActivity['TotalSteps'].describe()\n",
    "print(steps)\n",
    "print('\\n')"
   ]
  },
  {
   "cell_type": "code",
   "execution_count": 16,
   "id": "ce658265",
   "metadata": {},
   "outputs": [
    {
     "name": "stdout",
     "output_type": "stream",
     "text": [
      "       VeryActiveMinutes  FairlyActiveMinutes  LightlyActiveMinutes  \\\n",
      "count         940.000000           940.000000            940.000000   \n",
      "mean           21.164894            13.564894            192.812766   \n",
      "std            32.844803            19.987404            109.174700   \n",
      "min             0.000000             0.000000              0.000000   \n",
      "25%             0.000000             0.000000            127.000000   \n",
      "50%             4.000000             6.000000            199.000000   \n",
      "75%            32.000000            19.000000            264.000000   \n",
      "max           210.000000           143.000000            518.000000   \n",
      "\n",
      "       SedentaryMinutes  \n",
      "count        940.000000  \n",
      "mean         991.210638  \n",
      "std          301.267437  \n",
      "min            0.000000  \n",
      "25%          729.750000  \n",
      "50%         1057.500000  \n",
      "75%         1229.500000  \n",
      "max         1440.000000  \n",
      "\n",
      "\n"
     ]
    }
   ],
   "source": [
    "\n",
    "# byMinutes summary\n",
    "minutes = dailyActivity[['VeryActiveMinutes', 'FairlyActiveMinutes', 'LightlyActiveMinutes', 'SedentaryMinutes']].describe()\n",
    "print(minutes)\n",
    "print('\\n')"
   ]
  },
  {
   "cell_type": "code",
   "execution_count": 17,
   "id": "501e70d3",
   "metadata": {},
   "outputs": [
    {
     "name": "stdout",
     "output_type": "stream",
     "text": [
      "          Calories  TotalDistance\n",
      "count   940.000000     940.000000\n",
      "mean   2303.609574       5.489702\n",
      "std     718.166862       3.924606\n",
      "min       0.000000       0.000000\n",
      "25%    1828.500000       2.620000\n",
      "50%    2134.000000       5.245000\n",
      "75%    2793.250000       7.712500\n",
      "max    4900.000000      28.030001\n"
     ]
    }
   ],
   "source": [
    "# Calories and total distance burned summary\n",
    "calories = dailyActivity[['Calories', 'TotalDistance']].describe()\n",
    "print(calories)"
   ]
  },
  {
   "cell_type": "code",
   "execution_count": 18,
   "id": "fd00978f",
   "metadata": {},
   "outputs": [
    {
     "name": "stdout",
     "output_type": "stream",
     "text": [
      "       TotalSleepRecords  TotalMinutesAsleep  TotalTimeInBed\n",
      "count         413.000000          413.000000      413.000000\n",
      "mean            1.118644          419.467312      458.639225\n",
      "std             0.345521          118.344679      127.101607\n",
      "min             1.000000           58.000000       61.000000\n",
      "25%             1.000000          361.000000      403.000000\n",
      "50%             1.000000          433.000000      463.000000\n",
      "75%             1.000000          490.000000      526.000000\n",
      "max             3.000000          796.000000      961.000000\n",
      "\n",
      "\n",
      "             BMI    WeightKg\n",
      "count  67.000000   67.000000\n",
      "mean   25.185224   72.035821\n",
      "std     3.066963   13.923206\n",
      "min    21.450001   52.599998\n",
      "25%    23.959999   61.400002\n",
      "50%    24.389999   62.500000\n",
      "75%    25.559999   85.049999\n",
      "max    47.540001  133.500000\n"
     ]
    }
   ],
   "source": [
    "#Sleep Records, weight, and bmi\n",
    "print(sleepDay[['TotalSleepRecords', 'TotalMinutesAsleep', 'TotalTimeInBed']].describe())\n",
    "print('\\n')\n",
    "print(weightLog[['BMI', 'WeightKg']].describe())"
   ]
  },
  {
   "cell_type": "markdown",
   "id": "67dc7d3a",
   "metadata": {},
   "source": [
    "Insights from this summary:\n",
    "\n",
    "* Sedentary average around 991 minutes, or 16 hours.\n",
    "* The users on this dataset are mostly lightly active.\n",
    "* Users seem to be getting on average roughly 7 hours of sleep, and they mostly sleep one time per day on average.\n",
    "*  average, these users take 7637 steps per day, which is lower than what CDC recommends on one of their research. According to a research conducted by the CDC, an adult should ideally take at least 8000 steps per day as it is associated with a 51% lower risk for all-cause mortality.\n",
    "\n",
    "I recommend Bellabeat to program their smart devices to inform users regarding the ideal total steps to be taken to their users."
   ]
  },
  {
   "cell_type": "markdown",
   "id": "cf2be5d7",
   "metadata": {},
   "source": [
    "#### Let's see if the day of the week, or weekends or weekdays, have any influence on how users are active."
   ]
  },
  {
   "cell_type": "code",
   "execution_count": 19,
   "id": "7d87031a",
   "metadata": {},
   "outputs": [
    {
     "data": {
      "text/html": [
       "<div>\n",
       "<style scoped>\n",
       "    .dataframe tbody tr th:only-of-type {\n",
       "        vertical-align: middle;\n",
       "    }\n",
       "\n",
       "    .dataframe tbody tr th {\n",
       "        vertical-align: top;\n",
       "    }\n",
       "\n",
       "    .dataframe thead th {\n",
       "        text-align: right;\n",
       "    }\n",
       "</style>\n",
       "<table border=\"1\" class=\"dataframe\">\n",
       "  <thead>\n",
       "    <tr style=\"text-align: right;\">\n",
       "      <th></th>\n",
       "      <th>FairlyActiveMinutes</th>\n",
       "      <th>LightlyActiveMinutes</th>\n",
       "      <th>SedentaryMinutes</th>\n",
       "      <th>VeryActiveMinutes</th>\n",
       "    </tr>\n",
       "    <tr>\n",
       "      <th>day_name</th>\n",
       "      <th></th>\n",
       "      <th></th>\n",
       "      <th></th>\n",
       "      <th></th>\n",
       "    </tr>\n",
       "  </thead>\n",
       "  <tbody>\n",
       "    <tr>\n",
       "      <th>Friday</th>\n",
       "      <td>12.111111</td>\n",
       "      <td>204.198413</td>\n",
       "      <td>1000.309524</td>\n",
       "      <td>20.055556</td>\n",
       "    </tr>\n",
       "    <tr>\n",
       "      <th>Monday</th>\n",
       "      <td>14.000000</td>\n",
       "      <td>192.058333</td>\n",
       "      <td>1027.941667</td>\n",
       "      <td>23.108333</td>\n",
       "    </tr>\n",
       "    <tr>\n",
       "      <th>Saturday</th>\n",
       "      <td>15.201613</td>\n",
       "      <td>207.145161</td>\n",
       "      <td>964.282258</td>\n",
       "      <td>21.919355</td>\n",
       "    </tr>\n",
       "    <tr>\n",
       "      <th>Sunday</th>\n",
       "      <td>14.528926</td>\n",
       "      <td>173.975207</td>\n",
       "      <td>990.256198</td>\n",
       "      <td>19.983471</td>\n",
       "    </tr>\n",
       "    <tr>\n",
       "      <th>Thursday</th>\n",
       "      <td>11.959184</td>\n",
       "      <td>185.421769</td>\n",
       "      <td>961.993197</td>\n",
       "      <td>19.408163</td>\n",
       "    </tr>\n",
       "    <tr>\n",
       "      <th>Tuesday</th>\n",
       "      <td>14.335526</td>\n",
       "      <td>197.342105</td>\n",
       "      <td>1007.361842</td>\n",
       "      <td>22.953947</td>\n",
       "    </tr>\n",
       "    <tr>\n",
       "      <th>Wednesday</th>\n",
       "      <td>13.100000</td>\n",
       "      <td>189.853333</td>\n",
       "      <td>989.480000</td>\n",
       "      <td>20.780000</td>\n",
       "    </tr>\n",
       "  </tbody>\n",
       "</table>\n",
       "</div>"
      ],
      "text/plain": [
       "           FairlyActiveMinutes  LightlyActiveMinutes  SedentaryMinutes  \\\n",
       "day_name                                                                 \n",
       "Friday               12.111111            204.198413       1000.309524   \n",
       "Monday               14.000000            192.058333       1027.941667   \n",
       "Saturday             15.201613            207.145161        964.282258   \n",
       "Sunday               14.528926            173.975207        990.256198   \n",
       "Thursday             11.959184            185.421769        961.993197   \n",
       "Tuesday              14.335526            197.342105       1007.361842   \n",
       "Wednesday            13.100000            189.853333        989.480000   \n",
       "\n",
       "           VeryActiveMinutes  \n",
       "day_name                      \n",
       "Friday             20.055556  \n",
       "Monday             23.108333  \n",
       "Saturday           21.919355  \n",
       "Sunday             19.983471  \n",
       "Thursday           19.408163  \n",
       "Tuesday            22.953947  \n",
       "Wednesday          20.780000  "
      ]
     },
     "execution_count": 19,
     "metadata": {},
     "output_type": "execute_result"
    }
   ],
   "source": [
    "byMinute = dailyActivity.pivot_table(\n",
    "    values = ['VeryActiveMinutes', 'FairlyActiveMinutes', 'LightlyActiveMinutes', 'SedentaryMinutes'],\n",
    "    index = 'day_name'\n",
    ")\n",
    "\n",
    "byMinute"
   ]
  },
  {
   "cell_type": "code",
   "execution_count": 20,
   "id": "0f8d41ba",
   "metadata": {},
   "outputs": [
    {
     "data": {
      "text/plain": [
       "<AxesSubplot:xlabel='day_name'>"
      ]
     },
     "execution_count": 20,
     "metadata": {},
     "output_type": "execute_result"
    },
    {
     "data": {
      "image/png": "[encoded data removed]",
      "text/plain": [
       "<Figure size 1224x504 with 1 Axes>"
      ]
     },
     "metadata": {
      "needs_background": "light"
     },
     "output_type": "display_data"
    }
   ],
   "source": [
    "byMinute.plot(kind = 'bar', figsize = [17,7])"
   ]
  },
  {
   "cell_type": "code",
   "execution_count": 21,
   "id": "4a35c060",
   "metadata": {},
   "outputs": [
    {
     "data": {
      "text/html": [
       "<div>\n",
       "<style scoped>\n",
       "    .dataframe tbody tr th:only-of-type {\n",
       "        vertical-align: middle;\n",
       "    }\n",
       "\n",
       "    .dataframe tbody tr th {\n",
       "        vertical-align: top;\n",
       "    }\n",
       "\n",
       "    .dataframe thead th {\n",
       "        text-align: right;\n",
       "    }\n",
       "</style>\n",
       "<table border=\"1\" class=\"dataframe\">\n",
       "  <thead>\n",
       "    <tr style=\"text-align: right;\">\n",
       "      <th></th>\n",
       "      <th>LightActiveDistance</th>\n",
       "      <th>ModeratelyActiveDistance</th>\n",
       "      <th>SedentaryActiveDistance</th>\n",
       "      <th>VeryActiveDistance</th>\n",
       "    </tr>\n",
       "    <tr>\n",
       "      <th>day_name</th>\n",
       "      <th></th>\n",
       "      <th></th>\n",
       "      <th></th>\n",
       "      <th></th>\n",
       "    </tr>\n",
       "  </thead>\n",
       "  <tbody>\n",
       "    <tr>\n",
       "      <th>Friday</th>\n",
       "      <td>3.489127</td>\n",
       "      <td>0.483810</td>\n",
       "      <td>0.001825</td>\n",
       "      <td>1.312937</td>\n",
       "    </tr>\n",
       "    <tr>\n",
       "      <th>Monday</th>\n",
       "      <td>3.363083</td>\n",
       "      <td>0.585833</td>\n",
       "      <td>0.002583</td>\n",
       "      <td>1.537333</td>\n",
       "    </tr>\n",
       "    <tr>\n",
       "      <th>Saturday</th>\n",
       "      <td>3.617177</td>\n",
       "      <td>0.677339</td>\n",
       "      <td>0.001048</td>\n",
       "      <td>1.514597</td>\n",
       "    </tr>\n",
       "    <tr>\n",
       "      <th>Sunday</th>\n",
       "      <td>2.892314</td>\n",
       "      <td>0.618017</td>\n",
       "      <td>0.000661</td>\n",
       "      <td>1.488926</td>\n",
       "    </tr>\n",
       "    <tr>\n",
       "      <th>Thursday</th>\n",
       "      <td>3.283129</td>\n",
       "      <td>0.505170</td>\n",
       "      <td>0.002313</td>\n",
       "      <td>1.390476</td>\n",
       "    </tr>\n",
       "    <tr>\n",
       "      <th>Tuesday</th>\n",
       "      <td>3.471053</td>\n",
       "      <td>0.593026</td>\n",
       "      <td>0.001447</td>\n",
       "      <td>1.613289</td>\n",
       "    </tr>\n",
       "    <tr>\n",
       "      <th>Wednesday</th>\n",
       "      <td>3.256333</td>\n",
       "      <td>0.527067</td>\n",
       "      <td>0.001333</td>\n",
       "      <td>1.633467</td>\n",
       "    </tr>\n",
       "  </tbody>\n",
       "</table>\n",
       "</div>"
      ],
      "text/plain": [
       "           LightActiveDistance  ModeratelyActiveDistance  \\\n",
       "day_name                                                   \n",
       "Friday                3.489127                  0.483810   \n",
       "Monday                3.363083                  0.585833   \n",
       "Saturday              3.617177                  0.677339   \n",
       "Sunday                2.892314                  0.618017   \n",
       "Thursday              3.283129                  0.505170   \n",
       "Tuesday               3.471053                  0.593026   \n",
       "Wednesday             3.256333                  0.527067   \n",
       "\n",
       "           SedentaryActiveDistance  VeryActiveDistance  \n",
       "day_name                                                \n",
       "Friday                    0.001825            1.312937  \n",
       "Monday                    0.002583            1.537333  \n",
       "Saturday                  0.001048            1.514597  \n",
       "Sunday                    0.000661            1.488926  \n",
       "Thursday                  0.002313            1.390476  \n",
       "Tuesday                   0.001447            1.613289  \n",
       "Wednesday                 0.001333            1.633467  "
      ]
     },
     "execution_count": 21,
     "metadata": {},
     "output_type": "execute_result"
    }
   ],
   "source": [
    "byDistance = dailyActivity.pivot_table(\n",
    "    values = ['VeryActiveDistance', 'ModeratelyActiveDistance', 'LightActiveDistance', 'SedentaryActiveDistance'],\n",
    "    index = 'day_name'\n",
    ")\n",
    "\n",
    "byDistance"
   ]
  },
  {
   "cell_type": "code",
   "execution_count": 22,
   "id": "df0a6385",
   "metadata": {},
   "outputs": [
    {
     "data": {
      "text/plain": [
       "<AxesSubplot:xlabel='day_name'>"
      ]
     },
     "execution_count": 22,
     "metadata": {},
     "output_type": "execute_result"
    },
    {
     "data": {
      "image/png": "[encoded data removed]",
      "text/plain": [
       "<Figure size 1224x504 with 1 Axes>"
      ]
     },
     "metadata": {
      "needs_background": "light"
     },
     "output_type": "display_data"
    }
   ],
   "source": [
    "byDistance.plot(kind = 'bar', figsize = [17,7])"
   ]
  },
  {
   "cell_type": "markdown",
   "id": "385a3777",
   "metadata": {},
   "source": [
    "## The most active based on the type of activity (Fairly, Lightly, etc)"
   ]
  },
  {
   "cell_type": "code",
   "execution_count": 23,
   "id": "35a30026",
   "metadata": {},
   "outputs": [
    {
     "data": {
      "text/plain": [
       "FairlyActiveMinutes     Saturday\n",
       "LightlyActiveMinutes    Saturday\n",
       "SedentaryMinutes          Monday\n",
       "VeryActiveMinutes         Monday\n",
       "dtype: object"
      ]
     },
     "execution_count": 23,
     "metadata": {},
     "output_type": "execute_result"
    }
   ],
   "source": [
    "byMinute.idxmax()"
   ]
  },
  {
   "cell_type": "markdown",
   "id": "60f504b2",
   "metadata": {},
   "source": [
    "## The least active based on the type of activity (Fairly, Lightly, etc)"
   ]
  },
  {
   "cell_type": "code",
   "execution_count": 24,
   "id": "fc08b64a",
   "metadata": {},
   "outputs": [
    {
     "data": {
      "text/plain": [
       "FairlyActiveMinutes     Thursday\n",
       "LightlyActiveMinutes      Sunday\n",
       "SedentaryMinutes        Thursday\n",
       "VeryActiveMinutes       Thursday\n",
       "dtype: object"
      ]
     },
     "execution_count": 24,
     "metadata": {},
     "output_type": "execute_result"
    }
   ],
   "source": [
    "byMinute.idxmin()"
   ]
  },
  {
   "cell_type": "markdown",
   "id": "e79ef00e",
   "metadata": {},
   "source": [
    "## The most active based on distance"
   ]
  },
  {
   "cell_type": "code",
   "execution_count": 25,
   "id": "a0c5dcff",
   "metadata": {},
   "outputs": [
    {
     "data": {
      "text/plain": [
       "LightActiveDistance          Saturday\n",
       "ModeratelyActiveDistance     Saturday\n",
       "SedentaryActiveDistance        Monday\n",
       "VeryActiveDistance          Wednesday\n",
       "dtype: object"
      ]
     },
     "execution_count": 25,
     "metadata": {},
     "output_type": "execute_result"
    }
   ],
   "source": [
    "byDistance.idxmax()"
   ]
  },
  {
   "cell_type": "markdown",
   "id": "d6e4e968",
   "metadata": {},
   "source": [
    "## The least active based on distance"
   ]
  },
  {
   "cell_type": "code",
   "execution_count": 26,
   "id": "43dca25c",
   "metadata": {},
   "outputs": [
    {
     "data": {
      "text/plain": [
       "LightActiveDistance         Sunday\n",
       "ModeratelyActiveDistance    Friday\n",
       "SedentaryActiveDistance     Sunday\n",
       "VeryActiveDistance          Friday\n",
       "dtype: object"
      ]
     },
     "execution_count": 26,
     "metadata": {},
     "output_type": "execute_result"
    }
   ],
   "source": [
    "byDistance.idxmin()"
   ]
  },
  {
   "cell_type": "markdown",
   "id": "b9e1796a",
   "metadata": {},
   "source": [
    "##### If compared based on the days of the week, \n",
    "###### Monday seems to be the least active day on average based on the sedentary being the highest in both in terms of minutes and distance. \n",
    "###### Based on the data, Saturday seems be the day that users did the most exercise lightly or moderately (accounting both the distance and minute on average)"
   ]
  },
  {
   "cell_type": "markdown",
   "id": "25589f01",
   "metadata": {},
   "source": [
    "### Conclusion 1\n",
    "\n",
    "###### However, based on the above visualizations and summary data, I can't really draw a solid conclusion. For now, I hyphothesize that users are probably most active on Saturdays."
   ]
  },
  {
   "cell_type": "markdown",
   "id": "56323304",
   "metadata": {},
   "source": [
    "### What factors contribute to the highest calorie burns?"
   ]
  },
  {
   "cell_type": "code",
   "execution_count": 27,
   "id": "9cd57376",
   "metadata": {},
   "outputs": [
    {
     "data": {
      "text/html": [
       "<div>\n",
       "<style scoped>\n",
       "    .dataframe tbody tr th:only-of-type {\n",
       "        vertical-align: middle;\n",
       "    }\n",
       "\n",
       "    .dataframe tbody tr th {\n",
       "        vertical-align: top;\n",
       "    }\n",
       "\n",
       "    .dataframe thead th {\n",
       "        text-align: right;\n",
       "    }\n",
       "</style>\n",
       "<table border=\"1\" class=\"dataframe\">\n",
       "  <thead>\n",
       "    <tr style=\"text-align: right;\">\n",
       "      <th></th>\n",
       "      <th>Calories</th>\n",
       "    </tr>\n",
       "    <tr>\n",
       "      <th>day_name</th>\n",
       "      <th></th>\n",
       "    </tr>\n",
       "  </thead>\n",
       "  <tbody>\n",
       "    <tr>\n",
       "      <th>Friday</th>\n",
       "      <td>2331.785714</td>\n",
       "    </tr>\n",
       "    <tr>\n",
       "      <th>Monday</th>\n",
       "      <td>2324.208333</td>\n",
       "    </tr>\n",
       "    <tr>\n",
       "      <th>Saturday</th>\n",
       "      <td>2354.967742</td>\n",
       "    </tr>\n",
       "    <tr>\n",
       "      <th>Sunday</th>\n",
       "      <td>2263.000000</td>\n",
       "    </tr>\n",
       "    <tr>\n",
       "      <th>Thursday</th>\n",
       "      <td>2199.571429</td>\n",
       "    </tr>\n",
       "    <tr>\n",
       "      <th>Tuesday</th>\n",
       "      <td>2356.013158</td>\n",
       "    </tr>\n",
       "    <tr>\n",
       "      <th>Wednesday</th>\n",
       "      <td>2302.620000</td>\n",
       "    </tr>\n",
       "  </tbody>\n",
       "</table>\n",
       "</div>"
      ],
      "text/plain": [
       "              Calories\n",
       "day_name              \n",
       "Friday     2331.785714\n",
       "Monday     2324.208333\n",
       "Saturday   2354.967742\n",
       "Sunday     2263.000000\n",
       "Thursday   2199.571429\n",
       "Tuesday    2356.013158\n",
       "Wednesday  2302.620000"
      ]
     },
     "execution_count": 27,
     "metadata": {},
     "output_type": "execute_result"
    }
   ],
   "source": [
    "caloriesGrouped = dailyActivity.pivot_table(\n",
    "    values = 'Calories',\n",
    "    index = 'day_name'\n",
    ")\n",
    "\n",
    "caloriesGrouped"
   ]
  },
  {
   "cell_type": "markdown",
   "id": "fc6f1e95",
   "metadata": {},
   "source": [
    "Based on the summary data, it would seem that people burn the least calorie on Thursdays on average, whereas Tuesday is has the most calories burned on average."
   ]
  },
  {
   "cell_type": "markdown",
   "id": "6dc6f36c",
   "metadata": {},
   "source": [
    "#### Let's analyze steps taken vs calories burned"
   ]
  },
  {
   "cell_type": "code",
   "execution_count": 28,
   "id": "9e546a37",
   "metadata": {},
   "outputs": [
    {
     "data": {
      "text/plain": [
       "Text(0.5, 1.0, 'Relationship Between Total Steps Taken and Calories Burned')"
      ]
     },
     "execution_count": 28,
     "metadata": {},
     "output_type": "execute_result"
    },
    {
     "data": {
      "image/png": "[encoded data removed]",
      "text/plain": [
       "<Figure size 1080x720 with 1 Axes>"
      ]
     },
     "metadata": {
      "needs_background": "light"
     },
     "output_type": "display_data"
    }
   ],
   "source": [
    "fig_dims = (15, 10)\n",
    "fig, ax = plt.subplots(figsize=fig_dims)\n",
    "\n",
    "sns.set_style(\"darkgrid\")\n",
    "reg = sns.regplot(\n",
    "    data = dailyActivity,\n",
    "    x = 'TotalSteps',\n",
    "    y = 'Calories',\n",
    "    ax = ax,\n",
    "    color = 'blue'\n",
    ")\n",
    "\n",
    "reg.set_title('Relationship Between Total Steps Taken and Calories Burned')"
   ]
  },
  {
   "cell_type": "markdown",
   "id": "d991ef17",
   "metadata": {},
   "source": [
    "There's a positive relationship between these total steps taken and calories burned. The more steps that were taken on a particular day, the more calories were burned. I guess this was probably very obvious as the more we move our bodies, we tend to burn more calories."
   ]
  },
  {
   "cell_type": "markdown",
   "id": "190f3a00",
   "metadata": {},
   "source": [
    "#### How does the data vary from weekends and weekdays?"
   ]
  },
  {
   "cell_type": "markdown",
   "id": "4e3bb4c7",
   "metadata": {},
   "source": [
    "##### I will now inner join between the sleepDay and dailyActivity dataset in order to analyze the users' sleeping behaviours."
   ]
  },
  {
   "cell_type": "code",
   "execution_count": 29,
   "id": "ee2e46b9",
   "metadata": {},
   "outputs": [],
   "source": [
    "# Ensuring proper formatting and creating a new column in order to assist in the joining process\n",
    "sleepDay['SleepDay'] = pd.to_datetime(sleepDay['SleepDay'])\n",
    "sleepDay['date'] = pd.to_datetime(sleepDay['SleepDay'])\n",
    "dailyActivity['date'] = pd.to_datetime(dailyActivity['ActivityDate'])\n",
    "\n",
    "# sleepDay[['TotalSleepRecords', 'TotalMinutesAsleep', 'TotalTimeInBed']]\n",
    "\n",
    "#join sleep data with daily activity\n",
    "joinedDf = dailyActivity.merge(sleepDay, on = ['Id', 'date'])"
   ]
  },
  {
   "cell_type": "code",
   "execution_count": 30,
   "id": "9ac7acc2",
   "metadata": {},
   "outputs": [
    {
     "data": {
      "text/html": [
       "<div>\n",
       "<style scoped>\n",
       "    .dataframe tbody tr th:only-of-type {\n",
       "        vertical-align: middle;\n",
       "    }\n",
       "\n",
       "    .dataframe tbody tr th {\n",
       "        vertical-align: top;\n",
       "    }\n",
       "\n",
       "    .dataframe thead th {\n",
       "        text-align: right;\n",
       "    }\n",
       "</style>\n",
       "<table border=\"1\" class=\"dataframe\">\n",
       "  <thead>\n",
       "    <tr style=\"text-align: right;\">\n",
       "      <th></th>\n",
       "      <th>Id</th>\n",
       "      <th>ActivityDate</th>\n",
       "      <th>TotalSteps</th>\n",
       "      <th>TotalDistance</th>\n",
       "      <th>TrackerDistance</th>\n",
       "      <th>LoggedActivitiesDistance</th>\n",
       "      <th>VeryActiveDistance</th>\n",
       "      <th>ModeratelyActiveDistance</th>\n",
       "      <th>LightActiveDistance</th>\n",
       "      <th>SedentaryActiveDistance</th>\n",
       "      <th>...</th>\n",
       "      <th>LightlyActiveMinutes</th>\n",
       "      <th>SedentaryMinutes</th>\n",
       "      <th>Calories</th>\n",
       "      <th>day_name</th>\n",
       "      <th>weekend_weekday</th>\n",
       "      <th>date</th>\n",
       "      <th>SleepDay</th>\n",
       "      <th>TotalSleepRecords</th>\n",
       "      <th>TotalMinutesAsleep</th>\n",
       "      <th>TotalTimeInBed</th>\n",
       "    </tr>\n",
       "  </thead>\n",
       "  <tbody>\n",
       "    <tr>\n",
       "      <th>0</th>\n",
       "      <td>1503960366</td>\n",
       "      <td>2016-04-12</td>\n",
       "      <td>13162</td>\n",
       "      <td>8.50</td>\n",
       "      <td>8.50</td>\n",
       "      <td>0.0</td>\n",
       "      <td>1.88</td>\n",
       "      <td>0.55</td>\n",
       "      <td>6.06</td>\n",
       "      <td>0.0</td>\n",
       "      <td>...</td>\n",
       "      <td>328</td>\n",
       "      <td>728</td>\n",
       "      <td>1985</td>\n",
       "      <td>Tuesday</td>\n",
       "      <td>Weekday</td>\n",
       "      <td>2016-04-12</td>\n",
       "      <td>2016-04-12</td>\n",
       "      <td>1</td>\n",
       "      <td>327</td>\n",
       "      <td>346</td>\n",
       "    </tr>\n",
       "    <tr>\n",
       "      <th>1</th>\n",
       "      <td>1503960366</td>\n",
       "      <td>2016-04-13</td>\n",
       "      <td>10735</td>\n",
       "      <td>6.97</td>\n",
       "      <td>6.97</td>\n",
       "      <td>0.0</td>\n",
       "      <td>1.57</td>\n",
       "      <td>0.69</td>\n",
       "      <td>4.71</td>\n",
       "      <td>0.0</td>\n",
       "      <td>...</td>\n",
       "      <td>217</td>\n",
       "      <td>776</td>\n",
       "      <td>1797</td>\n",
       "      <td>Wednesday</td>\n",
       "      <td>Weekday</td>\n",
       "      <td>2016-04-13</td>\n",
       "      <td>2016-04-13</td>\n",
       "      <td>2</td>\n",
       "      <td>384</td>\n",
       "      <td>407</td>\n",
       "    </tr>\n",
       "    <tr>\n",
       "      <th>2</th>\n",
       "      <td>1503960366</td>\n",
       "      <td>2016-04-15</td>\n",
       "      <td>9762</td>\n",
       "      <td>6.28</td>\n",
       "      <td>6.28</td>\n",
       "      <td>0.0</td>\n",
       "      <td>2.14</td>\n",
       "      <td>1.26</td>\n",
       "      <td>2.83</td>\n",
       "      <td>0.0</td>\n",
       "      <td>...</td>\n",
       "      <td>209</td>\n",
       "      <td>726</td>\n",
       "      <td>1745</td>\n",
       "      <td>Friday</td>\n",
       "      <td>Weekday</td>\n",
       "      <td>2016-04-15</td>\n",
       "      <td>2016-04-15</td>\n",
       "      <td>1</td>\n",
       "      <td>412</td>\n",
       "      <td>442</td>\n",
       "    </tr>\n",
       "    <tr>\n",
       "      <th>3</th>\n",
       "      <td>1503960366</td>\n",
       "      <td>2016-04-16</td>\n",
       "      <td>12669</td>\n",
       "      <td>8.16</td>\n",
       "      <td>8.16</td>\n",
       "      <td>0.0</td>\n",
       "      <td>2.71</td>\n",
       "      <td>0.41</td>\n",
       "      <td>5.04</td>\n",
       "      <td>0.0</td>\n",
       "      <td>...</td>\n",
       "      <td>221</td>\n",
       "      <td>773</td>\n",
       "      <td>1863</td>\n",
       "      <td>Saturday</td>\n",
       "      <td>Weekend</td>\n",
       "      <td>2016-04-16</td>\n",
       "      <td>2016-04-16</td>\n",
       "      <td>2</td>\n",
       "      <td>340</td>\n",
       "      <td>367</td>\n",
       "    </tr>\n",
       "    <tr>\n",
       "      <th>4</th>\n",
       "      <td>1503960366</td>\n",
       "      <td>2016-04-17</td>\n",
       "      <td>9705</td>\n",
       "      <td>6.48</td>\n",
       "      <td>6.48</td>\n",
       "      <td>0.0</td>\n",
       "      <td>3.19</td>\n",
       "      <td>0.78</td>\n",
       "      <td>2.51</td>\n",
       "      <td>0.0</td>\n",
       "      <td>...</td>\n",
       "      <td>164</td>\n",
       "      <td>539</td>\n",
       "      <td>1728</td>\n",
       "      <td>Sunday</td>\n",
       "      <td>Weekend</td>\n",
       "      <td>2016-04-17</td>\n",
       "      <td>2016-04-17</td>\n",
       "      <td>1</td>\n",
       "      <td>700</td>\n",
       "      <td>712</td>\n",
       "    </tr>\n",
       "  </tbody>\n",
       "</table>\n",
       "<p>5 rows × 22 columns</p>\n",
       "</div>"
      ],
      "text/plain": [
       "           Id ActivityDate  TotalSteps  TotalDistance  TrackerDistance  \\\n",
       "0  1503960366   2016-04-12       13162           8.50             8.50   \n",
       "1  1503960366   2016-04-13       10735           6.97             6.97   \n",
       "2  1503960366   2016-04-15        9762           6.28             6.28   \n",
       "3  1503960366   2016-04-16       12669           8.16             8.16   \n",
       "4  1503960366   2016-04-17        9705           6.48             6.48   \n",
       "\n",
       "   LoggedActivitiesDistance  VeryActiveDistance  ModeratelyActiveDistance  \\\n",
       "0                       0.0                1.88                      0.55   \n",
       "1                       0.0                1.57                      0.69   \n",
       "2                       0.0                2.14                      1.26   \n",
       "3                       0.0                2.71                      0.41   \n",
       "4                       0.0                3.19                      0.78   \n",
       "\n",
       "   LightActiveDistance  SedentaryActiveDistance  ...  LightlyActiveMinutes  \\\n",
       "0                 6.06                      0.0  ...                   328   \n",
       "1                 4.71                      0.0  ...                   217   \n",
       "2                 2.83                      0.0  ...                   209   \n",
       "3                 5.04                      0.0  ...                   221   \n",
       "4                 2.51                      0.0  ...                   164   \n",
       "\n",
       "   SedentaryMinutes  Calories   day_name  weekend_weekday       date  \\\n",
       "0               728      1985    Tuesday          Weekday 2016-04-12   \n",
       "1               776      1797  Wednesday          Weekday 2016-04-13   \n",
       "2               726      1745     Friday          Weekday 2016-04-15   \n",
       "3               773      1863   Saturday          Weekend 2016-04-16   \n",
       "4               539      1728     Sunday          Weekend 2016-04-17   \n",
       "\n",
       "    SleepDay TotalSleepRecords TotalMinutesAsleep  TotalTimeInBed  \n",
       "0 2016-04-12                 1                327             346  \n",
       "1 2016-04-13                 2                384             407  \n",
       "2 2016-04-15                 1                412             442  \n",
       "3 2016-04-16                 2                340             367  \n",
       "4 2016-04-17                 1                700             712  \n",
       "\n",
       "[5 rows x 22 columns]"
      ]
     },
     "execution_count": 30,
     "metadata": {},
     "output_type": "execute_result"
    }
   ],
   "source": [
    "joinedDf.head()"
   ]
  },
  {
   "cell_type": "code",
   "execution_count": 31,
   "id": "4b1b2357",
   "metadata": {},
   "outputs": [
    {
     "data": {
      "text/html": [
       "<div>\n",
       "<style scoped>\n",
       "    .dataframe tbody tr th:only-of-type {\n",
       "        vertical-align: middle;\n",
       "    }\n",
       "\n",
       "    .dataframe tbody tr th {\n",
       "        vertical-align: top;\n",
       "    }\n",
       "\n",
       "    .dataframe thead th {\n",
       "        text-align: right;\n",
       "    }\n",
       "</style>\n",
       "<table border=\"1\" class=\"dataframe\">\n",
       "  <thead>\n",
       "    <tr style=\"text-align: right;\">\n",
       "      <th></th>\n",
       "      <th>count</th>\n",
       "      <th>mean</th>\n",
       "      <th>std</th>\n",
       "      <th>min</th>\n",
       "      <th>25%</th>\n",
       "      <th>50%</th>\n",
       "      <th>75%</th>\n",
       "      <th>max</th>\n",
       "    </tr>\n",
       "    <tr>\n",
       "      <th>weekend_weekday</th>\n",
       "      <th></th>\n",
       "      <th></th>\n",
       "      <th></th>\n",
       "      <th></th>\n",
       "      <th></th>\n",
       "      <th></th>\n",
       "      <th></th>\n",
       "      <th></th>\n",
       "    </tr>\n",
       "  </thead>\n",
       "  <tbody>\n",
       "    <tr>\n",
       "      <th>Weekday</th>\n",
       "      <td>695.0</td>\n",
       "      <td>2301.516547</td>\n",
       "      <td>704.675507</td>\n",
       "      <td>0.0</td>\n",
       "      <td>1841.0</td>\n",
       "      <td>2159.0</td>\n",
       "      <td>2799.5</td>\n",
       "      <td>4900.0</td>\n",
       "    </tr>\n",
       "    <tr>\n",
       "      <th>Weekend</th>\n",
       "      <td>245.0</td>\n",
       "      <td>2309.546939</td>\n",
       "      <td>756.589860</td>\n",
       "      <td>0.0</td>\n",
       "      <td>1792.0</td>\n",
       "      <td>2096.0</td>\n",
       "      <td>2739.0</td>\n",
       "      <td>4552.0</td>\n",
       "    </tr>\n",
       "  </tbody>\n",
       "</table>\n",
       "</div>"
      ],
      "text/plain": [
       "                 count         mean         std  min     25%     50%     75%  \\\n",
       "weekend_weekday                                                                \n",
       "Weekday          695.0  2301.516547  704.675507  0.0  1841.0  2159.0  2799.5   \n",
       "Weekend          245.0  2309.546939  756.589860  0.0  1792.0  2096.0  2739.0   \n",
       "\n",
       "                    max  \n",
       "weekend_weekday          \n",
       "Weekday          4900.0  \n",
       "Weekend          4552.0  "
      ]
     },
     "execution_count": 31,
     "metadata": {},
     "output_type": "execute_result"
    }
   ],
   "source": [
    "#Calories burned between weekdays and weekends\n",
    "dailyActivity.groupby('weekend_weekday')['Calories'].describe()"
   ]
  },
  {
   "cell_type": "code",
   "execution_count": 32,
   "id": "85434bd3",
   "metadata": {},
   "outputs": [
    {
     "data": {
      "text/html": [
       "<div>\n",
       "<style scoped>\n",
       "    .dataframe tbody tr th:only-of-type {\n",
       "        vertical-align: middle;\n",
       "    }\n",
       "\n",
       "    .dataframe tbody tr th {\n",
       "        vertical-align: top;\n",
       "    }\n",
       "\n",
       "    .dataframe thead tr th {\n",
       "        text-align: left;\n",
       "    }\n",
       "\n",
       "    .dataframe thead tr:last-of-type th {\n",
       "        text-align: right;\n",
       "    }\n",
       "</style>\n",
       "<table border=\"1\" class=\"dataframe\">\n",
       "  <thead>\n",
       "    <tr>\n",
       "      <th></th>\n",
       "      <th colspan=\"8\" halign=\"left\">TotalSleepRecords</th>\n",
       "      <th colspan=\"5\" halign=\"left\">TotalMinutesAsleep</th>\n",
       "      <th colspan=\"8\" halign=\"left\">TotalTimeInBed</th>\n",
       "    </tr>\n",
       "    <tr>\n",
       "      <th></th>\n",
       "      <th>count</th>\n",
       "      <th>mean</th>\n",
       "      <th>std</th>\n",
       "      <th>min</th>\n",
       "      <th>25%</th>\n",
       "      <th>50%</th>\n",
       "      <th>75%</th>\n",
       "      <th>max</th>\n",
       "      <th>count</th>\n",
       "      <th>mean</th>\n",
       "      <th>...</th>\n",
       "      <th>75%</th>\n",
       "      <th>max</th>\n",
       "      <th>count</th>\n",
       "      <th>mean</th>\n",
       "      <th>std</th>\n",
       "      <th>min</th>\n",
       "      <th>25%</th>\n",
       "      <th>50%</th>\n",
       "      <th>75%</th>\n",
       "      <th>max</th>\n",
       "    </tr>\n",
       "    <tr>\n",
       "      <th>weekend_weekday</th>\n",
       "      <th></th>\n",
       "      <th></th>\n",
       "      <th></th>\n",
       "      <th></th>\n",
       "      <th></th>\n",
       "      <th></th>\n",
       "      <th></th>\n",
       "      <th></th>\n",
       "      <th></th>\n",
       "      <th></th>\n",
       "      <th></th>\n",
       "      <th></th>\n",
       "      <th></th>\n",
       "      <th></th>\n",
       "      <th></th>\n",
       "      <th></th>\n",
       "      <th></th>\n",
       "      <th></th>\n",
       "      <th></th>\n",
       "      <th></th>\n",
       "      <th></th>\n",
       "    </tr>\n",
       "  </thead>\n",
       "  <tbody>\n",
       "    <tr>\n",
       "      <th>Weekday</th>\n",
       "      <td>300.0</td>\n",
       "      <td>1.093333</td>\n",
       "      <td>0.313501</td>\n",
       "      <td>1.0</td>\n",
       "      <td>1.0</td>\n",
       "      <td>1.0</td>\n",
       "      <td>1.0</td>\n",
       "      <td>3.0</td>\n",
       "      <td>300.0</td>\n",
       "      <td>413.106667</td>\n",
       "      <td>...</td>\n",
       "      <td>472.5</td>\n",
       "      <td>796.0</td>\n",
       "      <td>300.0</td>\n",
       "      <td>449.903333</td>\n",
       "      <td>108.342949</td>\n",
       "      <td>65.0</td>\n",
       "      <td>406.0</td>\n",
       "      <td>458.0</td>\n",
       "      <td>506.0</td>\n",
       "      <td>961.0</td>\n",
       "    </tr>\n",
       "    <tr>\n",
       "      <th>Weekend</th>\n",
       "      <td>113.0</td>\n",
       "      <td>1.185841</td>\n",
       "      <td>0.412931</td>\n",
       "      <td>1.0</td>\n",
       "      <td>1.0</td>\n",
       "      <td>1.0</td>\n",
       "      <td>1.0</td>\n",
       "      <td>3.0</td>\n",
       "      <td>113.0</td>\n",
       "      <td>436.353982</td>\n",
       "      <td>...</td>\n",
       "      <td>530.0</td>\n",
       "      <td>775.0</td>\n",
       "      <td>113.0</td>\n",
       "      <td>481.831858</td>\n",
       "      <td>165.356428</td>\n",
       "      <td>61.0</td>\n",
       "      <td>402.0</td>\n",
       "      <td>501.0</td>\n",
       "      <td>575.0</td>\n",
       "      <td>961.0</td>\n",
       "    </tr>\n",
       "  </tbody>\n",
       "</table>\n",
       "<p>2 rows × 24 columns</p>\n",
       "</div>"
      ],
      "text/plain": [
       "                TotalSleepRecords                                          \\\n",
       "                            count      mean       std  min  25%  50%  75%   \n",
       "weekend_weekday                                                             \n",
       "Weekday                     300.0  1.093333  0.313501  1.0  1.0  1.0  1.0   \n",
       "Weekend                     113.0  1.185841  0.412931  1.0  1.0  1.0  1.0   \n",
       "\n",
       "                     TotalMinutesAsleep              ...                \\\n",
       "                 max              count        mean  ...    75%    max   \n",
       "weekend_weekday                                      ...                 \n",
       "Weekday          3.0              300.0  413.106667  ...  472.5  796.0   \n",
       "Weekend          3.0              113.0  436.353982  ...  530.0  775.0   \n",
       "\n",
       "                TotalTimeInBed                                              \\\n",
       "                         count        mean         std   min    25%    50%   \n",
       "weekend_weekday                                                              \n",
       "Weekday                  300.0  449.903333  108.342949  65.0  406.0  458.0   \n",
       "Weekend                  113.0  481.831858  165.356428  61.0  402.0  501.0   \n",
       "\n",
       "                               \n",
       "                   75%    max  \n",
       "weekend_weekday                \n",
       "Weekday          506.0  961.0  \n",
       "Weekend          575.0  961.0  \n",
       "\n",
       "[2 rows x 24 columns]"
      ]
     },
     "execution_count": 32,
     "metadata": {},
     "output_type": "execute_result"
    }
   ],
   "source": [
    "#Sleep quality between weekdays and weekends\n",
    "joinedDf.groupby('weekend_weekday')[['TotalSleepRecords', 'TotalMinutesAsleep', 'TotalTimeInBed']].describe()"
   ]
  },
  {
   "cell_type": "markdown",
   "id": "fb5a096a",
   "metadata": {},
   "source": [
    "### Based on this data, it seems that the users have a much better sleep quality on average on the weekends. Also, it seems that they burned more calories on the weekends as well, which further confirms my earlier hypothesis that saturdays are the most popular day for users to engage in physical exercises"
   ]
  },
  {
   "cell_type": "code",
   "execution_count": 33,
   "id": "000cb1d4",
   "metadata": {},
   "outputs": [
    {
     "data": {
      "image/png": "[encoded data removed]",
      "text/plain": [
       "<Figure size 1100.12x504 with 2 Axes>"
      ]
     },
     "metadata": {},
     "output_type": "display_data"
    }
   ],
   "source": [
    "sleep = sns.relplot(\n",
    "    data = joinedDf, \n",
    "    x = 'TotalMinutesAsleep',\n",
    "    y = 'TotalTimeInBed',\n",
    "    col = 'weekend_weekday',\n",
    "    hue = 'TotalSleepRecords',\n",
    "    height = 7\n",
    ")\n",
    "\n",
    "sleep.fig.suptitle('Total Minutes Asleep Vs Total Time in Bed',  y = 1.03)\n",
    "sleep.set_titles(\"Week: {col_name}\")\n",
    "plt.show()"
   ]
  },
  {
   "cell_type": "markdown",
   "id": "2009a91c",
   "metadata": {},
   "source": [
    "##### Both display a positive relationship. I guess it's common sense that the longer you stay in bed, the more likely you will fall into sleep. Let's analyze this in another way.\n",
    "##### Based on a study here, healthy adults are suggested to sleep between 7-9 hours. Therefore, I will categorized those who slept below 7 as Bad Sleepers, those who slept beyond 9 hours Oversleepers, and those between 7 and 9 hours as normal"
   ]
  },
  {
   "cell_type": "code",
   "execution_count": 34,
   "id": "5449a964",
   "metadata": {},
   "outputs": [],
   "source": [
    "# convert to proper minutes\n",
    "sleepDay['TotalMinutesAsleep'] = pd.to_timedelta(sleepDay['TotalMinutesAsleep'], unit = 'm')\n",
    "sleepDay['TotalMinutesAsleep'] = sleepDay['TotalMinutesAsleep'].astype('timedelta64[m]')\n",
    "\n",
    "#convert to hours\n",
    "sleepDay['TotalHoursAsleep'] = sleepDay['TotalMinutesAsleep'] / 60\n",
    "\n",
    "# round to nearest hundreths \n",
    "sleepDay['TotalHoursAsleep'] = sleepDay['TotalHoursAsleep'].round(2)\n"
   ]
  },
  {
   "cell_type": "code",
   "execution_count": 35,
   "id": "915293ac",
   "metadata": {},
   "outputs": [
    {
     "data": {
      "text/plain": [
       "0         Bad Sleepers\n",
       "1         Bad Sleepers\n",
       "2         Bad Sleepers\n",
       "3         Bad Sleepers\n",
       "4         Oversleepers\n",
       "            ...       \n",
       "408       Bad Sleepers\n",
       "409    Normal Sleepers\n",
       "410       Bad Sleepers\n",
       "411    Normal Sleepers\n",
       "412    Normal Sleepers\n",
       "Name: SleepStatus, Length: 413, dtype: object"
      ]
     },
     "execution_count": 35,
     "metadata": {},
     "output_type": "execute_result"
    }
   ],
   "source": [
    "#add the sleep status\n",
    "\n",
    "sleepDay['SleepStatus'] = np.where(sleepDay['TotalHoursAsleep'] < 7, 'Bad Sleepers', \n",
    "         (np.where( sleepDay['TotalHoursAsleep'] > 9, 'Oversleepers', 'Normal Sleepers'))\n",
    "        ) \n",
    "sleepDay['SleepStatus']"
   ]
  },
  {
   "cell_type": "code",
   "execution_count": 36,
   "id": "0461d7f5",
   "metadata": {},
   "outputs": [
    {
     "data": {
      "text/html": [
       "<div>\n",
       "<style scoped>\n",
       "    .dataframe tbody tr th:only-of-type {\n",
       "        vertical-align: middle;\n",
       "    }\n",
       "\n",
       "    .dataframe tbody tr th {\n",
       "        vertical-align: top;\n",
       "    }\n",
       "\n",
       "    .dataframe thead th {\n",
       "        text-align: right;\n",
       "    }\n",
       "</style>\n",
       "<table border=\"1\" class=\"dataframe\">\n",
       "  <thead>\n",
       "    <tr style=\"text-align: right;\">\n",
       "      <th></th>\n",
       "      <th>Id</th>\n",
       "      <th>SleepDay</th>\n",
       "      <th>TotalSleepRecords</th>\n",
       "      <th>TotalMinutesAsleep</th>\n",
       "      <th>TotalTimeInBed</th>\n",
       "      <th>date</th>\n",
       "      <th>TotalHoursAsleep</th>\n",
       "      <th>SleepStatus</th>\n",
       "      <th>day_name</th>\n",
       "      <th>weekend_weekday</th>\n",
       "    </tr>\n",
       "  </thead>\n",
       "  <tbody>\n",
       "    <tr>\n",
       "      <th>0</th>\n",
       "      <td>1503960366</td>\n",
       "      <td>2016-04-12</td>\n",
       "      <td>1</td>\n",
       "      <td>327.0</td>\n",
       "      <td>346</td>\n",
       "      <td>2016-04-12</td>\n",
       "      <td>5.45</td>\n",
       "      <td>Bad Sleepers</td>\n",
       "      <td>Tuesday</td>\n",
       "      <td>Weekday</td>\n",
       "    </tr>\n",
       "    <tr>\n",
       "      <th>1</th>\n",
       "      <td>1503960366</td>\n",
       "      <td>2016-04-13</td>\n",
       "      <td>2</td>\n",
       "      <td>384.0</td>\n",
       "      <td>407</td>\n",
       "      <td>2016-04-13</td>\n",
       "      <td>6.40</td>\n",
       "      <td>Bad Sleepers</td>\n",
       "      <td>Wednesday</td>\n",
       "      <td>Weekday</td>\n",
       "    </tr>\n",
       "    <tr>\n",
       "      <th>2</th>\n",
       "      <td>1503960366</td>\n",
       "      <td>2016-04-15</td>\n",
       "      <td>1</td>\n",
       "      <td>412.0</td>\n",
       "      <td>442</td>\n",
       "      <td>2016-04-15</td>\n",
       "      <td>6.87</td>\n",
       "      <td>Bad Sleepers</td>\n",
       "      <td>Friday</td>\n",
       "      <td>Weekday</td>\n",
       "    </tr>\n",
       "    <tr>\n",
       "      <th>3</th>\n",
       "      <td>1503960366</td>\n",
       "      <td>2016-04-16</td>\n",
       "      <td>2</td>\n",
       "      <td>340.0</td>\n",
       "      <td>367</td>\n",
       "      <td>2016-04-16</td>\n",
       "      <td>5.67</td>\n",
       "      <td>Bad Sleepers</td>\n",
       "      <td>Saturday</td>\n",
       "      <td>Weekend</td>\n",
       "    </tr>\n",
       "    <tr>\n",
       "      <th>4</th>\n",
       "      <td>1503960366</td>\n",
       "      <td>2016-04-17</td>\n",
       "      <td>1</td>\n",
       "      <td>700.0</td>\n",
       "      <td>712</td>\n",
       "      <td>2016-04-17</td>\n",
       "      <td>11.67</td>\n",
       "      <td>Oversleepers</td>\n",
       "      <td>Sunday</td>\n",
       "      <td>Weekend</td>\n",
       "    </tr>\n",
       "  </tbody>\n",
       "</table>\n",
       "</div>"
      ],
      "text/plain": [
       "           Id   SleepDay  TotalSleepRecords  TotalMinutesAsleep  \\\n",
       "0  1503960366 2016-04-12                  1               327.0   \n",
       "1  1503960366 2016-04-13                  2               384.0   \n",
       "2  1503960366 2016-04-15                  1               412.0   \n",
       "3  1503960366 2016-04-16                  2               340.0   \n",
       "4  1503960366 2016-04-17                  1               700.0   \n",
       "\n",
       "   TotalTimeInBed       date  TotalHoursAsleep   SleepStatus   day_name  \\\n",
       "0             346 2016-04-12              5.45  Bad Sleepers    Tuesday   \n",
       "1             407 2016-04-13              6.40  Bad Sleepers  Wednesday   \n",
       "2             442 2016-04-15              6.87  Bad Sleepers     Friday   \n",
       "3             367 2016-04-16              5.67  Bad Sleepers   Saturday   \n",
       "4             712 2016-04-17             11.67  Oversleepers     Sunday   \n",
       "\n",
       "  weekend_weekday  \n",
       "0         Weekday  \n",
       "1         Weekday  \n",
       "2         Weekday  \n",
       "3         Weekend  \n",
       "4         Weekend  "
      ]
     },
     "execution_count": 36,
     "metadata": {},
     "output_type": "execute_result"
    }
   ],
   "source": [
    "sleepDay['day_name'] = sleepDay['SleepDay'].dt.day_name()\n",
    "sleepDay['weekend_weekday'] = np.where(sleepDay['SleepDay'].dt.dayofweek > 4, 'Weekend', 'Weekday')\n",
    "\n",
    "sleepDay.head()\n"
   ]
  },
  {
   "cell_type": "code",
   "execution_count": 37,
   "id": "5cc68c7b",
   "metadata": {},
   "outputs": [
    {
     "data": {
      "image/png": "[encoded data removed]",
      "text/plain": [
       "<Figure size 1440x1080 with 1 Axes>"
      ]
     },
     "metadata": {},
     "output_type": "display_data"
    }
   ],
   "source": [
    "#Overview\n",
    "fig_dims = (20, 15)\n",
    "fig, ax = plt.subplots(figsize = fig_dims)\n",
    "overview = sns.countplot(\n",
    "    data = sleepDay,\n",
    "    x = sleepDay['SleepStatus'],\n",
    "    hue = 'weekend_weekday',\n",
    "    ax = ax\n",
    ")\n",
    "overview.set_title('Overview Look of Sleep Statuses', fontsize = 10)\n",
    "overview.set_xlabel('Sleep Status', fontsize = 10)\n",
    "overview.set_ylabel('Total', fontsize = 10)\n",
    "plt.xticks(size = 20)\n",
    "plt.yticks(size = 20)\n",
    "\n",
    "plt.show()"
   ]
  },
  {
   "cell_type": "code",
   "execution_count": 38,
   "id": "a86b9ff7",
   "metadata": {},
   "outputs": [
    {
     "data": {
      "image/png": "[encoded data removed]",
      "text/plain": [
       "<Figure size 1440x1080 with 1 Axes>"
      ]
     },
     "metadata": {},
     "output_type": "display_data"
    }
   ],
   "source": [
    "#by Day of the week\n",
    "fig_dims = (20, 15)\n",
    "fig, ax = plt.subplots(figsize = fig_dims)\n",
    "overview2 = sns.countplot(\n",
    "    data = sleepDay,\n",
    "    x = sleepDay['SleepStatus'],\n",
    "    hue = 'day_name',\n",
    "    ax = ax\n",
    ")\n",
    "overview2.set_title('Overview Look of Sleep Statuses by Day of The Week', fontsize = 20)\n",
    "overview2.set_xlabel('Sleep Status', fontsize = 20)\n",
    "overview2.set_ylabel('Total', fontsize = 20)\n",
    "plt.xticks(size = 20)\n",
    "plt.yticks(size = 20)\n",
    "\n",
    "plt.show()\n"
   ]
  },
  {
   "cell_type": "markdown",
   "id": "7d693ba8",
   "metadata": {},
   "source": [
    "Overall it seems that people tend to oversleep the most on a Sunday, and they often sleep below 7 hours the most on a Tuesday. It makes sense for many people to oversleep on a Sunday as most people won't need to work. However, as I've categorized those sleeping over 9 hours as Bad Sleepers, Bellabeat should make an effort to advice its users to avoid sleeping in on Sundays in order to not damage their health.\n",
    "Also it seems that the users underslept the most on Tuesdays. Not sure why this is the case, I should try to investigate this."
   ]
  },
  {
   "cell_type": "code",
   "execution_count": 39,
   "id": "3916d421",
   "metadata": {},
   "outputs": [
    {
     "data": {
      "text/html": [
       "<div>\n",
       "<style scoped>\n",
       "    .dataframe tbody tr th:only-of-type {\n",
       "        vertical-align: middle;\n",
       "    }\n",
       "\n",
       "    .dataframe tbody tr th {\n",
       "        vertical-align: top;\n",
       "    }\n",
       "\n",
       "    .dataframe thead th {\n",
       "        text-align: right;\n",
       "    }\n",
       "</style>\n",
       "<table border=\"1\" class=\"dataframe\">\n",
       "  <thead>\n",
       "    <tr style=\"text-align: right;\">\n",
       "      <th></th>\n",
       "      <th>FairlyActiveMinutes</th>\n",
       "      <th>LightlyActiveMinutes</th>\n",
       "      <th>SedentaryMinutes</th>\n",
       "      <th>VeryActiveMinutes</th>\n",
       "    </tr>\n",
       "    <tr>\n",
       "      <th>day_name</th>\n",
       "      <th></th>\n",
       "      <th></th>\n",
       "      <th></th>\n",
       "      <th></th>\n",
       "    </tr>\n",
       "  </thead>\n",
       "  <tbody>\n",
       "    <tr>\n",
       "      <th>Friday</th>\n",
       "      <td>12.111111</td>\n",
       "      <td>204.198413</td>\n",
       "      <td>1000.309524</td>\n",
       "      <td>20.055556</td>\n",
       "    </tr>\n",
       "    <tr>\n",
       "      <th>Monday</th>\n",
       "      <td>14.000000</td>\n",
       "      <td>192.058333</td>\n",
       "      <td>1027.941667</td>\n",
       "      <td>23.108333</td>\n",
       "    </tr>\n",
       "    <tr>\n",
       "      <th>Saturday</th>\n",
       "      <td>15.201613</td>\n",
       "      <td>207.145161</td>\n",
       "      <td>964.282258</td>\n",
       "      <td>21.919355</td>\n",
       "    </tr>\n",
       "    <tr>\n",
       "      <th>Sunday</th>\n",
       "      <td>14.528926</td>\n",
       "      <td>173.975207</td>\n",
       "      <td>990.256198</td>\n",
       "      <td>19.983471</td>\n",
       "    </tr>\n",
       "    <tr>\n",
       "      <th>Thursday</th>\n",
       "      <td>11.959184</td>\n",
       "      <td>185.421769</td>\n",
       "      <td>961.993197</td>\n",
       "      <td>19.408163</td>\n",
       "    </tr>\n",
       "    <tr>\n",
       "      <th>Tuesday</th>\n",
       "      <td>14.335526</td>\n",
       "      <td>197.342105</td>\n",
       "      <td>1007.361842</td>\n",
       "      <td>22.953947</td>\n",
       "    </tr>\n",
       "    <tr>\n",
       "      <th>Wednesday</th>\n",
       "      <td>13.100000</td>\n",
       "      <td>189.853333</td>\n",
       "      <td>989.480000</td>\n",
       "      <td>20.780000</td>\n",
       "    </tr>\n",
       "  </tbody>\n",
       "</table>\n",
       "</div>"
      ],
      "text/plain": [
       "           FairlyActiveMinutes  LightlyActiveMinutes  SedentaryMinutes  \\\n",
       "day_name                                                                 \n",
       "Friday               12.111111            204.198413       1000.309524   \n",
       "Monday               14.000000            192.058333       1027.941667   \n",
       "Saturday             15.201613            207.145161        964.282258   \n",
       "Sunday               14.528926            173.975207        990.256198   \n",
       "Thursday             11.959184            185.421769        961.993197   \n",
       "Tuesday              14.335526            197.342105       1007.361842   \n",
       "Wednesday            13.100000            189.853333        989.480000   \n",
       "\n",
       "           VeryActiveMinutes  \n",
       "day_name                      \n",
       "Friday             20.055556  \n",
       "Monday             23.108333  \n",
       "Saturday           21.919355  \n",
       "Sunday             19.983471  \n",
       "Thursday           19.408163  \n",
       "Tuesday            22.953947  \n",
       "Wednesday          20.780000  "
      ]
     },
     "execution_count": 39,
     "metadata": {},
     "output_type": "execute_result"
    }
   ],
   "source": [
    "byMinute"
   ]
  },
  {
   "cell_type": "markdown",
   "id": "b3fe16c3",
   "metadata": {},
   "source": [
    "A quick glimpse back, the users are the most idle on Mondays, and other than their Very Active Minutes, the average for the rest seemed to have increased on Tuesday. However, there isn't much I could tell just based on these information as there's not much signicant difference. Maybe the heartrate dataset can help me?"
   ]
  },
  {
   "cell_type": "markdown",
   "id": "10021934",
   "metadata": {},
   "source": [
    "## Let's analyze the heartrate dataset"
   ]
  },
  {
   "cell_type": "code",
   "execution_count": 40,
   "id": "9cee7b85",
   "metadata": {},
   "outputs": [
    {
     "data": {
      "text/plain": [
       "(2483658, 3)"
      ]
     },
     "execution_count": 40,
     "metadata": {},
     "output_type": "execute_result"
    }
   ],
   "source": [
    "heartrateSeconds.shape"
   ]
  },
  {
   "cell_type": "code",
   "execution_count": 41,
   "id": "b8460a47",
   "metadata": {},
   "outputs": [
    {
     "data": {
      "text/html": [
       "<div>\n",
       "<style scoped>\n",
       "    .dataframe tbody tr th:only-of-type {\n",
       "        vertical-align: middle;\n",
       "    }\n",
       "\n",
       "    .dataframe tbody tr th {\n",
       "        vertical-align: top;\n",
       "    }\n",
       "\n",
       "    .dataframe thead th {\n",
       "        text-align: right;\n",
       "    }\n",
       "</style>\n",
       "<table border=\"1\" class=\"dataframe\">\n",
       "  <thead>\n",
       "    <tr style=\"text-align: right;\">\n",
       "      <th></th>\n",
       "      <th>Id</th>\n",
       "      <th>Time</th>\n",
       "      <th>Value</th>\n",
       "    </tr>\n",
       "  </thead>\n",
       "  <tbody>\n",
       "    <tr>\n",
       "      <th>0</th>\n",
       "      <td>2022484408</td>\n",
       "      <td>4/12/2016 7:21:00 AM</td>\n",
       "      <td>97</td>\n",
       "    </tr>\n",
       "    <tr>\n",
       "      <th>1</th>\n",
       "      <td>2022484408</td>\n",
       "      <td>4/12/2016 7:21:05 AM</td>\n",
       "      <td>102</td>\n",
       "    </tr>\n",
       "    <tr>\n",
       "      <th>2</th>\n",
       "      <td>2022484408</td>\n",
       "      <td>4/12/2016 7:21:10 AM</td>\n",
       "      <td>105</td>\n",
       "    </tr>\n",
       "    <tr>\n",
       "      <th>3</th>\n",
       "      <td>2022484408</td>\n",
       "      <td>4/12/2016 7:21:20 AM</td>\n",
       "      <td>103</td>\n",
       "    </tr>\n",
       "    <tr>\n",
       "      <th>4</th>\n",
       "      <td>2022484408</td>\n",
       "      <td>4/12/2016 7:21:25 AM</td>\n",
       "      <td>101</td>\n",
       "    </tr>\n",
       "  </tbody>\n",
       "</table>\n",
       "</div>"
      ],
      "text/plain": [
       "           Id                  Time  Value\n",
       "0  2022484408  4/12/2016 7:21:00 AM     97\n",
       "1  2022484408  4/12/2016 7:21:05 AM    102\n",
       "2  2022484408  4/12/2016 7:21:10 AM    105\n",
       "3  2022484408  4/12/2016 7:21:20 AM    103\n",
       "4  2022484408  4/12/2016 7:21:25 AM    101"
      ]
     },
     "execution_count": 41,
     "metadata": {},
     "output_type": "execute_result"
    }
   ],
   "source": [
    "heartrateSeconds.head()"
   ]
  },
  {
   "cell_type": "code",
   "execution_count": 42,
   "id": "647185cf",
   "metadata": {},
   "outputs": [
    {
     "name": "stdout",
     "output_type": "stream",
     "text": [
      "\n",
      "\n",
      "count    2483658.0\n",
      "mean          77.0\n",
      "std           19.0\n",
      "min           36.0\n",
      "25%           63.0\n",
      "50%           73.0\n",
      "75%           88.0\n",
      "max          203.0\n",
      "Name: Value, dtype: float64\n"
     ]
    }
   ],
   "source": [
    "summary = round(heartrateSeconds['Value'].describe())\n",
    "print('\\n')\n",
    "print(summary)\n",
    "\n"
   ]
  },
  {
   "cell_type": "code",
   "execution_count": 43,
   "id": "23617fb2",
   "metadata": {},
   "outputs": [
    {
     "name": "stdout",
     "output_type": "stream",
     "text": [
      "\n",
      "Number of Users in This Dataset: 14\n"
     ]
    }
   ],
   "source": [
    "unique = heartrateSeconds['Id'].nunique() #there's only 14 unique uses\n",
    "print('\\nNumber of Users in This Dataset: ' + str(unique))"
   ]
  },
  {
   "cell_type": "markdown",
   "id": "d1087912",
   "metadata": {},
   "source": [
    "Since FitBit collects heart-rates in BPM, or Beats Per Minute, the Value column is therefore the BPM collected. According to FitBit's website, a typical resting heart-rate range is 60 to 100 beats per minute for adults. It also mentions that active people often have a lower resting heart rate, therefore drastic changes to this number can signify health issues and should be discussed with a doctor"
   ]
  },
  {
   "cell_type": "markdown",
   "id": "f29cf8d5",
   "metadata": {},
   "source": [
    "#### Alright let's start with analyzing whether the heart-rate has anything to do with people undersleeping"
   ]
  },
  {
   "cell_type": "code",
   "execution_count": 44,
   "id": "c9b94401",
   "metadata": {},
   "outputs": [
    {
     "data": {
      "text/plain": [
       "Time\n",
       "Friday       77.520836\n",
       "Monday       77.454335\n",
       "Saturday     79.973815\n",
       "Sunday       75.925004\n",
       "Thursday     77.035902\n",
       "Tuesday      77.013723\n",
       "Wednesday    76.451580\n",
       "Name: Value, dtype: float64"
      ]
     },
     "execution_count": 44,
     "metadata": {},
     "output_type": "execute_result"
    }
   ],
   "source": [
    "#Ensure proper time formatting\n",
    "heartrateSeconds['Time'] = pd.to_datetime(heartrateSeconds['Time'], format = '%m/%d/%Y %I:%M:%S %p')\n",
    "\n",
    "mean = heartrateSeconds.groupby(heartrateSeconds['Time'].dt.day_name())['Value'].mean()\n",
    "mean"
   ]
  },
  {
   "cell_type": "markdown",
   "id": "2870d70c",
   "metadata": {},
   "source": [
    "Sadly, it doesn't seem like information on the heart-rate seem to be of help here. But the average seems to be highest on Saturdays, which I'd assume it's due to the fact that the users exercise the most on Saturdays. It doesn't seem I would be able to determine why some people undersleep with the information I currently have right now"
   ]
  },
  {
   "cell_type": "markdown",
   "id": "17c59916",
   "metadata": {},
   "source": [
    "#### Let's look at the average heart-rate per minute for each hour of the day"
   ]
  },
  {
   "cell_type": "code",
   "execution_count": 45,
   "id": "42093109",
   "metadata": {},
   "outputs": [
    {
     "data": {
      "text/plain": [
       "Text(0.5, 1.0, 'Average Heart-Rate Per Minute Based on Time (Hour)')"
      ]
     },
     "execution_count": 45,
     "metadata": {},
     "output_type": "execute_result"
    },
    {
     "data": {
      "image/png": "[encoded data removed]",
      "text/plain": [
       "<Figure size 1656x936 with 1 Axes>"
      ]
     },
     "metadata": {},
     "output_type": "display_data"
    }
   ],
   "source": [
    "mean = heartrateSeconds.groupby(heartrateSeconds['Time'].dt.hour)['Value'].mean()\n",
    "fig_dims = (23, 13)\n",
    "fig, ax = plt.subplots(figsize=fig_dims)\n",
    "\n",
    "# create temporary dataframe\n",
    "tempDf = pd.DataFrame(mean)\n",
    "\n",
    "tempDf\n",
    "\n",
    "t = sns.barplot(\n",
    "    data = tempDf, \n",
    "    x = tempDf.index,\n",
    "    y = 'Value'\n",
    ")\n",
    "\n",
    "t.set_xlabel('Time (Hour)', fontsize = 20)\n",
    "t.set_ylabel('Average HeartRate', fontsize = 20)\n",
    "t.set_title('Average Heart-Rate Per Minute Based on Time (Hour)', fontsize = 20)"
   ]
  },
  {
   "cell_type": "markdown",
   "id": "46fcd0ee",
   "metadata": {},
   "source": [
    "Average Heart-rate per minute is generally slower during the night, which is understandable since most people will be resting during the night. Heart-rate is high between 9am to 6pm, and starts to drop after 6pm. Heart rate also seems to be at its highest at 12pm and 6pm. Seems like users are somewhat tensed during these two distinct hours."
   ]
  },
  {
   "cell_type": "markdown",
   "id": "9bbdec3c",
   "metadata": {},
   "source": [
    "#### Let's try analyzing daily steps"
   ]
  },
  {
   "cell_type": "code",
   "execution_count": 46,
   "id": "3bdb50df",
   "metadata": {},
   "outputs": [
    {
     "data": {
      "text/html": [
       "<div>\n",
       "<style scoped>\n",
       "    .dataframe tbody tr th:only-of-type {\n",
       "        vertical-align: middle;\n",
       "    }\n",
       "\n",
       "    .dataframe tbody tr th {\n",
       "        vertical-align: top;\n",
       "    }\n",
       "\n",
       "    .dataframe thead th {\n",
       "        text-align: right;\n",
       "    }\n",
       "</style>\n",
       "<table border=\"1\" class=\"dataframe\">\n",
       "  <thead>\n",
       "    <tr style=\"text-align: right;\">\n",
       "      <th></th>\n",
       "      <th>Id</th>\n",
       "      <th>ActivityDate</th>\n",
       "      <th>TotalSteps</th>\n",
       "      <th>TotalDistance</th>\n",
       "      <th>TrackerDistance</th>\n",
       "      <th>LoggedActivitiesDistance</th>\n",
       "      <th>VeryActiveDistance</th>\n",
       "      <th>ModeratelyActiveDistance</th>\n",
       "      <th>LightActiveDistance</th>\n",
       "      <th>SedentaryActiveDistance</th>\n",
       "      <th>...</th>\n",
       "      <th>weekend_weekday_x</th>\n",
       "      <th>date</th>\n",
       "      <th>SleepDay</th>\n",
       "      <th>TotalSleepRecords</th>\n",
       "      <th>TotalMinutesAsleep</th>\n",
       "      <th>TotalTimeInBed</th>\n",
       "      <th>TotalHoursAsleep</th>\n",
       "      <th>SleepStatus</th>\n",
       "      <th>day_name_y</th>\n",
       "      <th>weekend_weekday_y</th>\n",
       "    </tr>\n",
       "  </thead>\n",
       "  <tbody>\n",
       "    <tr>\n",
       "      <th>0</th>\n",
       "      <td>1503960366</td>\n",
       "      <td>2016-04-12</td>\n",
       "      <td>13162</td>\n",
       "      <td>8.50</td>\n",
       "      <td>8.50</td>\n",
       "      <td>0.0</td>\n",
       "      <td>1.88</td>\n",
       "      <td>0.55</td>\n",
       "      <td>6.06</td>\n",
       "      <td>0.0</td>\n",
       "      <td>...</td>\n",
       "      <td>Weekday</td>\n",
       "      <td>2016-04-12</td>\n",
       "      <td>2016-04-12</td>\n",
       "      <td>1</td>\n",
       "      <td>327.0</td>\n",
       "      <td>346</td>\n",
       "      <td>5.45</td>\n",
       "      <td>Bad Sleepers</td>\n",
       "      <td>Tuesday</td>\n",
       "      <td>Weekday</td>\n",
       "    </tr>\n",
       "    <tr>\n",
       "      <th>1</th>\n",
       "      <td>1503960366</td>\n",
       "      <td>2016-04-13</td>\n",
       "      <td>10735</td>\n",
       "      <td>6.97</td>\n",
       "      <td>6.97</td>\n",
       "      <td>0.0</td>\n",
       "      <td>1.57</td>\n",
       "      <td>0.69</td>\n",
       "      <td>4.71</td>\n",
       "      <td>0.0</td>\n",
       "      <td>...</td>\n",
       "      <td>Weekday</td>\n",
       "      <td>2016-04-13</td>\n",
       "      <td>2016-04-13</td>\n",
       "      <td>2</td>\n",
       "      <td>384.0</td>\n",
       "      <td>407</td>\n",
       "      <td>6.40</td>\n",
       "      <td>Bad Sleepers</td>\n",
       "      <td>Wednesday</td>\n",
       "      <td>Weekday</td>\n",
       "    </tr>\n",
       "    <tr>\n",
       "      <th>2</th>\n",
       "      <td>1503960366</td>\n",
       "      <td>2016-04-15</td>\n",
       "      <td>9762</td>\n",
       "      <td>6.28</td>\n",
       "      <td>6.28</td>\n",
       "      <td>0.0</td>\n",
       "      <td>2.14</td>\n",
       "      <td>1.26</td>\n",
       "      <td>2.83</td>\n",
       "      <td>0.0</td>\n",
       "      <td>...</td>\n",
       "      <td>Weekday</td>\n",
       "      <td>2016-04-15</td>\n",
       "      <td>2016-04-15</td>\n",
       "      <td>1</td>\n",
       "      <td>412.0</td>\n",
       "      <td>442</td>\n",
       "      <td>6.87</td>\n",
       "      <td>Bad Sleepers</td>\n",
       "      <td>Friday</td>\n",
       "      <td>Weekday</td>\n",
       "    </tr>\n",
       "    <tr>\n",
       "      <th>3</th>\n",
       "      <td>1503960366</td>\n",
       "      <td>2016-04-16</td>\n",
       "      <td>12669</td>\n",
       "      <td>8.16</td>\n",
       "      <td>8.16</td>\n",
       "      <td>0.0</td>\n",
       "      <td>2.71</td>\n",
       "      <td>0.41</td>\n",
       "      <td>5.04</td>\n",
       "      <td>0.0</td>\n",
       "      <td>...</td>\n",
       "      <td>Weekend</td>\n",
       "      <td>2016-04-16</td>\n",
       "      <td>2016-04-16</td>\n",
       "      <td>2</td>\n",
       "      <td>340.0</td>\n",
       "      <td>367</td>\n",
       "      <td>5.67</td>\n",
       "      <td>Bad Sleepers</td>\n",
       "      <td>Saturday</td>\n",
       "      <td>Weekend</td>\n",
       "    </tr>\n",
       "    <tr>\n",
       "      <th>4</th>\n",
       "      <td>1503960366</td>\n",
       "      <td>2016-04-17</td>\n",
       "      <td>9705</td>\n",
       "      <td>6.48</td>\n",
       "      <td>6.48</td>\n",
       "      <td>0.0</td>\n",
       "      <td>3.19</td>\n",
       "      <td>0.78</td>\n",
       "      <td>2.51</td>\n",
       "      <td>0.0</td>\n",
       "      <td>...</td>\n",
       "      <td>Weekend</td>\n",
       "      <td>2016-04-17</td>\n",
       "      <td>2016-04-17</td>\n",
       "      <td>1</td>\n",
       "      <td>700.0</td>\n",
       "      <td>712</td>\n",
       "      <td>11.67</td>\n",
       "      <td>Oversleepers</td>\n",
       "      <td>Sunday</td>\n",
       "      <td>Weekend</td>\n",
       "    </tr>\n",
       "  </tbody>\n",
       "</table>\n",
       "<p>5 rows × 26 columns</p>\n",
       "</div>"
      ],
      "text/plain": [
       "           Id ActivityDate  TotalSteps  TotalDistance  TrackerDistance  \\\n",
       "0  1503960366   2016-04-12       13162           8.50             8.50   \n",
       "1  1503960366   2016-04-13       10735           6.97             6.97   \n",
       "2  1503960366   2016-04-15        9762           6.28             6.28   \n",
       "3  1503960366   2016-04-16       12669           8.16             8.16   \n",
       "4  1503960366   2016-04-17        9705           6.48             6.48   \n",
       "\n",
       "   LoggedActivitiesDistance  VeryActiveDistance  ModeratelyActiveDistance  \\\n",
       "0                       0.0                1.88                      0.55   \n",
       "1                       0.0                1.57                      0.69   \n",
       "2                       0.0                2.14                      1.26   \n",
       "3                       0.0                2.71                      0.41   \n",
       "4                       0.0                3.19                      0.78   \n",
       "\n",
       "   LightActiveDistance  SedentaryActiveDistance  ...  weekend_weekday_x  \\\n",
       "0                 6.06                      0.0  ...            Weekday   \n",
       "1                 4.71                      0.0  ...            Weekday   \n",
       "2                 2.83                      0.0  ...            Weekday   \n",
       "3                 5.04                      0.0  ...            Weekend   \n",
       "4                 2.51                      0.0  ...            Weekend   \n",
       "\n",
       "        date   SleepDay  TotalSleepRecords  TotalMinutesAsleep TotalTimeInBed  \\\n",
       "0 2016-04-12 2016-04-12                  1               327.0            346   \n",
       "1 2016-04-13 2016-04-13                  2               384.0            407   \n",
       "2 2016-04-15 2016-04-15                  1               412.0            442   \n",
       "3 2016-04-16 2016-04-16                  2               340.0            367   \n",
       "4 2016-04-17 2016-04-17                  1               700.0            712   \n",
       "\n",
       "  TotalHoursAsleep   SleepStatus day_name_y  weekend_weekday_y  \n",
       "0             5.45  Bad Sleepers    Tuesday            Weekday  \n",
       "1             6.40  Bad Sleepers  Wednesday            Weekday  \n",
       "2             6.87  Bad Sleepers     Friday            Weekday  \n",
       "3             5.67  Bad Sleepers   Saturday            Weekend  \n",
       "4            11.67  Oversleepers     Sunday            Weekend  \n",
       "\n",
       "[5 rows x 26 columns]"
      ]
     },
     "execution_count": 46,
     "metadata": {},
     "output_type": "execute_result"
    }
   ],
   "source": [
    "#rejoining a new df as sleepDay was altered\n",
    "rejoined = dailyActivity.merge(sleepDay, on = ['Id', 'date'])\n",
    "rejoined.head()"
   ]
  },
  {
   "cell_type": "code",
   "execution_count": 49,
   "id": "2bb56181",
   "metadata": {},
   "outputs": [
    {
     "name": "stdout",
     "output_type": "stream",
     "text": [
      "    day_name   TotalSteps\n",
      "1     Monday  7780.866667\n",
      "5    Tuesday  8125.006579\n",
      "6  Wednesday  7559.373333\n",
      "4   Thursday  7405.836735\n",
      "0     Friday  7448.230159\n",
      "2   Saturday  8152.975806\n",
      "3     Sunday  6933.231405\n"
     ]
    },
    {
     "data": {
      "text/plain": [
       "Text(0.5, 1.0, 'Average Total Steps Taken by the Day of the Week')"
      ]
     },
     "execution_count": 49,
     "metadata": {},
     "output_type": "execute_result"
    },
    {
     "data": {
      "image/png": "[encoded data removed]",
      "text/plain": [
       "<Figure size 1080x936 with 1 Axes>"
      ]
     },
     "metadata": {},
     "output_type": "display_data"
    }
   ],
   "source": [
    "# Before I analyze with sleep status, let's examine just the total steps taken by weekdays\n",
    "\n",
    "meanSteps = dailyActivity.groupby('day_name')['TotalSteps'].mean()\n",
    "\n",
    "fig_dims = (15, 13)\n",
    "fig, ax = plt.subplots(figsize=fig_dims)\n",
    "\n",
    "# create temporary dataframe\n",
    "tempDf = pd.DataFrame(meanSteps)\n",
    "tempDf = tempDf.reset_index()\n",
    "\n",
    "#sort by day\n",
    "cats = ['Monday', 'Tuesday', 'Wednesday', 'Thursday', 'Friday', 'Saturday', 'Sunday']\n",
    "tempDf['day_name'] = pd.Categorical(tempDf['day_name'], categories = cats)\n",
    "tempDf = tempDf.sort_values('day_name')\n",
    "\n",
    "print(tempDf)\n",
    "\n",
    "t = sns.barplot(\n",
    "    data = tempDf, \n",
    "    x = 'day_name',\n",
    "    y = 'TotalSteps'\n",
    ")\n",
    "\n",
    "t.set_xlabel('Day of the Week', fontsize = 20)\n",
    "t.set_ylabel('Total Steps', fontsize = 20)\n",
    "t.set_title('Average Total Steps Taken by the Day of the Week', fontsize = 20)"
   ]
  },
  {
   "cell_type": "markdown",
   "id": "9cdf7681",
   "metadata": {},
   "source": [
    "On weekdays, Tuesday has the most steps taken, whereas on weekends it has the most steps taken on Saturdays. I hyphothesize that since Tuesday seems to be the most busiest day among the users, this may be the very reason why users are mostly undersleeping on Tuesdays.\n"
   ]
  },
  {
   "cell_type": "markdown",
   "id": "92c561b5",
   "metadata": {},
   "source": [
    "#### Is there a relationship between how active they are and their sleep schedule?"
   ]
  },
  {
   "cell_type": "markdown",
   "id": "1f59ce44",
   "metadata": {},
   "source": [
    "Since most of these users are lightly active, let's see if there's any relationship between light active users and their sleeping behaviours."
   ]
  },
  {
   "cell_type": "code",
   "execution_count": 50,
   "id": "908dd5a8",
   "metadata": {},
   "outputs": [
    {
     "data": {
      "text/html": [
       "<div>\n",
       "<style scoped>\n",
       "    .dataframe tbody tr th:only-of-type {\n",
       "        vertical-align: middle;\n",
       "    }\n",
       "\n",
       "    .dataframe tbody tr th {\n",
       "        vertical-align: top;\n",
       "    }\n",
       "\n",
       "    .dataframe thead th {\n",
       "        text-align: right;\n",
       "    }\n",
       "</style>\n",
       "<table border=\"1\" class=\"dataframe\">\n",
       "  <thead>\n",
       "    <tr style=\"text-align: right;\">\n",
       "      <th></th>\n",
       "      <th>LightlyActiveMinutes</th>\n",
       "      <th>TotalSleepRecords</th>\n",
       "      <th>TotalMinutesAsleep</th>\n",
       "      <th>TotalTimeInBed</th>\n",
       "    </tr>\n",
       "  </thead>\n",
       "  <tbody>\n",
       "    <tr>\n",
       "      <th>0</th>\n",
       "      <td>328</td>\n",
       "      <td>1</td>\n",
       "      <td>327</td>\n",
       "      <td>346</td>\n",
       "    </tr>\n",
       "    <tr>\n",
       "      <th>1</th>\n",
       "      <td>217</td>\n",
       "      <td>2</td>\n",
       "      <td>384</td>\n",
       "      <td>407</td>\n",
       "    </tr>\n",
       "    <tr>\n",
       "      <th>2</th>\n",
       "      <td>209</td>\n",
       "      <td>1</td>\n",
       "      <td>412</td>\n",
       "      <td>442</td>\n",
       "    </tr>\n",
       "    <tr>\n",
       "      <th>3</th>\n",
       "      <td>221</td>\n",
       "      <td>2</td>\n",
       "      <td>340</td>\n",
       "      <td>367</td>\n",
       "    </tr>\n",
       "    <tr>\n",
       "      <th>4</th>\n",
       "      <td>164</td>\n",
       "      <td>1</td>\n",
       "      <td>700</td>\n",
       "      <td>712</td>\n",
       "    </tr>\n",
       "  </tbody>\n",
       "</table>\n",
       "</div>"
      ],
      "text/plain": [
       "   LightlyActiveMinutes  TotalSleepRecords  TotalMinutesAsleep  TotalTimeInBed\n",
       "0                   328                  1                 327             346\n",
       "1                   217                  2                 384             407\n",
       "2                   209                  1                 412             442\n",
       "3                   221                  2                 340             367\n",
       "4                   164                  1                 700             712"
      ]
     },
     "execution_count": 50,
     "metadata": {},
     "output_type": "execute_result"
    }
   ],
   "source": [
    "lightlyActive = joinedDf[['LightlyActiveMinutes', 'TotalSleepRecords', 'TotalMinutesAsleep', 'TotalTimeInBed']]\n",
    "\n",
    "lightlyActive.head()"
   ]
  },
  {
   "cell_type": "code",
   "execution_count": 51,
   "id": "6d71becf",
   "metadata": {},
   "outputs": [
    {
     "data": {
      "text/plain": [
       "Text(0.5, 1.0, 'Relationship between Total Minutes of Sleep and Users Who are Light Active')"
      ]
     },
     "execution_count": 51,
     "metadata": {},
     "output_type": "execute_result"
    },
    {
     "data": {
      "image/png": "[encoded data removed]",
      "text/plain": [
       "<Figure size 1080x720 with 1 Axes>"
      ]
     },
     "metadata": {},
     "output_type": "display_data"
    }
   ],
   "source": [
    "fig_dims = (15, 10)\n",
    "fig, ax = plt.subplots(figsize=fig_dims)\n",
    "\n",
    "sns.set_style(\"darkgrid\")\n",
    "reg = sns.regplot(\n",
    "    data = lightlyActive,\n",
    "    x = 'LightlyActiveMinutes',\n",
    "    y = 'TotalMinutesAsleep',\n",
    "    ax = ax,\n",
    "    color = 'blue'\n",
    ")\n",
    "\n",
    "reg.set_title('Relationship between Total Minutes of Sleep and Users Who are Light Active')"
   ]
  },
  {
   "cell_type": "markdown",
   "id": "3fe14315",
   "metadata": {},
   "source": [
    "Looks like there's no correlation between those who lightly active and the amount of sleep they have."
   ]
  },
  {
   "cell_type": "markdown",
   "id": "a8fdefcf",
   "metadata": {},
   "source": [
    "### What about those who are mostly sedentary?\n"
   ]
  },
  {
   "cell_type": "code",
   "execution_count": 52,
   "id": "5b0089b5",
   "metadata": {},
   "outputs": [
    {
     "data": {
      "text/html": [
       "<div>\n",
       "<style scoped>\n",
       "    .dataframe tbody tr th:only-of-type {\n",
       "        vertical-align: middle;\n",
       "    }\n",
       "\n",
       "    .dataframe tbody tr th {\n",
       "        vertical-align: top;\n",
       "    }\n",
       "\n",
       "    .dataframe thead th {\n",
       "        text-align: right;\n",
       "    }\n",
       "</style>\n",
       "<table border=\"1\" class=\"dataframe\">\n",
       "  <thead>\n",
       "    <tr style=\"text-align: right;\">\n",
       "      <th></th>\n",
       "      <th>SedentaryMinutes</th>\n",
       "      <th>TotalSleepRecords</th>\n",
       "      <th>TotalMinutesAsleep</th>\n",
       "      <th>TotalTimeInBed</th>\n",
       "    </tr>\n",
       "  </thead>\n",
       "  <tbody>\n",
       "    <tr>\n",
       "      <th>0</th>\n",
       "      <td>728</td>\n",
       "      <td>1</td>\n",
       "      <td>327</td>\n",
       "      <td>346</td>\n",
       "    </tr>\n",
       "    <tr>\n",
       "      <th>1</th>\n",
       "      <td>776</td>\n",
       "      <td>2</td>\n",
       "      <td>384</td>\n",
       "      <td>407</td>\n",
       "    </tr>\n",
       "    <tr>\n",
       "      <th>2</th>\n",
       "      <td>726</td>\n",
       "      <td>1</td>\n",
       "      <td>412</td>\n",
       "      <td>442</td>\n",
       "    </tr>\n",
       "    <tr>\n",
       "      <th>3</th>\n",
       "      <td>773</td>\n",
       "      <td>2</td>\n",
       "      <td>340</td>\n",
       "      <td>367</td>\n",
       "    </tr>\n",
       "    <tr>\n",
       "      <th>4</th>\n",
       "      <td>539</td>\n",
       "      <td>1</td>\n",
       "      <td>700</td>\n",
       "      <td>712</td>\n",
       "    </tr>\n",
       "  </tbody>\n",
       "</table>\n",
       "</div>"
      ],
      "text/plain": [
       "   SedentaryMinutes  TotalSleepRecords  TotalMinutesAsleep  TotalTimeInBed\n",
       "0               728                  1                 327             346\n",
       "1               776                  2                 384             407\n",
       "2               726                  1                 412             442\n",
       "3               773                  2                 340             367\n",
       "4               539                  1                 700             712"
      ]
     },
     "execution_count": 52,
     "metadata": {},
     "output_type": "execute_result"
    }
   ],
   "source": [
    "sedentary = joinedDf[['SedentaryMinutes', 'TotalSleepRecords', 'TotalMinutesAsleep', 'TotalTimeInBed']]\n",
    "\n",
    "sedentary.head()"
   ]
  },
  {
   "cell_type": "code",
   "execution_count": 53,
   "id": "3f6de386",
   "metadata": {},
   "outputs": [
    {
     "data": {
      "text/plain": [
       "Text(0.5, 1.0, 'Relationship between Total Minutes of Sleep and Users Who are Sedentary')"
      ]
     },
     "execution_count": 53,
     "metadata": {},
     "output_type": "execute_result"
    },
    {
     "data": {
      "image/png": "[encoded data removed]",
      "text/plain": [
       "<Figure size 1080x720 with 1 Axes>"
      ]
     },
     "metadata": {},
     "output_type": "display_data"
    }
   ],
   "source": [
    "sns.set_style(\"darkgrid\")\n",
    "fig_dims = (15, 10)\n",
    "fig, ax = plt.subplots(figsize=fig_dims)\n",
    "\n",
    "s = sns.regplot(\n",
    "    data = sedentary,\n",
    "    x = 'SedentaryMinutes',\n",
    "    y = 'TotalMinutesAsleep',\n",
    "    ax = ax,\n",
    "    color = 'blue'\n",
    ")\n",
    "\n",
    "s.set_title('Relationship between Total Minutes of Sleep and Users Who are Sedentary')"
   ]
  },
  {
   "cell_type": "markdown",
   "id": "097d8c37",
   "metadata": {},
   "source": [
    "There's a negative correlation! The more idle the person is during the day, it seems that they would also be getting fewer sleep than those who are more active!\n",
    "I recommend bellabeat to take note of this insight and maybe consider sending notifications to users who might have been idle throughout the day to get some light exercises so as to allow them to have a better sleep later in the day."
   ]
  },
  {
   "cell_type": "markdown",
   "id": "c1975f8f",
   "metadata": {},
   "source": [
    "#### What about those who are fairly active and very active?"
   ]
  },
  {
   "cell_type": "code",
   "execution_count": 54,
   "id": "2c559f7b",
   "metadata": {},
   "outputs": [
    {
     "data": {
      "text/html": [
       "<div>\n",
       "<style scoped>\n",
       "    .dataframe tbody tr th:only-of-type {\n",
       "        vertical-align: middle;\n",
       "    }\n",
       "\n",
       "    .dataframe tbody tr th {\n",
       "        vertical-align: top;\n",
       "    }\n",
       "\n",
       "    .dataframe thead th {\n",
       "        text-align: right;\n",
       "    }\n",
       "</style>\n",
       "<table border=\"1\" class=\"dataframe\">\n",
       "  <thead>\n",
       "    <tr style=\"text-align: right;\">\n",
       "      <th></th>\n",
       "      <th>Id</th>\n",
       "      <th>ActivityDate</th>\n",
       "      <th>TotalSteps</th>\n",
       "      <th>TotalDistance</th>\n",
       "      <th>TrackerDistance</th>\n",
       "      <th>LoggedActivitiesDistance</th>\n",
       "      <th>VeryActiveDistance</th>\n",
       "      <th>ModeratelyActiveDistance</th>\n",
       "      <th>LightActiveDistance</th>\n",
       "      <th>SedentaryActiveDistance</th>\n",
       "      <th>...</th>\n",
       "      <th>LightlyActiveMinutes</th>\n",
       "      <th>SedentaryMinutes</th>\n",
       "      <th>Calories</th>\n",
       "      <th>day_name</th>\n",
       "      <th>weekend_weekday</th>\n",
       "      <th>date</th>\n",
       "      <th>SleepDay</th>\n",
       "      <th>TotalSleepRecords</th>\n",
       "      <th>TotalMinutesAsleep</th>\n",
       "      <th>TotalTimeInBed</th>\n",
       "    </tr>\n",
       "  </thead>\n",
       "  <tbody>\n",
       "    <tr>\n",
       "      <th>0</th>\n",
       "      <td>1503960366</td>\n",
       "      <td>2016-04-12</td>\n",
       "      <td>13162</td>\n",
       "      <td>8.50</td>\n",
       "      <td>8.50</td>\n",
       "      <td>0.0</td>\n",
       "      <td>1.88</td>\n",
       "      <td>0.55</td>\n",
       "      <td>6.06</td>\n",
       "      <td>0.0</td>\n",
       "      <td>...</td>\n",
       "      <td>328</td>\n",
       "      <td>728</td>\n",
       "      <td>1985</td>\n",
       "      <td>Tuesday</td>\n",
       "      <td>Weekday</td>\n",
       "      <td>2016-04-12</td>\n",
       "      <td>2016-04-12</td>\n",
       "      <td>1</td>\n",
       "      <td>327</td>\n",
       "      <td>346</td>\n",
       "    </tr>\n",
       "    <tr>\n",
       "      <th>1</th>\n",
       "      <td>1503960366</td>\n",
       "      <td>2016-04-13</td>\n",
       "      <td>10735</td>\n",
       "      <td>6.97</td>\n",
       "      <td>6.97</td>\n",
       "      <td>0.0</td>\n",
       "      <td>1.57</td>\n",
       "      <td>0.69</td>\n",
       "      <td>4.71</td>\n",
       "      <td>0.0</td>\n",
       "      <td>...</td>\n",
       "      <td>217</td>\n",
       "      <td>776</td>\n",
       "      <td>1797</td>\n",
       "      <td>Wednesday</td>\n",
       "      <td>Weekday</td>\n",
       "      <td>2016-04-13</td>\n",
       "      <td>2016-04-13</td>\n",
       "      <td>2</td>\n",
       "      <td>384</td>\n",
       "      <td>407</td>\n",
       "    </tr>\n",
       "    <tr>\n",
       "      <th>2</th>\n",
       "      <td>1503960366</td>\n",
       "      <td>2016-04-15</td>\n",
       "      <td>9762</td>\n",
       "      <td>6.28</td>\n",
       "      <td>6.28</td>\n",
       "      <td>0.0</td>\n",
       "      <td>2.14</td>\n",
       "      <td>1.26</td>\n",
       "      <td>2.83</td>\n",
       "      <td>0.0</td>\n",
       "      <td>...</td>\n",
       "      <td>209</td>\n",
       "      <td>726</td>\n",
       "      <td>1745</td>\n",
       "      <td>Friday</td>\n",
       "      <td>Weekday</td>\n",
       "      <td>2016-04-15</td>\n",
       "      <td>2016-04-15</td>\n",
       "      <td>1</td>\n",
       "      <td>412</td>\n",
       "      <td>442</td>\n",
       "    </tr>\n",
       "    <tr>\n",
       "      <th>3</th>\n",
       "      <td>1503960366</td>\n",
       "      <td>2016-04-16</td>\n",
       "      <td>12669</td>\n",
       "      <td>8.16</td>\n",
       "      <td>8.16</td>\n",
       "      <td>0.0</td>\n",
       "      <td>2.71</td>\n",
       "      <td>0.41</td>\n",
       "      <td>5.04</td>\n",
       "      <td>0.0</td>\n",
       "      <td>...</td>\n",
       "      <td>221</td>\n",
       "      <td>773</td>\n",
       "      <td>1863</td>\n",
       "      <td>Saturday</td>\n",
       "      <td>Weekend</td>\n",
       "      <td>2016-04-16</td>\n",
       "      <td>2016-04-16</td>\n",
       "      <td>2</td>\n",
       "      <td>340</td>\n",
       "      <td>367</td>\n",
       "    </tr>\n",
       "    <tr>\n",
       "      <th>4</th>\n",
       "      <td>1503960366</td>\n",
       "      <td>2016-04-17</td>\n",
       "      <td>9705</td>\n",
       "      <td>6.48</td>\n",
       "      <td>6.48</td>\n",
       "      <td>0.0</td>\n",
       "      <td>3.19</td>\n",
       "      <td>0.78</td>\n",
       "      <td>2.51</td>\n",
       "      <td>0.0</td>\n",
       "      <td>...</td>\n",
       "      <td>164</td>\n",
       "      <td>539</td>\n",
       "      <td>1728</td>\n",
       "      <td>Sunday</td>\n",
       "      <td>Weekend</td>\n",
       "      <td>2016-04-17</td>\n",
       "      <td>2016-04-17</td>\n",
       "      <td>1</td>\n",
       "      <td>700</td>\n",
       "      <td>712</td>\n",
       "    </tr>\n",
       "  </tbody>\n",
       "</table>\n",
       "<p>5 rows × 22 columns</p>\n",
       "</div>"
      ],
      "text/plain": [
       "           Id ActivityDate  TotalSteps  TotalDistance  TrackerDistance  \\\n",
       "0  1503960366   2016-04-12       13162           8.50             8.50   \n",
       "1  1503960366   2016-04-13       10735           6.97             6.97   \n",
       "2  1503960366   2016-04-15        9762           6.28             6.28   \n",
       "3  1503960366   2016-04-16       12669           8.16             8.16   \n",
       "4  1503960366   2016-04-17        9705           6.48             6.48   \n",
       "\n",
       "   LoggedActivitiesDistance  VeryActiveDistance  ModeratelyActiveDistance  \\\n",
       "0                       0.0                1.88                      0.55   \n",
       "1                       0.0                1.57                      0.69   \n",
       "2                       0.0                2.14                      1.26   \n",
       "3                       0.0                2.71                      0.41   \n",
       "4                       0.0                3.19                      0.78   \n",
       "\n",
       "   LightActiveDistance  SedentaryActiveDistance  ...  LightlyActiveMinutes  \\\n",
       "0                 6.06                      0.0  ...                   328   \n",
       "1                 4.71                      0.0  ...                   217   \n",
       "2                 2.83                      0.0  ...                   209   \n",
       "3                 5.04                      0.0  ...                   221   \n",
       "4                 2.51                      0.0  ...                   164   \n",
       "\n",
       "   SedentaryMinutes  Calories   day_name  weekend_weekday       date  \\\n",
       "0               728      1985    Tuesday          Weekday 2016-04-12   \n",
       "1               776      1797  Wednesday          Weekday 2016-04-13   \n",
       "2               726      1745     Friday          Weekday 2016-04-15   \n",
       "3               773      1863   Saturday          Weekend 2016-04-16   \n",
       "4               539      1728     Sunday          Weekend 2016-04-17   \n",
       "\n",
       "    SleepDay TotalSleepRecords TotalMinutesAsleep  TotalTimeInBed  \n",
       "0 2016-04-12                 1                327             346  \n",
       "1 2016-04-13                 2                384             407  \n",
       "2 2016-04-15                 1                412             442  \n",
       "3 2016-04-16                 2                340             367  \n",
       "4 2016-04-17                 1                700             712  \n",
       "\n",
       "[5 rows x 22 columns]"
      ]
     },
     "execution_count": 54,
     "metadata": {},
     "output_type": "execute_result"
    }
   ],
   "source": [
    "joinedDf.head()"
   ]
  },
  {
   "cell_type": "code",
   "execution_count": 55,
   "id": "f72306f6",
   "metadata": {},
   "outputs": [
    {
     "data": {
      "image/png": "[encoded data removed]",
      "text/plain": [
       "<Figure size 1080x720 with 1 Axes>"
      ]
     },
     "metadata": {},
     "output_type": "display_data"
    },
    {
     "data": {
      "image/png": "[encoded data removed]",
      "text/plain": [
       "<Figure size 1080x720 with 1 Axes>"
      ]
     },
     "metadata": {},
     "output_type": "display_data"
    }
   ],
   "source": [
    "sns.set_style(\"darkgrid\")\n",
    "fig_dims = (15, 10)\n",
    "fig, ax = plt.subplots(figsize=fig_dims)\n",
    "\n",
    "s = sns.regplot(\n",
    "    data = joinedDf,\n",
    "    x = 'FairlyActiveMinutes',\n",
    "    y = 'TotalMinutesAsleep',\n",
    "    ax = ax,\n",
    "    color = 'blue'\n",
    ")\n",
    "\n",
    "s.set_title('Relationship between Total Minutes of Sleep and Users Who are Fairly Active', fontsize = 20)\n",
    "s.set_xlabel('Fairly Active Minutes', fontsize = 20)\n",
    "s.set_ylabel('Total Minutes Asleep', fontsize = 20)\n",
    "plt.show()\n",
    "\n",
    "# Very Active \n",
    "sns.set_style(\"darkgrid\")\n",
    "fig_dims = (15, 10)\n",
    "fig, ax = plt.subplots(figsize=fig_dims)\n",
    "\n",
    "s = sns.regplot(\n",
    "    data = joinedDf,\n",
    "    x = 'VeryActiveMinutes',\n",
    "    y = 'TotalMinutesAsleep',\n",
    "    ax = ax,\n",
    "    color = 'blue'\n",
    ")\n",
    "\n",
    "s.set_title('Relationship between Total Minutes of Sleep and Users Who are Very Active', fontsize = 20)\n",
    "s.set_xlabel('Very Active Minutes', fontsize = 20)\n",
    "s.set_ylabel('Total Minutes Asleep', fontsize = 20)\n",
    "plt.show()"
   ]
  },
  {
   "cell_type": "markdown",
   "id": "253bd541",
   "metadata": {},
   "source": [
    "Although there's a slight negative trend for Fairly active users, it doesn't seem to be a very strong correlation but still worth mentioning. Also, those who are very active don't seem to have a correlation as well."
   ]
  },
  {
   "cell_type": "code",
   "execution_count": 56,
   "id": "9718bbdd",
   "metadata": {},
   "outputs": [],
   "source": [
    "#Ensuring proper formatting\n",
    "hourlyIntensities['ActivityHour'] = pd.to_datetime(hourlyIntensities['ActivityHour'], format = '%m/%d/%Y %I:%M:%S %p')"
   ]
  },
  {
   "cell_type": "code",
   "execution_count": 57,
   "id": "2a26f865",
   "metadata": {},
   "outputs": [
    {
     "data": {
      "text/plain": [
       "Text(0.5, 1.0, 'Average Total Intensity Per Hour')"
      ]
     },
     "execution_count": 57,
     "metadata": {},
     "output_type": "execute_result"
    },
    {
     "data": {
      "image/png": "[encoded data removed]",
      "text/plain": [
       "<Figure size 1656x936 with 1 Axes>"
      ]
     },
     "metadata": {},
     "output_type": "display_data"
    }
   ],
   "source": [
    "#Group by the hours and find the average total intensity, which should therefore give only 24 rows in the end\n",
    "mean = hourlyIntensities.groupby(hourlyIntensities['ActivityHour'].dt.time)['TotalIntensity'].mean()\n",
    "\n",
    "sns.set_style(\"darkgrid\")\n",
    "fig_dims = (23, 13)\n",
    "fig, ax = plt.subplots(figsize=fig_dims)\n",
    "\n",
    "#create temporary dataframe\n",
    "tempDf = pd.DataFrame(mean)\n",
    "\n",
    "t = sns.barplot(\n",
    "    data = tempDf, \n",
    "    x = tempDf.index,\n",
    "    y = 'TotalIntensity'\n",
    ")\n",
    "\n",
    "t.set_xlabel('Time', fontsize = 20)\n",
    "t.set_ylabel('Average Total Intensity', fontsize = 20)\n",
    "t.set_title('Average Total Intensity Per Hour', fontsize = 20)"
   ]
  },
  {
   "cell_type": "markdown",
   "id": "ba779a38",
   "metadata": {},
   "source": [
    "With this visualization I can see that:                   \n",
    "\n",
    "* Users are most active between 5pm to 7pm. I speculate that this is because users tend to finish work around these hours, and right after they start engaging in physical activities such as going to the gym or a jog. Therefore, I recommend Bellabeat to notify users to do some exercises around this time frame.\n",
    "\n",
    "* Users start to get active starting from 5am and rest on 9pm."
   ]
  },
  {
   "cell_type": "markdown",
   "id": "49ee3cbb",
   "metadata": {},
   "source": [
    "#### On what day of the week are users the most active during the day?"
   ]
  },
  {
   "cell_type": "code",
   "execution_count": 59,
   "id": "02c4a09f",
   "metadata": {},
   "outputs": [
    {
     "data": {
      "text/plain": [
       "Text(0.5, 1.0, 'Average Total Intensity Vs Day')"
      ]
     },
     "execution_count": 59,
     "metadata": {},
     "output_type": "execute_result"
    },
    {
     "data": {
      "image/png": "[encoded data removed]",
      "text/plain": [
       "<Figure size 1080x936 with 1 Axes>"
      ]
     },
     "metadata": {},
     "output_type": "display_data"
    }
   ],
   "source": [
    "meanDays = hourlyIntensities.groupby(hourlyIntensities['ActivityHour'].dt.day_name())['TotalIntensity'].mean()\n",
    "\n",
    "fig_dims = (15, 13)\n",
    "fig, ax = plt.subplots(figsize=fig_dims)\n",
    "\n",
    "# create temporary dataframe\n",
    "tempDf = pd.DataFrame(meanDays)\n",
    "tempDf = tempDf.reset_index()\n",
    "\n",
    "tempDf.rename(columns = {\"ActivityHour\": \"Day\"}, inplace = True)\n",
    "\n",
    "#sort by day\n",
    "cats = ['Monday', 'Tuesday', 'Wednesday', 'Thursday', 'Friday', 'Saturday', 'Sunday']\n",
    "tempDf['Day'] = pd.Categorical(tempDf['Day'], categories = cats)\n",
    "tempDf = tempDf.sort_values('Day')\n",
    "\n",
    "t= sns.barplot(\n",
    "    x = 'Day',\n",
    "    y = 'TotalIntensity',\n",
    "    data = tempDf\n",
    ")\n",
    "\n",
    "t.set_xlabel('Day', fontsize = 20)\n",
    "t.set_ylabel('Average Total Intensity', fontsize = 20)\n",
    "t.set_title('Average Total Intensity Vs Day', fontsize = 20)"
   ]
  },
  {
   "cell_type": "markdown",
   "id": "e934c877",
   "metadata": {},
   "source": [
    "With the above visualization, I can see that Sunday is the least intense among the users and that Saturday is the most intense. Also, on weekdays Tuesdays seem to be the most busiest in terms of both average total intensity and total steps taken. With this much evidence, I can safely conclude that Saturdays are the most active day on weekends and Tuesdays the most busiest on weekdays."
   ]
  },
  {
   "cell_type": "markdown",
   "id": "6a976854",
   "metadata": {},
   "source": [
    "**Summary of my findings:\n",
    "\n",
    "\n",
    "* After analyzing the data, I have found some insightful information that may be of interest for Bellabeat. As a reminder, Bellabeat is a high-tech company that manufactures health-focused smart products for women. Here are some business marketing recommendations that I can give to Bellabeat:\n",
    "\n",
    "\n",
    "* I suggest Bellabeat to give notifications to their users who had been idle during the day to consider doing some light exercises. And with my previous finding that shows that being sedentary is associating to lack of sleep, it shows that the more idle you are, the lesser the quality of one's sleep may be. Therefore, this reason may serve as a good incentive to encourage users to be more active as this may allow them to sleep better when it's time for bed.\n",
    "\n",
    "\n",
    "* I recommend Bellabeat to notify/remind users to do some exercises between 5pm and 7pm as this is when most users finish work and start exercising based on the data. This is also a great opportunity to encourage those who might have a goal to lose weight to start exercising on this time frame.\n",
    "\n",
    "\n",
    "* Bellabeat should consider notifying users the importance of at least getting more than 8000 steps per day as this will benefit the users in the long run. This is based on a research by CDC that taking 8,000 steps per day was associated with a 51% lower risk for all-cause mortality (or death from all causes). Therefore, it is highly recommended for Bellabeat to consider this advice into consideration for their next marketing strategy.\n",
    "\n",
    "\n",
    "* As users tend exercise more on Saturdays, Bellabeat can use this information to remind users to do some exercise on Saturdays as they are more likely to be more motivated. Also, there seems to be a noticable drop in activity when it is Sunday. Therefore, I recommend Bellabeat to encourage users to be more proactive during the Sundays as, based on the data, users tend to be a bit more laidback on Sundays. Users also seem to oversleep the most on Sunday, therefore Bellabeat should consider advising their users to be mindful of this as oversleeping is associated with risk of diabetes, heart disease, stroke, and death (source)\n",
    "\n",
    "\n",
    "* Bellabeat should notify users when their heart-rate detected to be outside the range of 60-100 BPM as this may signify a potential underlying health condition that the user may not be aware of.\n",
    "\n",
    "\n",
    "* By combining the fact that Tuesday has the most steps taken and that average total intensity is the highest, this might be the very reason why the users on this dataset are undersleeping the most on Tuesday. Bellabeat should consider advising their users to exercise meditation so as to calm themselves on stressful days.\n"
   ]
  },
  {
   "cell_type": "code",
   "execution_count": null,
   "id": "7030cc42",
   "metadata": {},
   "outputs": [],
   "source": []
  }
 ],
 "metadata": {
  "kernelspec": {
   "display_name": "Python 3",
   "language": "python",
   "name": "python3"
  },
  "language_info": {
   "codemirror_mode": {
    "name": "ipython",
    "version": 3
   },
   "file_extension": ".py",
   "mimetype": "text/x-python",
   "name": "python",
   "nbconvert_exporter": "python",
   "pygments_lexer": "ipython3",
   "version": "3.9.5"
  }
 },
 "nbformat": 4,
 "nbformat_minor": 5
}
