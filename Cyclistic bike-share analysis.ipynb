{
 "cells": [
  {
   "cell_type": "markdown",
   "id": "8e98cfd8",
   "metadata": {},
   "source": [
    "# Cyclistic bike-share analysis"
   ]
  },
  {
   "cell_type": "markdown",
   "id": "6d168b25",
   "metadata": {},
   "source": [
    "# Scenario \n",
    "\n",
    "Working in the marketing analyst team at Cyclistic, a bike-share company in Chicago. The director of marketing believes the company’s future success depends on maximizing the number of annual memberships. Therefore, your team wants to understand how casual riders and annual members use Cyclistic bikes "
   ]
  },
  {
   "cell_type": "markdown",
   "id": "39555e14",
   "metadata": {},
   "source": [
    "## clear goal: \n",
    "Design marketing strategies aimed at converting casual riders into annual members. In order to do that, however, the marketing analyst team needs to better understand how annual members and casual riders di"
   ]
  },
  {
   "cell_type": "code",
   "execution_count": 1,
   "id": "590402eb",
   "metadata": {},
   "outputs": [],
   "source": [
    "import pandas as pd"
   ]
  },
  {
   "cell_type": "markdown",
   "id": "dd71e035",
   "metadata": {},
   "source": [
    "About datasets:   \n",
    "Two type of datasets:Both are from year 2020\n",
    "\n",
    "* one dataset is First quarter of the year - 13 Columns for 426 887 rows\n",
    "* another dataset is one every month from 4th to 12th ->also  13 columns for 84 776 rows"
   ]
  },
  {
   "cell_type": "code",
   "execution_count": 2,
   "id": "0a1e79e0",
   "metadata": {},
   "outputs": [],
   "source": [
    "#Importing all the datasets\n",
    "df123_20 = pd.read_csv('Divvy_Trips_2020_Q1.csv')"
   ]
  },
  {
   "cell_type": "code",
   "execution_count": 3,
   "id": "75f32cb8",
   "metadata": {},
   "outputs": [
    {
     "data": {
      "text/html": [
       "<div>\n",
       "<style scoped>\n",
       "    .dataframe tbody tr th:only-of-type {\n",
       "        vertical-align: middle;\n",
       "    }\n",
       "\n",
       "    .dataframe tbody tr th {\n",
       "        vertical-align: top;\n",
       "    }\n",
       "\n",
       "    .dataframe thead th {\n",
       "        text-align: right;\n",
       "    }\n",
       "</style>\n",
       "<table border=\"1\" class=\"dataframe\">\n",
       "  <thead>\n",
       "    <tr style=\"text-align: right;\">\n",
       "      <th></th>\n",
       "      <th>ride_id</th>\n",
       "      <th>rideable_type</th>\n",
       "      <th>started_at</th>\n",
       "      <th>ended_at</th>\n",
       "      <th>start_station_name</th>\n",
       "      <th>start_station_id</th>\n",
       "      <th>end_station_name</th>\n",
       "      <th>end_station_id</th>\n",
       "      <th>start_lat</th>\n",
       "      <th>start_lng</th>\n",
       "      <th>end_lat</th>\n",
       "      <th>end_lng</th>\n",
       "      <th>member_casual</th>\n",
       "    </tr>\n",
       "  </thead>\n",
       "  <tbody>\n",
       "    <tr>\n",
       "      <th>0</th>\n",
       "      <td>EACB19130B0CDA4A</td>\n",
       "      <td>docked_bike</td>\n",
       "      <td>2020-01-21 20:06:59</td>\n",
       "      <td>2020-01-21 20:14:30</td>\n",
       "      <td>Western Ave &amp; Leland Ave</td>\n",
       "      <td>239</td>\n",
       "      <td>Clark St &amp; Leland Ave</td>\n",
       "      <td>326.0</td>\n",
       "      <td>41.9665</td>\n",
       "      <td>-87.6884</td>\n",
       "      <td>41.9671</td>\n",
       "      <td>-87.6674</td>\n",
       "      <td>member</td>\n",
       "    </tr>\n",
       "    <tr>\n",
       "      <th>1</th>\n",
       "      <td>8FED874C809DC021</td>\n",
       "      <td>docked_bike</td>\n",
       "      <td>2020-01-30 14:22:39</td>\n",
       "      <td>2020-01-30 14:26:22</td>\n",
       "      <td>Clark St &amp; Montrose Ave</td>\n",
       "      <td>234</td>\n",
       "      <td>Southport Ave &amp; Irving Park Rd</td>\n",
       "      <td>318.0</td>\n",
       "      <td>41.9616</td>\n",
       "      <td>-87.6660</td>\n",
       "      <td>41.9542</td>\n",
       "      <td>-87.6644</td>\n",
       "      <td>member</td>\n",
       "    </tr>\n",
       "    <tr>\n",
       "      <th>2</th>\n",
       "      <td>789F3C21E472CA96</td>\n",
       "      <td>docked_bike</td>\n",
       "      <td>2020-01-09 19:29:26</td>\n",
       "      <td>2020-01-09 19:32:17</td>\n",
       "      <td>Broadway &amp; Belmont Ave</td>\n",
       "      <td>296</td>\n",
       "      <td>Wilton Ave &amp; Belmont Ave</td>\n",
       "      <td>117.0</td>\n",
       "      <td>41.9401</td>\n",
       "      <td>-87.6455</td>\n",
       "      <td>41.9402</td>\n",
       "      <td>-87.6530</td>\n",
       "      <td>member</td>\n",
       "    </tr>\n",
       "    <tr>\n",
       "      <th>3</th>\n",
       "      <td>C9A388DAC6ABF313</td>\n",
       "      <td>docked_bike</td>\n",
       "      <td>2020-01-06 16:17:07</td>\n",
       "      <td>2020-01-06 16:25:56</td>\n",
       "      <td>Clark St &amp; Randolph St</td>\n",
       "      <td>51</td>\n",
       "      <td>Fairbanks Ct &amp; Grand Ave</td>\n",
       "      <td>24.0</td>\n",
       "      <td>41.8846</td>\n",
       "      <td>-87.6319</td>\n",
       "      <td>41.8918</td>\n",
       "      <td>-87.6206</td>\n",
       "      <td>member</td>\n",
       "    </tr>\n",
       "    <tr>\n",
       "      <th>4</th>\n",
       "      <td>943BC3CBECCFD662</td>\n",
       "      <td>docked_bike</td>\n",
       "      <td>2020-01-30 08:37:16</td>\n",
       "      <td>2020-01-30 08:42:48</td>\n",
       "      <td>Clinton St &amp; Lake St</td>\n",
       "      <td>66</td>\n",
       "      <td>Wells St &amp; Hubbard St</td>\n",
       "      <td>212.0</td>\n",
       "      <td>41.8856</td>\n",
       "      <td>-87.6418</td>\n",
       "      <td>41.8899</td>\n",
       "      <td>-87.6343</td>\n",
       "      <td>member</td>\n",
       "    </tr>\n",
       "  </tbody>\n",
       "</table>\n",
       "</div>"
      ],
      "text/plain": [
       "            ride_id rideable_type           started_at             ended_at  \\\n",
       "0  EACB19130B0CDA4A   docked_bike  2020-01-21 20:06:59  2020-01-21 20:14:30   \n",
       "1  8FED874C809DC021   docked_bike  2020-01-30 14:22:39  2020-01-30 14:26:22   \n",
       "2  789F3C21E472CA96   docked_bike  2020-01-09 19:29:26  2020-01-09 19:32:17   \n",
       "3  C9A388DAC6ABF313   docked_bike  2020-01-06 16:17:07  2020-01-06 16:25:56   \n",
       "4  943BC3CBECCFD662   docked_bike  2020-01-30 08:37:16  2020-01-30 08:42:48   \n",
       "\n",
       "         start_station_name  start_station_id                end_station_name  \\\n",
       "0  Western Ave & Leland Ave               239           Clark St & Leland Ave   \n",
       "1   Clark St & Montrose Ave               234  Southport Ave & Irving Park Rd   \n",
       "2    Broadway & Belmont Ave               296        Wilton Ave & Belmont Ave   \n",
       "3    Clark St & Randolph St                51        Fairbanks Ct & Grand Ave   \n",
       "4      Clinton St & Lake St                66           Wells St & Hubbard St   \n",
       "\n",
       "   end_station_id  start_lat  start_lng  end_lat  end_lng member_casual  \n",
       "0           326.0    41.9665   -87.6884  41.9671 -87.6674        member  \n",
       "1           318.0    41.9616   -87.6660  41.9542 -87.6644        member  \n",
       "2           117.0    41.9401   -87.6455  41.9402 -87.6530        member  \n",
       "3            24.0    41.8846   -87.6319  41.8918 -87.6206        member  \n",
       "4           212.0    41.8856   -87.6418  41.8899 -87.6343        member  "
      ]
     },
     "execution_count": 3,
     "metadata": {},
     "output_type": "execute_result"
    }
   ],
   "source": [
    "df123_20.head()"
   ]
  },
  {
   "cell_type": "code",
   "execution_count": 4,
   "id": "df19d021",
   "metadata": {},
   "outputs": [],
   "source": [
    "df4_20 = pd.read_csv('202004-divvy-tripdata.csv') \n",
    "df5_20 = pd.read_csv('202005-divvy-tripdata.csv') \n",
    "df6_20 = pd.read_csv('202006-divvy-tripdata.csv') \n",
    "df7_20 = pd.read_csv('202007-divvy-tripdata.csv') \n",
    "df8_20 = pd.read_csv('202008-divvy-tripdata.csv') \n",
    "df9_20 = pd.read_csv('202009-divvy-tripdata.csv') \n",
    "df10_20 = pd.read_csv('202010-divvy-tripdata.csv') \n",
    "df11_20 = pd.read_csv('202011-divvy-tripdata.csv') \n",
    "df12_20 = pd.read_csv('202012-divvy-tripdata.csv') "
   ]
  },
  {
   "cell_type": "code",
   "execution_count": 5,
   "id": "99f81aff",
   "metadata": {},
   "outputs": [
    {
     "data": {
      "text/html": [
       "<div>\n",
       "<style scoped>\n",
       "    .dataframe tbody tr th:only-of-type {\n",
       "        vertical-align: middle;\n",
       "    }\n",
       "\n",
       "    .dataframe tbody tr th {\n",
       "        vertical-align: top;\n",
       "    }\n",
       "\n",
       "    .dataframe thead th {\n",
       "        text-align: right;\n",
       "    }\n",
       "</style>\n",
       "<table border=\"1\" class=\"dataframe\">\n",
       "  <thead>\n",
       "    <tr style=\"text-align: right;\">\n",
       "      <th></th>\n",
       "      <th>ride_id</th>\n",
       "      <th>rideable_type</th>\n",
       "      <th>started_at</th>\n",
       "      <th>ended_at</th>\n",
       "      <th>start_station_name</th>\n",
       "      <th>start_station_id</th>\n",
       "      <th>end_station_name</th>\n",
       "      <th>end_station_id</th>\n",
       "      <th>start_lat</th>\n",
       "      <th>start_lng</th>\n",
       "      <th>end_lat</th>\n",
       "      <th>end_lng</th>\n",
       "      <th>member_casual</th>\n",
       "    </tr>\n",
       "  </thead>\n",
       "  <tbody>\n",
       "    <tr>\n",
       "      <th>0</th>\n",
       "      <td>02668AD35674B983</td>\n",
       "      <td>docked_bike</td>\n",
       "      <td>2020-05-27 10:03:52</td>\n",
       "      <td>2020-05-27 10:16:49</td>\n",
       "      <td>Franklin St &amp; Jackson Blvd</td>\n",
       "      <td>36</td>\n",
       "      <td>Wabash Ave &amp; Grand Ave</td>\n",
       "      <td>199.0</td>\n",
       "      <td>41.8777</td>\n",
       "      <td>-87.6353</td>\n",
       "      <td>41.8915</td>\n",
       "      <td>-87.6268</td>\n",
       "      <td>member</td>\n",
       "    </tr>\n",
       "    <tr>\n",
       "      <th>1</th>\n",
       "      <td>7A50CCAF1EDDB28F</td>\n",
       "      <td>docked_bike</td>\n",
       "      <td>2020-05-25 10:47:11</td>\n",
       "      <td>2020-05-25 11:05:40</td>\n",
       "      <td>Clark St &amp; Wrightwood Ave</td>\n",
       "      <td>340</td>\n",
       "      <td>Clark St &amp; Leland Ave</td>\n",
       "      <td>326.0</td>\n",
       "      <td>41.9295</td>\n",
       "      <td>-87.6431</td>\n",
       "      <td>41.9671</td>\n",
       "      <td>-87.6674</td>\n",
       "      <td>casual</td>\n",
       "    </tr>\n",
       "    <tr>\n",
       "      <th>2</th>\n",
       "      <td>2FFCDFDB91FE9A52</td>\n",
       "      <td>docked_bike</td>\n",
       "      <td>2020-05-02 14:11:03</td>\n",
       "      <td>2020-05-02 15:48:21</td>\n",
       "      <td>Kedzie Ave &amp; Milwaukee Ave</td>\n",
       "      <td>260</td>\n",
       "      <td>Kedzie Ave &amp; Milwaukee Ave</td>\n",
       "      <td>260.0</td>\n",
       "      <td>41.9296</td>\n",
       "      <td>-87.7079</td>\n",
       "      <td>41.9296</td>\n",
       "      <td>-87.7079</td>\n",
       "      <td>casual</td>\n",
       "    </tr>\n",
       "    <tr>\n",
       "      <th>3</th>\n",
       "      <td>58991CF1DB75BA84</td>\n",
       "      <td>docked_bike</td>\n",
       "      <td>2020-05-02 16:25:36</td>\n",
       "      <td>2020-05-02 16:39:28</td>\n",
       "      <td>Clarendon Ave &amp; Leland Ave</td>\n",
       "      <td>251</td>\n",
       "      <td>Lake Shore Dr &amp; Wellington Ave</td>\n",
       "      <td>157.0</td>\n",
       "      <td>41.9680</td>\n",
       "      <td>-87.6500</td>\n",
       "      <td>41.9367</td>\n",
       "      <td>-87.6368</td>\n",
       "      <td>casual</td>\n",
       "    </tr>\n",
       "    <tr>\n",
       "      <th>4</th>\n",
       "      <td>A79651EFECC268CD</td>\n",
       "      <td>docked_bike</td>\n",
       "      <td>2020-05-29 12:49:54</td>\n",
       "      <td>2020-05-29 13:27:11</td>\n",
       "      <td>Hermitage Ave &amp; Polk St</td>\n",
       "      <td>261</td>\n",
       "      <td>Halsted St &amp; Archer Ave</td>\n",
       "      <td>206.0</td>\n",
       "      <td>41.8715</td>\n",
       "      <td>-87.6699</td>\n",
       "      <td>41.8472</td>\n",
       "      <td>-87.6468</td>\n",
       "      <td>member</td>\n",
       "    </tr>\n",
       "  </tbody>\n",
       "</table>\n",
       "</div>"
      ],
      "text/plain": [
       "            ride_id rideable_type           started_at             ended_at  \\\n",
       "0  02668AD35674B983   docked_bike  2020-05-27 10:03:52  2020-05-27 10:16:49   \n",
       "1  7A50CCAF1EDDB28F   docked_bike  2020-05-25 10:47:11  2020-05-25 11:05:40   \n",
       "2  2FFCDFDB91FE9A52   docked_bike  2020-05-02 14:11:03  2020-05-02 15:48:21   \n",
       "3  58991CF1DB75BA84   docked_bike  2020-05-02 16:25:36  2020-05-02 16:39:28   \n",
       "4  A79651EFECC268CD   docked_bike  2020-05-29 12:49:54  2020-05-29 13:27:11   \n",
       "\n",
       "           start_station_name  start_station_id  \\\n",
       "0  Franklin St & Jackson Blvd                36   \n",
       "1   Clark St & Wrightwood Ave               340   \n",
       "2  Kedzie Ave & Milwaukee Ave               260   \n",
       "3  Clarendon Ave & Leland Ave               251   \n",
       "4     Hermitage Ave & Polk St               261   \n",
       "\n",
       "                 end_station_name  end_station_id  start_lat  start_lng  \\\n",
       "0          Wabash Ave & Grand Ave           199.0    41.8777   -87.6353   \n",
       "1           Clark St & Leland Ave           326.0    41.9295   -87.6431   \n",
       "2      Kedzie Ave & Milwaukee Ave           260.0    41.9296   -87.7079   \n",
       "3  Lake Shore Dr & Wellington Ave           157.0    41.9680   -87.6500   \n",
       "4         Halsted St & Archer Ave           206.0    41.8715   -87.6699   \n",
       "\n",
       "   end_lat  end_lng member_casual  \n",
       "0  41.8915 -87.6268        member  \n",
       "1  41.9671 -87.6674        casual  \n",
       "2  41.9296 -87.7079        casual  \n",
       "3  41.9367 -87.6368        casual  \n",
       "4  41.8472 -87.6468        member  "
      ]
     },
     "execution_count": 5,
     "metadata": {},
     "output_type": "execute_result"
    }
   ],
   "source": [
    "df5_20.head()"
   ]
  },
  {
   "cell_type": "code",
   "execution_count": 6,
   "id": "706239cc",
   "metadata": {},
   "outputs": [
    {
     "data": {
      "text/html": [
       "<div>\n",
       "<style scoped>\n",
       "    .dataframe tbody tr th:only-of-type {\n",
       "        vertical-align: middle;\n",
       "    }\n",
       "\n",
       "    .dataframe tbody tr th {\n",
       "        vertical-align: top;\n",
       "    }\n",
       "\n",
       "    .dataframe thead th {\n",
       "        text-align: right;\n",
       "    }\n",
       "</style>\n",
       "<table border=\"1\" class=\"dataframe\">\n",
       "  <thead>\n",
       "    <tr style=\"text-align: right;\">\n",
       "      <th></th>\n",
       "      <th>ride_id</th>\n",
       "      <th>rideable_type</th>\n",
       "      <th>started_at</th>\n",
       "      <th>ended_at</th>\n",
       "      <th>start_station_name</th>\n",
       "      <th>start_station_id</th>\n",
       "      <th>end_station_name</th>\n",
       "      <th>end_station_id</th>\n",
       "      <th>start_lat</th>\n",
       "      <th>start_lng</th>\n",
       "      <th>end_lat</th>\n",
       "      <th>end_lng</th>\n",
       "      <th>member_casual</th>\n",
       "    </tr>\n",
       "  </thead>\n",
       "  <tbody>\n",
       "    <tr>\n",
       "      <th>0</th>\n",
       "      <td>BD0A6FF6FFF9B921</td>\n",
       "      <td>electric_bike</td>\n",
       "      <td>2020-11-01 13:36:00</td>\n",
       "      <td>2020-11-01 13:45:40</td>\n",
       "      <td>Dearborn St &amp; Erie St</td>\n",
       "      <td>110.0</td>\n",
       "      <td>St. Clair St &amp; Erie St</td>\n",
       "      <td>211.0</td>\n",
       "      <td>41.894177</td>\n",
       "      <td>-87.629127</td>\n",
       "      <td>41.894434</td>\n",
       "      <td>-87.623379</td>\n",
       "      <td>casual</td>\n",
       "    </tr>\n",
       "    <tr>\n",
       "      <th>1</th>\n",
       "      <td>96A7A7A4BDE4F82D</td>\n",
       "      <td>electric_bike</td>\n",
       "      <td>2020-11-01 10:03:26</td>\n",
       "      <td>2020-11-01 10:14:45</td>\n",
       "      <td>Franklin St &amp; Illinois St</td>\n",
       "      <td>672.0</td>\n",
       "      <td>Noble St &amp; Milwaukee Ave</td>\n",
       "      <td>29.0</td>\n",
       "      <td>41.890959</td>\n",
       "      <td>-87.635343</td>\n",
       "      <td>41.900675</td>\n",
       "      <td>-87.662480</td>\n",
       "      <td>casual</td>\n",
       "    </tr>\n",
       "    <tr>\n",
       "      <th>2</th>\n",
       "      <td>C61526D06582BDC5</td>\n",
       "      <td>electric_bike</td>\n",
       "      <td>2020-11-01 00:34:05</td>\n",
       "      <td>2020-11-01 01:03:06</td>\n",
       "      <td>Lake Shore Dr &amp; Monroe St</td>\n",
       "      <td>76.0</td>\n",
       "      <td>Federal St &amp; Polk St</td>\n",
       "      <td>41.0</td>\n",
       "      <td>41.880983</td>\n",
       "      <td>-87.616754</td>\n",
       "      <td>41.872054</td>\n",
       "      <td>-87.629550</td>\n",
       "      <td>casual</td>\n",
       "    </tr>\n",
       "    <tr>\n",
       "      <th>3</th>\n",
       "      <td>E533E89C32080B9E</td>\n",
       "      <td>electric_bike</td>\n",
       "      <td>2020-11-01 00:45:16</td>\n",
       "      <td>2020-11-01 00:54:31</td>\n",
       "      <td>Leavitt St &amp; Chicago Ave</td>\n",
       "      <td>659.0</td>\n",
       "      <td>Stave St &amp; Armitage Ave</td>\n",
       "      <td>185.0</td>\n",
       "      <td>41.895499</td>\n",
       "      <td>-87.682013</td>\n",
       "      <td>41.917744</td>\n",
       "      <td>-87.691392</td>\n",
       "      <td>casual</td>\n",
       "    </tr>\n",
       "    <tr>\n",
       "      <th>4</th>\n",
       "      <td>1C9F4EF18C168C60</td>\n",
       "      <td>electric_bike</td>\n",
       "      <td>2020-11-01 15:43:25</td>\n",
       "      <td>2020-11-01 16:16:52</td>\n",
       "      <td>Buckingham Fountain</td>\n",
       "      <td>2.0</td>\n",
       "      <td>Buckingham Fountain</td>\n",
       "      <td>2.0</td>\n",
       "      <td>41.876497</td>\n",
       "      <td>-87.620358</td>\n",
       "      <td>41.876448</td>\n",
       "      <td>-87.620338</td>\n",
       "      <td>casual</td>\n",
       "    </tr>\n",
       "  </tbody>\n",
       "</table>\n",
       "</div>"
      ],
      "text/plain": [
       "            ride_id  rideable_type           started_at             ended_at  \\\n",
       "0  BD0A6FF6FFF9B921  electric_bike  2020-11-01 13:36:00  2020-11-01 13:45:40   \n",
       "1  96A7A7A4BDE4F82D  electric_bike  2020-11-01 10:03:26  2020-11-01 10:14:45   \n",
       "2  C61526D06582BDC5  electric_bike  2020-11-01 00:34:05  2020-11-01 01:03:06   \n",
       "3  E533E89C32080B9E  electric_bike  2020-11-01 00:45:16  2020-11-01 00:54:31   \n",
       "4  1C9F4EF18C168C60  electric_bike  2020-11-01 15:43:25  2020-11-01 16:16:52   \n",
       "\n",
       "          start_station_name  start_station_id          end_station_name  \\\n",
       "0      Dearborn St & Erie St             110.0    St. Clair St & Erie St   \n",
       "1  Franklin St & Illinois St             672.0  Noble St & Milwaukee Ave   \n",
       "2  Lake Shore Dr & Monroe St              76.0      Federal St & Polk St   \n",
       "3   Leavitt St & Chicago Ave             659.0   Stave St & Armitage Ave   \n",
       "4        Buckingham Fountain               2.0       Buckingham Fountain   \n",
       "\n",
       "   end_station_id  start_lat  start_lng    end_lat    end_lng member_casual  \n",
       "0           211.0  41.894177 -87.629127  41.894434 -87.623379        casual  \n",
       "1            29.0  41.890959 -87.635343  41.900675 -87.662480        casual  \n",
       "2            41.0  41.880983 -87.616754  41.872054 -87.629550        casual  \n",
       "3           185.0  41.895499 -87.682013  41.917744 -87.691392        casual  \n",
       "4             2.0  41.876497 -87.620358  41.876448 -87.620338        casual  "
      ]
     },
     "execution_count": 6,
     "metadata": {},
     "output_type": "execute_result"
    }
   ],
   "source": [
    "df11_20.head()"
   ]
  },
  {
   "cell_type": "markdown",
   "id": "37f5f805",
   "metadata": {},
   "source": [
    "### Seems all the attributes of all the datasets are same"
   ]
  },
  {
   "cell_type": "markdown",
   "id": "5759af09",
   "metadata": {},
   "source": [
    "df123_20.info()"
   ]
  },
  {
   "cell_type": "code",
   "execution_count": 7,
   "id": "a5c8b25d",
   "metadata": {},
   "outputs": [
    {
     "name": "stdout",
     "output_type": "stream",
     "text": [
      "<class 'pandas.core.frame.DataFrame'>\n",
      "RangeIndex: 551480 entries, 0 to 551479\n",
      "Data columns (total 13 columns):\n",
      " #   Column              Non-Null Count   Dtype  \n",
      "---  ------              --------------   -----  \n",
      " 0   ride_id             551480 non-null  object \n",
      " 1   rideable_type       551480 non-null  object \n",
      " 2   started_at          551480 non-null  object \n",
      " 3   ended_at            551480 non-null  object \n",
      " 4   start_station_name  551331 non-null  object \n",
      " 5   start_station_id    551328 non-null  float64\n",
      " 6   end_station_name    550513 non-null  object \n",
      " 7   end_station_id      550511 non-null  float64\n",
      " 8   start_lat           551480 non-null  float64\n",
      " 9   start_lng           551480 non-null  float64\n",
      " 10  end_lat             550710 non-null  float64\n",
      " 11  end_lng             550710 non-null  float64\n",
      " 12  member_casual       551480 non-null  object \n",
      "dtypes: float64(6), object(7)\n",
      "memory usage: 54.7+ MB\n"
     ]
    }
   ],
   "source": [
    "df7_20.info()"
   ]
  },
  {
   "cell_type": "markdown",
   "id": "9805e6a0",
   "metadata": {},
   "source": [
    "### This project was to determin how to convert casual riders into annual members\n",
    "        Casual members - who take the cycles for single day or one time\n",
    "        Annual member - Whole Year"
   ]
  },
  {
   "cell_type": "code",
   "execution_count": 8,
   "id": "2baa370d",
   "metadata": {},
   "outputs": [
    {
     "data": {
      "text/plain": [
       "array(['member', 'casual'], dtype=object)"
      ]
     },
     "execution_count": 8,
     "metadata": {},
     "output_type": "execute_result"
    }
   ],
   "source": [
    "df123_20['member_casual'].unique()"
   ]
  },
  {
   "cell_type": "markdown",
   "id": "9f76e21a",
   "metadata": {},
   "source": [
    "### Now joining all the datasets into one dataframe"
   ]
  },
  {
   "cell_type": "code",
   "execution_count": 9,
   "id": "c5d712e7",
   "metadata": {},
   "outputs": [],
   "source": [
    "m1_m12 = [df123_20,df4_20,df5_20,df6_20,df7_20,df8_20,df9_20,df10_20,df11_20,df12_20]\n",
    "df_2020 = pd.concat(m1_m12)"
   ]
  },
  {
   "cell_type": "code",
   "execution_count": 10,
   "id": "9ca4bebc",
   "metadata": {},
   "outputs": [
    {
     "data": {
      "text/plain": [
       "Index(['ride_id', 'rideable_type', 'started_at', 'ended_at',\n",
       "       'start_station_name', 'start_station_id', 'end_station_name',\n",
       "       'end_station_id', 'start_lat', 'start_lng', 'end_lat', 'end_lng',\n",
       "       'member_casual'],\n",
       "      dtype='object')"
      ]
     },
     "execution_count": 10,
     "metadata": {},
     "output_type": "execute_result"
    }
   ],
   "source": [
    "df_2020.columns"
   ]
  },
  {
   "cell_type": "markdown",
   "id": "4eb02b17",
   "metadata": {},
   "source": [
    "### For the Goal set ,Only thing concerns us ,The attribute \"members_casual\" which could include the time for ride  , so I will be using columns like  \n",
    "    ride_id',\n",
    "    started_at\n",
    "    'ended_at'\n",
    "    'member_casual\n",
    "Others columnns will be dropped for now\n"
   ]
  },
  {
   "cell_type": "code",
   "execution_count": 11,
   "id": "cae4cab8",
   "metadata": {},
   "outputs": [],
   "source": [
    "df = df_2020.drop(['rideable_type','start_station_name', 'start_station_id', 'end_station_name',\n",
    "       'end_station_id', 'start_lat', 'start_lng', 'end_lat', 'end_lng'],axis=1,inplace=False)"
   ]
  },
  {
   "cell_type": "code",
   "execution_count": 12,
   "id": "e69704f4",
   "metadata": {},
   "outputs": [
    {
     "data": {
      "text/html": [
       "<div>\n",
       "<style scoped>\n",
       "    .dataframe tbody tr th:only-of-type {\n",
       "        vertical-align: middle;\n",
       "    }\n",
       "\n",
       "    .dataframe tbody tr th {\n",
       "        vertical-align: top;\n",
       "    }\n",
       "\n",
       "    .dataframe thead th {\n",
       "        text-align: right;\n",
       "    }\n",
       "</style>\n",
       "<table border=\"1\" class=\"dataframe\">\n",
       "  <thead>\n",
       "    <tr style=\"text-align: right;\">\n",
       "      <th></th>\n",
       "      <th>ride_id</th>\n",
       "      <th>started_at</th>\n",
       "      <th>ended_at</th>\n",
       "      <th>member_casual</th>\n",
       "    </tr>\n",
       "  </thead>\n",
       "  <tbody>\n",
       "    <tr>\n",
       "      <th>0</th>\n",
       "      <td>EACB19130B0CDA4A</td>\n",
       "      <td>2020-01-21 20:06:59</td>\n",
       "      <td>2020-01-21 20:14:30</td>\n",
       "      <td>member</td>\n",
       "    </tr>\n",
       "    <tr>\n",
       "      <th>1</th>\n",
       "      <td>8FED874C809DC021</td>\n",
       "      <td>2020-01-30 14:22:39</td>\n",
       "      <td>2020-01-30 14:26:22</td>\n",
       "      <td>member</td>\n",
       "    </tr>\n",
       "    <tr>\n",
       "      <th>2</th>\n",
       "      <td>789F3C21E472CA96</td>\n",
       "      <td>2020-01-09 19:29:26</td>\n",
       "      <td>2020-01-09 19:32:17</td>\n",
       "      <td>member</td>\n",
       "    </tr>\n",
       "    <tr>\n",
       "      <th>3</th>\n",
       "      <td>C9A388DAC6ABF313</td>\n",
       "      <td>2020-01-06 16:17:07</td>\n",
       "      <td>2020-01-06 16:25:56</td>\n",
       "      <td>member</td>\n",
       "    </tr>\n",
       "    <tr>\n",
       "      <th>4</th>\n",
       "      <td>943BC3CBECCFD662</td>\n",
       "      <td>2020-01-30 08:37:16</td>\n",
       "      <td>2020-01-30 08:42:48</td>\n",
       "      <td>member</td>\n",
       "    </tr>\n",
       "  </tbody>\n",
       "</table>\n",
       "</div>"
      ],
      "text/plain": [
       "            ride_id           started_at             ended_at member_casual\n",
       "0  EACB19130B0CDA4A  2020-01-21 20:06:59  2020-01-21 20:14:30        member\n",
       "1  8FED874C809DC021  2020-01-30 14:22:39  2020-01-30 14:26:22        member\n",
       "2  789F3C21E472CA96  2020-01-09 19:29:26  2020-01-09 19:32:17        member\n",
       "3  C9A388DAC6ABF313  2020-01-06 16:17:07  2020-01-06 16:25:56        member\n",
       "4  943BC3CBECCFD662  2020-01-30 08:37:16  2020-01-30 08:42:48        member"
      ]
     },
     "execution_count": 12,
     "metadata": {},
     "output_type": "execute_result"
    }
   ],
   "source": [
    "df.head()"
   ]
  },
  {
   "cell_type": "code",
   "execution_count": 13,
   "id": "d6b19894",
   "metadata": {},
   "outputs": [
    {
     "name": "stdout",
     "output_type": "stream",
     "text": [
      "<class 'pandas.core.frame.DataFrame'>\n",
      "Int64Index: 3541683 entries, 0 to 131572\n",
      "Data columns (total 4 columns):\n",
      " #   Column         Dtype \n",
      "---  ------         ----- \n",
      " 0   ride_id        object\n",
      " 1   started_at     object\n",
      " 2   ended_at       object\n",
      " 3   member_casual  object\n",
      "dtypes: object(4)\n",
      "memory usage: 135.1+ MB\n"
     ]
    }
   ],
   "source": [
    "df.info()"
   ]
  },
  {
   "cell_type": "code",
   "execution_count": 14,
   "id": "8e028831",
   "metadata": {},
   "outputs": [],
   "source": [
    "#the 2 columns started_at and ended_at were object type \n",
    "#let's turn them into a date and time format\n",
    "df['started_at'] = pd.to_datetime(df['started_at'])\n",
    "df['ended_at'] = pd.to_datetime(df['ended_at'])"
   ]
  },
  {
   "cell_type": "code",
   "execution_count": 15,
   "id": "7e873634",
   "metadata": {},
   "outputs": [],
   "source": [
    "#for the length of the trip, we can subtract started date fron ended date\n",
    "df['trip_length'] = df['ended_at'] -  df['started_at']"
   ]
  },
  {
   "cell_type": "code",
   "execution_count": 16,
   "id": "15d24162",
   "metadata": {},
   "outputs": [
    {
     "data": {
      "text/html": [
       "<div>\n",
       "<style scoped>\n",
       "    .dataframe tbody tr th:only-of-type {\n",
       "        vertical-align: middle;\n",
       "    }\n",
       "\n",
       "    .dataframe tbody tr th {\n",
       "        vertical-align: top;\n",
       "    }\n",
       "\n",
       "    .dataframe thead th {\n",
       "        text-align: right;\n",
       "    }\n",
       "</style>\n",
       "<table border=\"1\" class=\"dataframe\">\n",
       "  <thead>\n",
       "    <tr style=\"text-align: right;\">\n",
       "      <th></th>\n",
       "      <th>ride_id</th>\n",
       "      <th>started_at</th>\n",
       "      <th>ended_at</th>\n",
       "      <th>member_casual</th>\n",
       "      <th>trip_length</th>\n",
       "    </tr>\n",
       "  </thead>\n",
       "  <tbody>\n",
       "    <tr>\n",
       "      <th>0</th>\n",
       "      <td>EACB19130B0CDA4A</td>\n",
       "      <td>2020-01-21 20:06:59</td>\n",
       "      <td>2020-01-21 20:14:30</td>\n",
       "      <td>member</td>\n",
       "      <td>0 days 00:07:31</td>\n",
       "    </tr>\n",
       "    <tr>\n",
       "      <th>1</th>\n",
       "      <td>8FED874C809DC021</td>\n",
       "      <td>2020-01-30 14:22:39</td>\n",
       "      <td>2020-01-30 14:26:22</td>\n",
       "      <td>member</td>\n",
       "      <td>0 days 00:03:43</td>\n",
       "    </tr>\n",
       "    <tr>\n",
       "      <th>2</th>\n",
       "      <td>789F3C21E472CA96</td>\n",
       "      <td>2020-01-09 19:29:26</td>\n",
       "      <td>2020-01-09 19:32:17</td>\n",
       "      <td>member</td>\n",
       "      <td>0 days 00:02:51</td>\n",
       "    </tr>\n",
       "    <tr>\n",
       "      <th>3</th>\n",
       "      <td>C9A388DAC6ABF313</td>\n",
       "      <td>2020-01-06 16:17:07</td>\n",
       "      <td>2020-01-06 16:25:56</td>\n",
       "      <td>member</td>\n",
       "      <td>0 days 00:08:49</td>\n",
       "    </tr>\n",
       "    <tr>\n",
       "      <th>4</th>\n",
       "      <td>943BC3CBECCFD662</td>\n",
       "      <td>2020-01-30 08:37:16</td>\n",
       "      <td>2020-01-30 08:42:48</td>\n",
       "      <td>member</td>\n",
       "      <td>0 days 00:05:32</td>\n",
       "    </tr>\n",
       "  </tbody>\n",
       "</table>\n",
       "</div>"
      ],
      "text/plain": [
       "            ride_id          started_at            ended_at member_casual  \\\n",
       "0  EACB19130B0CDA4A 2020-01-21 20:06:59 2020-01-21 20:14:30        member   \n",
       "1  8FED874C809DC021 2020-01-30 14:22:39 2020-01-30 14:26:22        member   \n",
       "2  789F3C21E472CA96 2020-01-09 19:29:26 2020-01-09 19:32:17        member   \n",
       "3  C9A388DAC6ABF313 2020-01-06 16:17:07 2020-01-06 16:25:56        member   \n",
       "4  943BC3CBECCFD662 2020-01-30 08:37:16 2020-01-30 08:42:48        member   \n",
       "\n",
       "      trip_length  \n",
       "0 0 days 00:07:31  \n",
       "1 0 days 00:03:43  \n",
       "2 0 days 00:02:51  \n",
       "3 0 days 00:08:49  \n",
       "4 0 days 00:05:32  "
      ]
     },
     "execution_count": 16,
     "metadata": {},
     "output_type": "execute_result"
    }
   ],
   "source": [
    "df.head()"
   ]
  },
  {
   "cell_type": "code",
   "execution_count": 17,
   "id": "327951e5",
   "metadata": {},
   "outputs": [
    {
     "data": {
      "text/plain": [
       "array([     451000000000,      223000000000,      171000000000, ...,\n",
       "       -1717424000000000,    69126000000000, -1706339000000000],\n",
       "      dtype='timedelta64[ns]')"
      ]
     },
     "execution_count": 17,
     "metadata": {},
     "output_type": "execute_result"
    }
   ],
   "source": [
    "df['trip_length'].unique()"
   ]
  },
  {
   "cell_type": "markdown",
   "id": "712de31b",
   "metadata": {},
   "source": [
    "### We create a column that will give the day of the week when the ride started.\n",
    "\n",
    "/!\\\n",
    "\n",
    "    0 = Monday\n",
    "    1 = Tuesday\n",
    "    2 = Wednesday\n",
    "    3 = Thursday\n",
    "    4 = Friday\n",
    "    5 = Saturday\n",
    "    6 = Sunday"
   ]
  },
  {
   "cell_type": "code",
   "execution_count": 18,
   "id": "d71bc329",
   "metadata": {},
   "outputs": [],
   "source": [
    "df['trip_started_day'] = df['started_at'].dt.dayofweek"
   ]
  },
  {
   "cell_type": "code",
   "execution_count": 19,
   "id": "94a8867f",
   "metadata": {},
   "outputs": [
    {
     "data": {
      "text/html": [
       "<div>\n",
       "<style scoped>\n",
       "    .dataframe tbody tr th:only-of-type {\n",
       "        vertical-align: middle;\n",
       "    }\n",
       "\n",
       "    .dataframe tbody tr th {\n",
       "        vertical-align: top;\n",
       "    }\n",
       "\n",
       "    .dataframe thead th {\n",
       "        text-align: right;\n",
       "    }\n",
       "</style>\n",
       "<table border=\"1\" class=\"dataframe\">\n",
       "  <thead>\n",
       "    <tr style=\"text-align: right;\">\n",
       "      <th></th>\n",
       "      <th>ride_id</th>\n",
       "      <th>started_at</th>\n",
       "      <th>ended_at</th>\n",
       "      <th>member_casual</th>\n",
       "      <th>trip_length</th>\n",
       "      <th>trip_started_day</th>\n",
       "    </tr>\n",
       "  </thead>\n",
       "  <tbody>\n",
       "    <tr>\n",
       "      <th>0</th>\n",
       "      <td>EACB19130B0CDA4A</td>\n",
       "      <td>2020-01-21 20:06:59</td>\n",
       "      <td>2020-01-21 20:14:30</td>\n",
       "      <td>member</td>\n",
       "      <td>0 days 00:07:31</td>\n",
       "      <td>1</td>\n",
       "    </tr>\n",
       "    <tr>\n",
       "      <th>1</th>\n",
       "      <td>8FED874C809DC021</td>\n",
       "      <td>2020-01-30 14:22:39</td>\n",
       "      <td>2020-01-30 14:26:22</td>\n",
       "      <td>member</td>\n",
       "      <td>0 days 00:03:43</td>\n",
       "      <td>3</td>\n",
       "    </tr>\n",
       "    <tr>\n",
       "      <th>2</th>\n",
       "      <td>789F3C21E472CA96</td>\n",
       "      <td>2020-01-09 19:29:26</td>\n",
       "      <td>2020-01-09 19:32:17</td>\n",
       "      <td>member</td>\n",
       "      <td>0 days 00:02:51</td>\n",
       "      <td>3</td>\n",
       "    </tr>\n",
       "    <tr>\n",
       "      <th>3</th>\n",
       "      <td>C9A388DAC6ABF313</td>\n",
       "      <td>2020-01-06 16:17:07</td>\n",
       "      <td>2020-01-06 16:25:56</td>\n",
       "      <td>member</td>\n",
       "      <td>0 days 00:08:49</td>\n",
       "      <td>0</td>\n",
       "    </tr>\n",
       "    <tr>\n",
       "      <th>4</th>\n",
       "      <td>943BC3CBECCFD662</td>\n",
       "      <td>2020-01-30 08:37:16</td>\n",
       "      <td>2020-01-30 08:42:48</td>\n",
       "      <td>member</td>\n",
       "      <td>0 days 00:05:32</td>\n",
       "      <td>3</td>\n",
       "    </tr>\n",
       "  </tbody>\n",
       "</table>\n",
       "</div>"
      ],
      "text/plain": [
       "            ride_id          started_at            ended_at member_casual  \\\n",
       "0  EACB19130B0CDA4A 2020-01-21 20:06:59 2020-01-21 20:14:30        member   \n",
       "1  8FED874C809DC021 2020-01-30 14:22:39 2020-01-30 14:26:22        member   \n",
       "2  789F3C21E472CA96 2020-01-09 19:29:26 2020-01-09 19:32:17        member   \n",
       "3  C9A388DAC6ABF313 2020-01-06 16:17:07 2020-01-06 16:25:56        member   \n",
       "4  943BC3CBECCFD662 2020-01-30 08:37:16 2020-01-30 08:42:48        member   \n",
       "\n",
       "      trip_length  trip_started_day  \n",
       "0 0 days 00:07:31                 1  \n",
       "1 0 days 00:03:43                 3  \n",
       "2 0 days 00:02:51                 3  \n",
       "3 0 days 00:08:49                 0  \n",
       "4 0 days 00:05:32                 3  "
      ]
     },
     "execution_count": 19,
     "metadata": {},
     "output_type": "execute_result"
    }
   ],
   "source": [
    "df.head()"
   ]
  },
  {
   "cell_type": "code",
   "execution_count": 20,
   "id": "783292ee",
   "metadata": {},
   "outputs": [],
   "source": [
    "df['trip_started_month'] = pd.DatetimeIndex(df['started_at']).month"
   ]
  },
  {
   "cell_type": "code",
   "execution_count": 21,
   "id": "59027ebb",
   "metadata": {},
   "outputs": [
    {
     "data": {
      "text/html": [
       "<div>\n",
       "<style scoped>\n",
       "    .dataframe tbody tr th:only-of-type {\n",
       "        vertical-align: middle;\n",
       "    }\n",
       "\n",
       "    .dataframe tbody tr th {\n",
       "        vertical-align: top;\n",
       "    }\n",
       "\n",
       "    .dataframe thead th {\n",
       "        text-align: right;\n",
       "    }\n",
       "</style>\n",
       "<table border=\"1\" class=\"dataframe\">\n",
       "  <thead>\n",
       "    <tr style=\"text-align: right;\">\n",
       "      <th></th>\n",
       "      <th>ride_id</th>\n",
       "      <th>started_at</th>\n",
       "      <th>ended_at</th>\n",
       "      <th>member_casual</th>\n",
       "      <th>trip_length</th>\n",
       "      <th>trip_started_day</th>\n",
       "      <th>trip_started_month</th>\n",
       "    </tr>\n",
       "  </thead>\n",
       "  <tbody>\n",
       "    <tr>\n",
       "      <th>0</th>\n",
       "      <td>EACB19130B0CDA4A</td>\n",
       "      <td>2020-01-21 20:06:59</td>\n",
       "      <td>2020-01-21 20:14:30</td>\n",
       "      <td>member</td>\n",
       "      <td>0 days 00:07:31</td>\n",
       "      <td>1</td>\n",
       "      <td>1</td>\n",
       "    </tr>\n",
       "    <tr>\n",
       "      <th>1</th>\n",
       "      <td>8FED874C809DC021</td>\n",
       "      <td>2020-01-30 14:22:39</td>\n",
       "      <td>2020-01-30 14:26:22</td>\n",
       "      <td>member</td>\n",
       "      <td>0 days 00:03:43</td>\n",
       "      <td>3</td>\n",
       "      <td>1</td>\n",
       "    </tr>\n",
       "    <tr>\n",
       "      <th>2</th>\n",
       "      <td>789F3C21E472CA96</td>\n",
       "      <td>2020-01-09 19:29:26</td>\n",
       "      <td>2020-01-09 19:32:17</td>\n",
       "      <td>member</td>\n",
       "      <td>0 days 00:02:51</td>\n",
       "      <td>3</td>\n",
       "      <td>1</td>\n",
       "    </tr>\n",
       "    <tr>\n",
       "      <th>3</th>\n",
       "      <td>C9A388DAC6ABF313</td>\n",
       "      <td>2020-01-06 16:17:07</td>\n",
       "      <td>2020-01-06 16:25:56</td>\n",
       "      <td>member</td>\n",
       "      <td>0 days 00:08:49</td>\n",
       "      <td>0</td>\n",
       "      <td>1</td>\n",
       "    </tr>\n",
       "    <tr>\n",
       "      <th>4</th>\n",
       "      <td>943BC3CBECCFD662</td>\n",
       "      <td>2020-01-30 08:37:16</td>\n",
       "      <td>2020-01-30 08:42:48</td>\n",
       "      <td>member</td>\n",
       "      <td>0 days 00:05:32</td>\n",
       "      <td>3</td>\n",
       "      <td>1</td>\n",
       "    </tr>\n",
       "  </tbody>\n",
       "</table>\n",
       "</div>"
      ],
      "text/plain": [
       "            ride_id          started_at            ended_at member_casual  \\\n",
       "0  EACB19130B0CDA4A 2020-01-21 20:06:59 2020-01-21 20:14:30        member   \n",
       "1  8FED874C809DC021 2020-01-30 14:22:39 2020-01-30 14:26:22        member   \n",
       "2  789F3C21E472CA96 2020-01-09 19:29:26 2020-01-09 19:32:17        member   \n",
       "3  C9A388DAC6ABF313 2020-01-06 16:17:07 2020-01-06 16:25:56        member   \n",
       "4  943BC3CBECCFD662 2020-01-30 08:37:16 2020-01-30 08:42:48        member   \n",
       "\n",
       "      trip_length  trip_started_day  trip_started_month  \n",
       "0 0 days 00:07:31                 1                   1  \n",
       "1 0 days 00:03:43                 3                   1  \n",
       "2 0 days 00:02:51                 3                   1  \n",
       "3 0 days 00:08:49                 0                   1  \n",
       "4 0 days 00:05:32                 3                   1  "
      ]
     },
     "execution_count": 21,
     "metadata": {},
     "output_type": "execute_result"
    }
   ],
   "source": [
    "df.head()"
   ]
  },
  {
   "cell_type": "code",
   "execution_count": 22,
   "id": "d00192ed",
   "metadata": {},
   "outputs": [
    {
     "data": {
      "text/plain": [
       "(3541683, 7)"
      ]
     },
     "execution_count": 22,
     "metadata": {},
     "output_type": "execute_result"
    }
   ],
   "source": [
    "df.shape"
   ]
  },
  {
   "cell_type": "markdown",
   "id": "8aa1e517",
   "metadata": {},
   "source": [
    "#### Here the number of rows are in millions, So using sample size next.can be decide with various website like (https://www.surveysystem.com/sscalc.htm) available\n",
    "        Doing so, so that the visualization will be quick.\n",
    "    \n",
    "    Confidence Level:\t95% \n",
    "    Confidence Interval: 4\n",
    "    Sample size= 600\n"
   ]
  },
  {
   "cell_type": "code",
   "execution_count": 59,
   "id": "237794fe",
   "metadata": {},
   "outputs": [],
   "source": [
    "df_sample = df.sample(n=600)"
   ]
  },
  {
   "cell_type": "code",
   "execution_count": 60,
   "id": "bf7704f7",
   "metadata": {},
   "outputs": [
    {
     "data": {
      "text/plain": [
       "(600, 7)"
      ]
     },
     "execution_count": 60,
     "metadata": {},
     "output_type": "execute_result"
    }
   ],
   "source": [
    "df_sample.shape"
   ]
  },
  {
   "cell_type": "code",
   "execution_count": 61,
   "id": "3bb519b9",
   "metadata": {},
   "outputs": [
    {
     "data": {
      "text/plain": [
       "member    384\n",
       "casual    216\n",
       "Name: member_casual, dtype: int64"
      ]
     },
     "execution_count": 61,
     "metadata": {},
     "output_type": "execute_result"
    }
   ],
   "source": [
    "df_sample['member_casual'].value_counts()"
   ]
  },
  {
   "cell_type": "code",
   "execution_count": 62,
   "id": "bddf4427",
   "metadata": {},
   "outputs": [
    {
     "data": {
      "text/plain": [
       "member    2175108\n",
       "casual    1366575\n",
       "Name: member_casual, dtype: int64"
      ]
     },
     "execution_count": 62,
     "metadata": {},
     "output_type": "execute_result"
    }
   ],
   "source": [
    "df['member_casual'].value_counts()"
   ]
  },
  {
   "cell_type": "code",
   "execution_count": 63,
   "id": "69bc430a",
   "metadata": {},
   "outputs": [
    {
     "name": "stdout",
     "output_type": "stream",
     "text": [
      "Sample data's proportion between casual and annual members 0.5625\n",
      "Entire data's proportion between casual and annual members 0.6282791475181922\n"
     ]
    }
   ],
   "source": [
    "##compare proportion member type in the sample size\n",
    "a,b = df_sample['member_casual'].value_counts()\n",
    "c,d = df['member_casual'].value_counts()\n",
    "print(\"Sample data's proportion between casual and annual members\",b/a)\n",
    "print(\"Entire data's proportion between casual and annual members\",d/c)"
   ]
  },
  {
   "cell_type": "code",
   "execution_count": 64,
   "id": "26805fd3",
   "metadata": {},
   "outputs": [
    {
     "data": {
      "text/plain": [
       "ride_id               0\n",
       "started_at            0\n",
       "ended_at              0\n",
       "member_casual         0\n",
       "trip_length           0\n",
       "trip_started_day      0\n",
       "trip_started_month    0\n",
       "dtype: int64"
      ]
     },
     "execution_count": 64,
     "metadata": {},
     "output_type": "execute_result"
    }
   ],
   "source": [
    "df_sample.isna().sum()"
   ]
  },
  {
   "cell_type": "code",
   "execution_count": 65,
   "id": "bc9532c3",
   "metadata": {},
   "outputs": [
    {
     "data": {
      "text/plain": [
       "ride_id               0\n",
       "started_at            0\n",
       "ended_at              0\n",
       "member_casual         0\n",
       "trip_length           0\n",
       "trip_started_day      0\n",
       "trip_started_month    0\n",
       "dtype: int64"
      ]
     },
     "execution_count": 65,
     "metadata": {},
     "output_type": "execute_result"
    }
   ],
   "source": [
    "df.isna().sum()"
   ]
  },
  {
   "cell_type": "code",
   "execution_count": 66,
   "id": "012af8e4",
   "metadata": {},
   "outputs": [
    {
     "data": {
      "text/plain": [
       "array([3, 5, 6, 0, 1, 4, 2], dtype=int64)"
      ]
     },
     "execution_count": 66,
     "metadata": {},
     "output_type": "execute_result"
    }
   ],
   "source": [
    "df_sample['trip_started_day'].unique()"
   ]
  },
  {
   "cell_type": "code",
   "execution_count": 67,
   "id": "a1d09855",
   "metadata": {},
   "outputs": [
    {
     "data": {
      "text/plain": [
       "array([10,  5, 11,  8,  7,  9,  6,  4,  3, 12,  2,  1], dtype=int64)"
      ]
     },
     "execution_count": 67,
     "metadata": {},
     "output_type": "execute_result"
    }
   ],
   "source": [
    "df_sample['trip_started_month'].unique()"
   ]
  },
  {
   "cell_type": "code",
   "execution_count": 69,
   "id": "9356de21",
   "metadata": {},
   "outputs": [
    {
     "data": {
      "text/plain": [
       "Timedelta('-1 days +23:59:47')"
      ]
     },
     "execution_count": 69,
     "metadata": {},
     "output_type": "execute_result"
    }
   ],
   "source": [
    "df_sample['trip_length'].min()"
   ]
  },
  {
   "cell_type": "code",
   "execution_count": 72,
   "id": "eb2cfb6e",
   "metadata": {},
   "outputs": [],
   "source": [
    "#to make it easy to detect them, turn the length_trip in seconds in a new column\n",
    "df_sample['trip_length_seconds'] = df_sample['trip_length'].astype('timedelta64[s]')"
   ]
  },
  {
   "cell_type": "markdown",
   "id": "7aee24cb",
   "metadata": {},
   "source": [
    "Then with length of trip. They should be all positive values.\n",
    "The min value is negative. So we have a problem in the trip_lenth column."
   ]
  },
  {
   "cell_type": "code",
   "execution_count": 73,
   "id": "b5460802",
   "metadata": {},
   "outputs": [
    {
     "data": {
      "text/plain": [
       "ride_id                4\n",
       "started_at             4\n",
       "ended_at               4\n",
       "member_casual          4\n",
       "trip_length            4\n",
       "trip_started_day       4\n",
       "trip_started_month     4\n",
       "trip_length_seconds    4\n",
       "dtype: int64"
      ]
     },
     "execution_count": 73,
     "metadata": {},
     "output_type": "execute_result"
    }
   ],
   "source": [
    "df_sample[df_sample['trip_length_seconds'] < 0].count()"
   ]
  },
  {
   "cell_type": "markdown",
   "id": "3c8ab731",
   "metadata": {},
   "source": [
    "There are 4 negative values. This type of error might be a human error. The value of started_at and ended_at might have been switch.\n",
    "#### 3 possibilities to fix it:\n",
    "\n",
    "        *Remove these 4 rows. But the sample size won't be good anymore.\n",
    "        *Switch the started_at values and ended_at values for these 4 errors.\n",
    "        *Or, simply turn the 4 values in length_trip_sec positive.\n",
    "Let's go with the 3rd possibility\n",
    "\n",
    "#### Note: Everytime this takes differnet samples so the negative valus's rows will different everytime ,the code runs"
   ]
  },
  {
   "cell_type": "code",
   "execution_count": 74,
   "id": "87a9a5ec",
   "metadata": {},
   "outputs": [
    {
     "data": {
      "text/html": [
       "<div>\n",
       "<style scoped>\n",
       "    .dataframe tbody tr th:only-of-type {\n",
       "        vertical-align: middle;\n",
       "    }\n",
       "\n",
       "    .dataframe tbody tr th {\n",
       "        vertical-align: top;\n",
       "    }\n",
       "\n",
       "    .dataframe thead th {\n",
       "        text-align: right;\n",
       "    }\n",
       "</style>\n",
       "<table border=\"1\" class=\"dataframe\">\n",
       "  <thead>\n",
       "    <tr style=\"text-align: right;\">\n",
       "      <th></th>\n",
       "      <th>ride_id</th>\n",
       "      <th>started_at</th>\n",
       "      <th>ended_at</th>\n",
       "      <th>member_casual</th>\n",
       "      <th>trip_length</th>\n",
       "      <th>trip_started_day</th>\n",
       "      <th>trip_started_month</th>\n",
       "      <th>trip_length_seconds</th>\n",
       "    </tr>\n",
       "  </thead>\n",
       "  <tbody>\n",
       "    <tr>\n",
       "      <th>398171</th>\n",
       "      <td>12F4A3E7781A0335</td>\n",
       "      <td>2020-03-19 10:43:23</td>\n",
       "      <td>2020-03-19 10:43:10</td>\n",
       "      <td>casual</td>\n",
       "      <td>-1 days +23:59:47</td>\n",
       "      <td>3</td>\n",
       "      <td>3</td>\n",
       "      <td>-13.0</td>\n",
       "    </tr>\n",
       "    <tr>\n",
       "      <th>133270</th>\n",
       "      <td>6B0940EA72AD3A88</td>\n",
       "      <td>2020-07-13 12:44:04</td>\n",
       "      <td>2020-07-13 12:44:01</td>\n",
       "      <td>member</td>\n",
       "      <td>-1 days +23:59:57</td>\n",
       "      <td>0</td>\n",
       "      <td>7</td>\n",
       "      <td>-3.0</td>\n",
       "    </tr>\n",
       "    <tr>\n",
       "      <th>174606</th>\n",
       "      <td>3C70A5548E2E108E</td>\n",
       "      <td>2020-05-18 14:14:59</td>\n",
       "      <td>2020-05-18 14:14:47</td>\n",
       "      <td>member</td>\n",
       "      <td>-1 days +23:59:48</td>\n",
       "      <td>0</td>\n",
       "      <td>5</td>\n",
       "      <td>-12.0</td>\n",
       "    </tr>\n",
       "    <tr>\n",
       "      <th>173044</th>\n",
       "      <td>281F6553A641A34A</td>\n",
       "      <td>2020-10-29 19:23:41</td>\n",
       "      <td>2020-10-29 19:23:29</td>\n",
       "      <td>casual</td>\n",
       "      <td>-1 days +23:59:48</td>\n",
       "      <td>3</td>\n",
       "      <td>10</td>\n",
       "      <td>-12.0</td>\n",
       "    </tr>\n",
       "  </tbody>\n",
       "</table>\n",
       "</div>"
      ],
      "text/plain": [
       "                 ride_id          started_at            ended_at  \\\n",
       "398171  12F4A3E7781A0335 2020-03-19 10:43:23 2020-03-19 10:43:10   \n",
       "133270  6B0940EA72AD3A88 2020-07-13 12:44:04 2020-07-13 12:44:01   \n",
       "174606  3C70A5548E2E108E 2020-05-18 14:14:59 2020-05-18 14:14:47   \n",
       "173044  281F6553A641A34A 2020-10-29 19:23:41 2020-10-29 19:23:29   \n",
       "\n",
       "       member_casual       trip_length  trip_started_day  trip_started_month  \\\n",
       "398171        casual -1 days +23:59:47                 3                   3   \n",
       "133270        member -1 days +23:59:57                 0                   7   \n",
       "174606        member -1 days +23:59:48                 0                   5   \n",
       "173044        casual -1 days +23:59:48                 3                  10   \n",
       "\n",
       "        trip_length_seconds  \n",
       "398171                -13.0  \n",
       "133270                 -3.0  \n",
       "174606                -12.0  \n",
       "173044                -12.0  "
      ]
     },
     "execution_count": 74,
     "metadata": {},
     "output_type": "execute_result"
    }
   ],
   "source": [
    "#looking the rows of negative values\n",
    "df_sample.loc[df_sample['trip_length_seconds'] < 0]"
   ]
  },
  {
   "cell_type": "code",
   "execution_count": 75,
   "id": "fed70341",
   "metadata": {},
   "outputs": [],
   "source": [
    "#replacing all values by its absolute value\n",
    "df_sample['trip_length_seconds'] = df_sample['trip_length_seconds'].abs()"
   ]
  },
  {
   "cell_type": "code",
   "execution_count": 76,
   "id": "6e00b7a2",
   "metadata": {},
   "outputs": [
    {
     "data": {
      "text/plain": [
       "ride_id                0\n",
       "started_at             0\n",
       "ended_at               0\n",
       "member_casual          0\n",
       "trip_length            0\n",
       "trip_started_day       0\n",
       "trip_started_month     0\n",
       "trip_length_seconds    0\n",
       "dtype: int64"
      ]
     },
     "execution_count": 76,
     "metadata": {},
     "output_type": "execute_result"
    }
   ],
   "source": [
    "df_sample[df_sample['trip_length_seconds'] < 0].count()"
   ]
  },
  {
   "cell_type": "code",
   "execution_count": 79,
   "id": "f69ac32a",
   "metadata": {},
   "outputs": [
    {
     "data": {
      "text/plain": [
       "Timedelta('0 days 11:24:24')"
      ]
     },
     "execution_count": 79,
     "metadata": {},
     "output_type": "execute_result"
    }
   ],
   "source": [
    "df_sample['trip_length'].max()"
   ]
  },
  {
   "cell_type": "markdown",
   "id": "d9545625",
   "metadata": {},
   "source": [
    "##### Another problem detected is the maximum length of the trip. Some trips are huge. We can directly put them in the case of outlier. Let's see more about it.\n",
    "#### The box plot and histogram shows us that some length_trip_sec takes gigantic values.Most of the outliers are with the casual members."
   ]
  },
  {
   "cell_type": "code",
   "execution_count": 81,
   "id": "7990150e",
   "metadata": {},
   "outputs": [],
   "source": [
    "import seaborn as sns\n",
    "import matplotlib.pyplot as plt\n",
    "import numpy as np"
   ]
  },
  {
   "cell_type": "code",
   "execution_count": 82,
   "id": "49b3fce6",
   "metadata": {},
   "outputs": [
    {
     "name": "stderr",
     "output_type": "stream",
     "text": [
      "C:\\Users\\amank\\anaconda3\\envs\\FirstVirEn\\lib\\site-packages\\seaborn\\_decorators.py:36: FutureWarning: Pass the following variable as a keyword arg: x. From version 0.12, the only valid positional argument will be `data`, and passing other arguments without an explicit keyword will result in an error or misinterpretation.\n",
      "  warnings.warn(\n"
     ]
    },
    {
     "data": {
      "text/plain": [
       "<AxesSubplot:xlabel='trip_length_seconds'>"
      ]
     },
     "execution_count": 82,
     "metadata": {},
     "output_type": "execute_result"
    },
    {
     "data": {
      "image/png": "[encoded data removed]",
      "text/plain": [
       "<Figure size 432x288 with 1 Axes>"
      ]
     },
     "metadata": {
      "needs_background": "light"
     },
     "output_type": "display_data"
    }
   ],
   "source": [
    "sns.boxplot(df_sample['trip_length_seconds'])"
   ]
  },
  {
   "cell_type": "code",
   "execution_count": 83,
   "id": "459cb8e4",
   "metadata": {},
   "outputs": [
    {
     "data": {
      "text/plain": [
       "<AxesSubplot:xlabel='trip_length_seconds', ylabel='Count'>"
      ]
     },
     "execution_count": 83,
     "metadata": {},
     "output_type": "execute_result"
    },
    {
     "data": {
      "image/png": "[encoded data removed]",
      "text/plain": [
       "<Figure size 432x288 with 1 Axes>"
      ]
     },
     "metadata": {
      "needs_background": "light"
     },
     "output_type": "display_data"
    }
   ],
   "source": [
    "sns.histplot(df_sample['trip_length_seconds'])"
   ]
  },
  {
   "cell_type": "markdown",
   "id": "7a3f669e",
   "metadata": {},
   "source": [
    "### Detecting the outliers"
   ]
  },
  {
   "cell_type": "code",
   "execution_count": 84,
   "id": "f907c919",
   "metadata": {},
   "outputs": [
    {
     "data": {
      "text/plain": [
       "1017.5"
      ]
     },
     "execution_count": 84,
     "metadata": {},
     "output_type": "execute_result"
    }
   ],
   "source": [
    "#calculate the interquartile range\n",
    "q25, q50, q75 = np.percentile(df_sample['trip_length_seconds'], [25, 50, 75])\n",
    "iqr = q75 - q25\n",
    "iqr"
   ]
  },
  {
   "cell_type": "code",
   "execution_count": 85,
   "id": "2feb77c2",
   "metadata": {},
   "outputs": [
    {
     "data": {
      "text/plain": [
       "1975.0"
      ]
     },
     "execution_count": 85,
     "metadata": {},
     "output_type": "execute_result"
    }
   ],
   "source": [
    "#define the min and max limites to be considered an outlier\n",
    "mini = q25 - 1.5*iqr\n",
    "maxi = q25 + 1.5*iqr\n",
    "\n",
    "maxi"
   ]
  },
  {
   "cell_type": "code",
   "execution_count": 86,
   "id": "32ab0072",
   "metadata": {},
   "outputs": [
    {
     "name": "stdout",
     "output_type": "stream",
     "text": [
      "the max points is max point is 41064.0\n",
      "the max points is min point is 1977.0\n"
     ]
    }
   ],
   "source": [
    "#identify the points to remove\n",
    "points = [x for x in df_sample['trip_length_seconds'] if x > maxi]\n",
    "print('the max points is max point is', max(points))\n",
    "print('the max points is min point is', min(points))"
   ]
  },
  {
   "cell_type": "markdown",
   "id": "2a449df9",
   "metadata": {},
   "source": [
    "According to the outlier detection, all values of trip_length_seconds superior to 10000 seconds are considered outliers.\n",
    "/!\\ The outliers here are not something to erase and forget. It tells us a lot about how a member uses a bike. In that case it appears that casual members are causing these huge outliers.\n",
    "\n",
    "Here again, it seems to be a human error. The day seems to be the mistake but I can't be 100% sure.\n",
    "\n",
    "Let's delete the huge values to see the boxplot better."
   ]
  },
  {
   "cell_type": "code",
   "execution_count": 88,
   "id": "023df03b",
   "metadata": {},
   "outputs": [
    {
     "data": {
      "text/plain": [
       "ride_id                3\n",
       "started_at             3\n",
       "ended_at               3\n",
       "member_casual          3\n",
       "trip_length            3\n",
       "trip_started_day       3\n",
       "trip_started_month     3\n",
       "trip_length_seconds    3\n",
       "dtype: int64"
      ]
     },
     "execution_count": 88,
     "metadata": {},
     "output_type": "execute_result"
    }
   ],
   "source": [
    "df_sample[df_sample['trip_length_seconds'] > 10000].count()"
   ]
  },
  {
   "cell_type": "code",
   "execution_count": 89,
   "id": "9321b4af",
   "metadata": {},
   "outputs": [],
   "source": [
    "df_sample = df_sample[df_sample['trip_length_seconds'] <= 10000]"
   ]
  },
  {
   "cell_type": "code",
   "execution_count": 90,
   "id": "c97416ac",
   "metadata": {},
   "outputs": [
    {
     "name": "stderr",
     "output_type": "stream",
     "text": [
      "C:\\Users\\amank\\anaconda3\\envs\\FirstVirEn\\lib\\site-packages\\seaborn\\_decorators.py:36: FutureWarning: Pass the following variable as a keyword arg: x. From version 0.12, the only valid positional argument will be `data`, and passing other arguments without an explicit keyword will result in an error or misinterpretation.\n",
      "  warnings.warn(\n"
     ]
    },
    {
     "data": {
      "text/plain": [
       "<AxesSubplot:xlabel='trip_length_seconds'>"
      ]
     },
     "execution_count": 90,
     "metadata": {},
     "output_type": "execute_result"
    },
    {
     "data": {
      "image/png": "[encoded data removed]",
      "text/plain": [
       "<Figure size 432x288 with 1 Axes>"
      ]
     },
     "metadata": {
      "needs_background": "light"
     },
     "output_type": "display_data"
    }
   ],
   "source": [
    "sns.boxplot(df_sample['trip_length_seconds'])"
   ]
  },
  {
   "cell_type": "code",
   "execution_count": 91,
   "id": "ddca8e3b",
   "metadata": {},
   "outputs": [
    {
     "data": {
      "image/png": "[encoded data removed]",
      "text/plain": [
       "<Figure size 720x504 with 1 Axes>"
      ]
     },
     "metadata": {
      "needs_background": "light"
     },
     "output_type": "display_data"
    }
   ],
   "source": [
    "fig, ax = plt.subplots(figsize = (10,7))\n",
    "sns.histplot(df_sample, x = 'trip_length_seconds', hue = 'member_casual', ax=ax, kde = True) #plot distribution\n",
    "plt.title('Distribution of the length of a trip in 2020, annual vs casual member')\n",
    "plt.show()"
   ]
  },
  {
   "cell_type": "code",
   "execution_count": 92,
   "id": "0dd9b4b5",
   "metadata": {},
   "outputs": [
    {
     "data": {
      "text/html": [
       "<div>\n",
       "<style scoped>\n",
       "    .dataframe tbody tr th:only-of-type {\n",
       "        vertical-align: middle;\n",
       "    }\n",
       "\n",
       "    .dataframe tbody tr th {\n",
       "        vertical-align: top;\n",
       "    }\n",
       "\n",
       "    .dataframe thead th {\n",
       "        text-align: right;\n",
       "    }\n",
       "</style>\n",
       "<table border=\"1\" class=\"dataframe\">\n",
       "  <thead>\n",
       "    <tr style=\"text-align: right;\">\n",
       "      <th></th>\n",
       "      <th>member_casual</th>\n",
       "      <th>mean</th>\n",
       "      <th>max</th>\n",
       "      <th>min</th>\n",
       "    </tr>\n",
       "  </thead>\n",
       "  <tbody>\n",
       "    <tr>\n",
       "      <th>0</th>\n",
       "      <td>casual</td>\n",
       "      <td>1639.859155</td>\n",
       "      <td>9386.0</td>\n",
       "      <td>1.0</td>\n",
       "    </tr>\n",
       "    <tr>\n",
       "      <th>1</th>\n",
       "      <td>member</td>\n",
       "      <td>907.619792</td>\n",
       "      <td>5513.0</td>\n",
       "      <td>2.0</td>\n",
       "    </tr>\n",
       "  </tbody>\n",
       "</table>\n",
       "</div>"
      ],
      "text/plain": [
       "  member_casual         mean     max  min\n",
       "0        casual  1639.859155  9386.0  1.0\n",
       "1        member   907.619792  5513.0  2.0"
      ]
     },
     "execution_count": 92,
     "metadata": {},
     "output_type": "execute_result"
    }
   ],
   "source": [
    "pivot = df_sample.groupby('member_casual')['trip_length_seconds'].agg(['mean','max', 'min'])\n",
    "pivot = pivot.reset_index()\n",
    "pivot"
   ]
  },
  {
   "cell_type": "markdown",
   "id": "7048b7f1",
   "metadata": {},
   "source": [
    "### Creating the summary tables grouped by member types and days"
   ]
  },
  {
   "cell_type": "code",
   "execution_count": 93,
   "id": "052ff736",
   "metadata": {},
   "outputs": [
    {
     "data": {
      "text/html": [
       "<div>\n",
       "<style scoped>\n",
       "    .dataframe tbody tr th:only-of-type {\n",
       "        vertical-align: middle;\n",
       "    }\n",
       "\n",
       "    .dataframe tbody tr th {\n",
       "        vertical-align: top;\n",
       "    }\n",
       "\n",
       "    .dataframe thead th {\n",
       "        text-align: right;\n",
       "    }\n",
       "</style>\n",
       "<table border=\"1\" class=\"dataframe\">\n",
       "  <thead>\n",
       "    <tr style=\"text-align: right;\">\n",
       "      <th></th>\n",
       "      <th>member_casual</th>\n",
       "      <th>trip_started_day</th>\n",
       "      <th>mean</th>\n",
       "      <th>max</th>\n",
       "      <th>min</th>\n",
       "    </tr>\n",
       "  </thead>\n",
       "  <tbody>\n",
       "    <tr>\n",
       "      <th>0</th>\n",
       "      <td>casual</td>\n",
       "      <td>0</td>\n",
       "      <td>1539.250000</td>\n",
       "      <td>6296.0</td>\n",
       "      <td>144.0</td>\n",
       "    </tr>\n",
       "    <tr>\n",
       "      <th>1</th>\n",
       "      <td>casual</td>\n",
       "      <td>1</td>\n",
       "      <td>1574.818182</td>\n",
       "      <td>7283.0</td>\n",
       "      <td>1.0</td>\n",
       "    </tr>\n",
       "    <tr>\n",
       "      <th>2</th>\n",
       "      <td>casual</td>\n",
       "      <td>2</td>\n",
       "      <td>1993.923077</td>\n",
       "      <td>5356.0</td>\n",
       "      <td>183.0</td>\n",
       "    </tr>\n",
       "    <tr>\n",
       "      <th>3</th>\n",
       "      <td>casual</td>\n",
       "      <td>3</td>\n",
       "      <td>1633.920000</td>\n",
       "      <td>9386.0</td>\n",
       "      <td>12.0</td>\n",
       "    </tr>\n",
       "    <tr>\n",
       "      <th>4</th>\n",
       "      <td>casual</td>\n",
       "      <td>4</td>\n",
       "      <td>1278.360000</td>\n",
       "      <td>3559.0</td>\n",
       "      <td>50.0</td>\n",
       "    </tr>\n",
       "    <tr>\n",
       "      <th>5</th>\n",
       "      <td>casual</td>\n",
       "      <td>5</td>\n",
       "      <td>1730.377778</td>\n",
       "      <td>5984.0</td>\n",
       "      <td>288.0</td>\n",
       "    </tr>\n",
       "    <tr>\n",
       "      <th>6</th>\n",
       "      <td>casual</td>\n",
       "      <td>6</td>\n",
       "      <td>1626.860000</td>\n",
       "      <td>6247.0</td>\n",
       "      <td>262.0</td>\n",
       "    </tr>\n",
       "    <tr>\n",
       "      <th>7</th>\n",
       "      <td>member</td>\n",
       "      <td>0</td>\n",
       "      <td>859.709677</td>\n",
       "      <td>5513.0</td>\n",
       "      <td>3.0</td>\n",
       "    </tr>\n",
       "    <tr>\n",
       "      <th>8</th>\n",
       "      <td>member</td>\n",
       "      <td>1</td>\n",
       "      <td>734.980000</td>\n",
       "      <td>2695.0</td>\n",
       "      <td>105.0</td>\n",
       "    </tr>\n",
       "    <tr>\n",
       "      <th>9</th>\n",
       "      <td>member</td>\n",
       "      <td>2</td>\n",
       "      <td>855.456522</td>\n",
       "      <td>4048.0</td>\n",
       "      <td>30.0</td>\n",
       "    </tr>\n",
       "    <tr>\n",
       "      <th>10</th>\n",
       "      <td>member</td>\n",
       "      <td>3</td>\n",
       "      <td>896.224490</td>\n",
       "      <td>3835.0</td>\n",
       "      <td>39.0</td>\n",
       "    </tr>\n",
       "    <tr>\n",
       "      <th>11</th>\n",
       "      <td>member</td>\n",
       "      <td>4</td>\n",
       "      <td>878.680000</td>\n",
       "      <td>4195.0</td>\n",
       "      <td>2.0</td>\n",
       "    </tr>\n",
       "    <tr>\n",
       "      <th>12</th>\n",
       "      <td>member</td>\n",
       "      <td>5</td>\n",
       "      <td>970.920635</td>\n",
       "      <td>4996.0</td>\n",
       "      <td>151.0</td>\n",
       "    </tr>\n",
       "    <tr>\n",
       "      <th>13</th>\n",
       "      <td>member</td>\n",
       "      <td>6</td>\n",
       "      <td>1095.421875</td>\n",
       "      <td>5097.0</td>\n",
       "      <td>133.0</td>\n",
       "    </tr>\n",
       "  </tbody>\n",
       "</table>\n",
       "</div>"
      ],
      "text/plain": [
       "   member_casual  trip_started_day         mean     max    min\n",
       "0         casual                 0  1539.250000  6296.0  144.0\n",
       "1         casual                 1  1574.818182  7283.0    1.0\n",
       "2         casual                 2  1993.923077  5356.0  183.0\n",
       "3         casual                 3  1633.920000  9386.0   12.0\n",
       "4         casual                 4  1278.360000  3559.0   50.0\n",
       "5         casual                 5  1730.377778  5984.0  288.0\n",
       "6         casual                 6  1626.860000  6247.0  262.0\n",
       "7         member                 0   859.709677  5513.0    3.0\n",
       "8         member                 1   734.980000  2695.0  105.0\n",
       "9         member                 2   855.456522  4048.0   30.0\n",
       "10        member                 3   896.224490  3835.0   39.0\n",
       "11        member                 4   878.680000  4195.0    2.0\n",
       "12        member                 5   970.920635  4996.0  151.0\n",
       "13        member                 6  1095.421875  5097.0  133.0"
      ]
     },
     "execution_count": 93,
     "metadata": {},
     "output_type": "execute_result"
    }
   ],
   "source": [
    "summary = df_sample.groupby(['member_casual', 'trip_started_day'])['trip_length_seconds'].agg(['mean','max', 'min'])\n",
    "summary = summary.reset_index()\n",
    "summary"
   ]
  },
  {
   "cell_type": "markdown",
   "id": "08c88aab",
   "metadata": {},
   "source": [
    "### Visualize the average length of a trip per day and per member type."
   ]
  },
  {
   "cell_type": "code",
   "execution_count": 94,
   "id": "662023f2",
   "metadata": {},
   "outputs": [
    {
     "data": {
      "image/png": "[encoded data removed]",
      "text/plain": [
       "<Figure size 691.925x504 with 1 Axes>"
      ]
     },
     "metadata": {
      "needs_background": "light"
     },
     "output_type": "display_data"
    }
   ],
   "source": [
    "sns.catplot(data = summary, kind = 'bar', x = 'trip_started_day', y = 'mean', hue = 'member_casual', height = 7, aspect = 1.2)\n",
    "plt.title('Average length of a trip per day and per member type')\n",
    "plt.show()"
   ]
  },
  {
   "cell_type": "markdown",
   "id": "fa6b22b0",
   "metadata": {},
   "source": [
    "### Verifying which day is the most solicitated."
   ]
  },
  {
   "cell_type": "code",
   "execution_count": 95,
   "id": "fb5e8abc",
   "metadata": {},
   "outputs": [
    {
     "data": {
      "text/html": [
       "<div>\n",
       "<style scoped>\n",
       "    .dataframe tbody tr th:only-of-type {\n",
       "        vertical-align: middle;\n",
       "    }\n",
       "\n",
       "    .dataframe tbody tr th {\n",
       "        vertical-align: top;\n",
       "    }\n",
       "\n",
       "    .dataframe thead th {\n",
       "        text-align: right;\n",
       "    }\n",
       "</style>\n",
       "<table border=\"1\" class=\"dataframe\">\n",
       "  <thead>\n",
       "    <tr style=\"text-align: right;\">\n",
       "      <th></th>\n",
       "      <th>member_casual</th>\n",
       "      <th>trip_started_day</th>\n",
       "      <th>count</th>\n",
       "    </tr>\n",
       "  </thead>\n",
       "  <tbody>\n",
       "    <tr>\n",
       "      <th>0</th>\n",
       "      <td>casual</td>\n",
       "      <td>0</td>\n",
       "      <td>20</td>\n",
       "    </tr>\n",
       "    <tr>\n",
       "      <th>1</th>\n",
       "      <td>casual</td>\n",
       "      <td>1</td>\n",
       "      <td>22</td>\n",
       "    </tr>\n",
       "    <tr>\n",
       "      <th>2</th>\n",
       "      <td>casual</td>\n",
       "      <td>2</td>\n",
       "      <td>26</td>\n",
       "    </tr>\n",
       "    <tr>\n",
       "      <th>3</th>\n",
       "      <td>casual</td>\n",
       "      <td>3</td>\n",
       "      <td>25</td>\n",
       "    </tr>\n",
       "    <tr>\n",
       "      <th>4</th>\n",
       "      <td>casual</td>\n",
       "      <td>4</td>\n",
       "      <td>25</td>\n",
       "    </tr>\n",
       "    <tr>\n",
       "      <th>5</th>\n",
       "      <td>casual</td>\n",
       "      <td>5</td>\n",
       "      <td>45</td>\n",
       "    </tr>\n",
       "    <tr>\n",
       "      <th>6</th>\n",
       "      <td>casual</td>\n",
       "      <td>6</td>\n",
       "      <td>50</td>\n",
       "    </tr>\n",
       "    <tr>\n",
       "      <th>7</th>\n",
       "      <td>member</td>\n",
       "      <td>0</td>\n",
       "      <td>62</td>\n",
       "    </tr>\n",
       "    <tr>\n",
       "      <th>8</th>\n",
       "      <td>member</td>\n",
       "      <td>1</td>\n",
       "      <td>50</td>\n",
       "    </tr>\n",
       "    <tr>\n",
       "      <th>9</th>\n",
       "      <td>member</td>\n",
       "      <td>2</td>\n",
       "      <td>46</td>\n",
       "    </tr>\n",
       "    <tr>\n",
       "      <th>10</th>\n",
       "      <td>member</td>\n",
       "      <td>3</td>\n",
       "      <td>49</td>\n",
       "    </tr>\n",
       "    <tr>\n",
       "      <th>11</th>\n",
       "      <td>member</td>\n",
       "      <td>4</td>\n",
       "      <td>50</td>\n",
       "    </tr>\n",
       "    <tr>\n",
       "      <th>12</th>\n",
       "      <td>member</td>\n",
       "      <td>5</td>\n",
       "      <td>63</td>\n",
       "    </tr>\n",
       "    <tr>\n",
       "      <th>13</th>\n",
       "      <td>member</td>\n",
       "      <td>6</td>\n",
       "      <td>64</td>\n",
       "    </tr>\n",
       "  </tbody>\n",
       "</table>\n",
       "</div>"
      ],
      "text/plain": [
       "   member_casual  trip_started_day  count\n",
       "0         casual                 0     20\n",
       "1         casual                 1     22\n",
       "2         casual                 2     26\n",
       "3         casual                 3     25\n",
       "4         casual                 4     25\n",
       "5         casual                 5     45\n",
       "6         casual                 6     50\n",
       "7         member                 0     62\n",
       "8         member                 1     50\n",
       "9         member                 2     46\n",
       "10        member                 3     49\n",
       "11        member                 4     50\n",
       "12        member                 5     63\n",
       "13        member                 6     64"
      ]
     },
     "execution_count": 95,
     "metadata": {},
     "output_type": "execute_result"
    }
   ],
   "source": [
    "day = df_sample.groupby(['member_casual','trip_started_day'])['trip_started_day'].agg(['count'])\n",
    "day = day.reset_index()\n",
    "day"
   ]
  },
  {
   "cell_type": "code",
   "execution_count": 96,
   "id": "bebc5879",
   "metadata": {},
   "outputs": [
    {
     "data": {
      "image/png": "[encoded data removed]",
      "text/plain": [
       "<Figure size 720x504 with 1 Axes>"
      ]
     },
     "metadata": {
      "needs_background": "light"
     },
     "output_type": "display_data"
    }
   ],
   "source": [
    "fig, ax = plt.subplots(figsize = (10,7))\n",
    "sns.histplot(df_sample, x = 'trip_started_day', hue = 'member_casual', ax=ax, kde = True) #plot distribution\n",
    "plt.title('Distribution of number of use per day of the week')\n",
    "plt.show()"
   ]
  },
  {
   "cell_type": "markdown",
   "id": "9883f021",
   "metadata": {},
   "source": [
    "### Checking the average trip length per month"
   ]
  },
  {
   "cell_type": "code",
   "execution_count": 97,
   "id": "c3990708",
   "metadata": {},
   "outputs": [
    {
     "data": {
      "text/html": [
       "<div>\n",
       "<style scoped>\n",
       "    .dataframe tbody tr th:only-of-type {\n",
       "        vertical-align: middle;\n",
       "    }\n",
       "\n",
       "    .dataframe tbody tr th {\n",
       "        vertical-align: top;\n",
       "    }\n",
       "\n",
       "    .dataframe thead th {\n",
       "        text-align: right;\n",
       "    }\n",
       "</style>\n",
       "<table border=\"1\" class=\"dataframe\">\n",
       "  <thead>\n",
       "    <tr style=\"text-align: right;\">\n",
       "      <th></th>\n",
       "      <th>member_casual</th>\n",
       "      <th>trip_started_month</th>\n",
       "      <th>mean</th>\n",
       "      <th>max</th>\n",
       "      <th>min</th>\n",
       "    </tr>\n",
       "  </thead>\n",
       "  <tbody>\n",
       "    <tr>\n",
       "      <th>0</th>\n",
       "      <td>casual</td>\n",
       "      <td>1</td>\n",
       "      <td>50.000000</td>\n",
       "      <td>50.0</td>\n",
       "      <td>50.0</td>\n",
       "    </tr>\n",
       "    <tr>\n",
       "      <th>1</th>\n",
       "      <td>casual</td>\n",
       "      <td>2</td>\n",
       "      <td>1196.500000</td>\n",
       "      <td>1931.0</td>\n",
       "      <td>462.0</td>\n",
       "    </tr>\n",
       "    <tr>\n",
       "      <th>2</th>\n",
       "      <td>casual</td>\n",
       "      <td>3</td>\n",
       "      <td>1444.000000</td>\n",
       "      <td>5356.0</td>\n",
       "      <td>13.0</td>\n",
       "    </tr>\n",
       "    <tr>\n",
       "      <th>3</th>\n",
       "      <td>casual</td>\n",
       "      <td>5</td>\n",
       "      <td>1706.615385</td>\n",
       "      <td>6296.0</td>\n",
       "      <td>324.0</td>\n",
       "    </tr>\n",
       "    <tr>\n",
       "      <th>4</th>\n",
       "      <td>casual</td>\n",
       "      <td>6</td>\n",
       "      <td>2133.517241</td>\n",
       "      <td>5984.0</td>\n",
       "      <td>548.0</td>\n",
       "    </tr>\n",
       "    <tr>\n",
       "      <th>5</th>\n",
       "      <td>casual</td>\n",
       "      <td>7</td>\n",
       "      <td>1628.033333</td>\n",
       "      <td>6873.0</td>\n",
       "      <td>385.0</td>\n",
       "    </tr>\n",
       "    <tr>\n",
       "      <th>6</th>\n",
       "      <td>casual</td>\n",
       "      <td>8</td>\n",
       "      <td>1388.615385</td>\n",
       "      <td>6247.0</td>\n",
       "      <td>1.0</td>\n",
       "    </tr>\n",
       "    <tr>\n",
       "      <th>7</th>\n",
       "      <td>casual</td>\n",
       "      <td>9</td>\n",
       "      <td>1836.868421</td>\n",
       "      <td>6727.0</td>\n",
       "      <td>2.0</td>\n",
       "    </tr>\n",
       "    <tr>\n",
       "      <th>8</th>\n",
       "      <td>casual</td>\n",
       "      <td>10</td>\n",
       "      <td>1480.708333</td>\n",
       "      <td>9386.0</td>\n",
       "      <td>12.0</td>\n",
       "    </tr>\n",
       "    <tr>\n",
       "      <th>9</th>\n",
       "      <td>casual</td>\n",
       "      <td>11</td>\n",
       "      <td>1712.700000</td>\n",
       "      <td>7283.0</td>\n",
       "      <td>437.0</td>\n",
       "    </tr>\n",
       "    <tr>\n",
       "      <th>10</th>\n",
       "      <td>casual</td>\n",
       "      <td>12</td>\n",
       "      <td>1309.571429</td>\n",
       "      <td>2290.0</td>\n",
       "      <td>667.0</td>\n",
       "    </tr>\n",
       "    <tr>\n",
       "      <th>11</th>\n",
       "      <td>member</td>\n",
       "      <td>1</td>\n",
       "      <td>554.703704</td>\n",
       "      <td>1271.0</td>\n",
       "      <td>139.0</td>\n",
       "    </tr>\n",
       "    <tr>\n",
       "      <th>12</th>\n",
       "      <td>member</td>\n",
       "      <td>2</td>\n",
       "      <td>770.100000</td>\n",
       "      <td>2138.0</td>\n",
       "      <td>142.0</td>\n",
       "    </tr>\n",
       "    <tr>\n",
       "      <th>13</th>\n",
       "      <td>member</td>\n",
       "      <td>3</td>\n",
       "      <td>921.294118</td>\n",
       "      <td>2241.0</td>\n",
       "      <td>133.0</td>\n",
       "    </tr>\n",
       "    <tr>\n",
       "      <th>14</th>\n",
       "      <td>member</td>\n",
       "      <td>4</td>\n",
       "      <td>1150.200000</td>\n",
       "      <td>2363.0</td>\n",
       "      <td>196.0</td>\n",
       "    </tr>\n",
       "    <tr>\n",
       "      <th>15</th>\n",
       "      <td>member</td>\n",
       "      <td>5</td>\n",
       "      <td>803.470588</td>\n",
       "      <td>2103.0</td>\n",
       "      <td>12.0</td>\n",
       "    </tr>\n",
       "    <tr>\n",
       "      <th>16</th>\n",
       "      <td>member</td>\n",
       "      <td>6</td>\n",
       "      <td>1177.482759</td>\n",
       "      <td>4195.0</td>\n",
       "      <td>176.0</td>\n",
       "    </tr>\n",
       "    <tr>\n",
       "      <th>17</th>\n",
       "      <td>member</td>\n",
       "      <td>7</td>\n",
       "      <td>1149.019231</td>\n",
       "      <td>5513.0</td>\n",
       "      <td>2.0</td>\n",
       "    </tr>\n",
       "    <tr>\n",
       "      <th>18</th>\n",
       "      <td>member</td>\n",
       "      <td>8</td>\n",
       "      <td>899.212121</td>\n",
       "      <td>2916.0</td>\n",
       "      <td>195.0</td>\n",
       "    </tr>\n",
       "    <tr>\n",
       "      <th>19</th>\n",
       "      <td>member</td>\n",
       "      <td>9</td>\n",
       "      <td>769.000000</td>\n",
       "      <td>3366.0</td>\n",
       "      <td>126.0</td>\n",
       "    </tr>\n",
       "    <tr>\n",
       "      <th>20</th>\n",
       "      <td>member</td>\n",
       "      <td>10</td>\n",
       "      <td>798.487179</td>\n",
       "      <td>5097.0</td>\n",
       "      <td>188.0</td>\n",
       "    </tr>\n",
       "    <tr>\n",
       "      <th>21</th>\n",
       "      <td>member</td>\n",
       "      <td>11</td>\n",
       "      <td>1019.076923</td>\n",
       "      <td>4996.0</td>\n",
       "      <td>30.0</td>\n",
       "    </tr>\n",
       "    <tr>\n",
       "      <th>22</th>\n",
       "      <td>member</td>\n",
       "      <td>12</td>\n",
       "      <td>844.250000</td>\n",
       "      <td>4048.0</td>\n",
       "      <td>39.0</td>\n",
       "    </tr>\n",
       "  </tbody>\n",
       "</table>\n",
       "</div>"
      ],
      "text/plain": [
       "   member_casual  trip_started_month         mean     max    min\n",
       "0         casual                   1    50.000000    50.0   50.0\n",
       "1         casual                   2  1196.500000  1931.0  462.0\n",
       "2         casual                   3  1444.000000  5356.0   13.0\n",
       "3         casual                   5  1706.615385  6296.0  324.0\n",
       "4         casual                   6  2133.517241  5984.0  548.0\n",
       "5         casual                   7  1628.033333  6873.0  385.0\n",
       "6         casual                   8  1388.615385  6247.0    1.0\n",
       "7         casual                   9  1836.868421  6727.0    2.0\n",
       "8         casual                  10  1480.708333  9386.0   12.0\n",
       "9         casual                  11  1712.700000  7283.0  437.0\n",
       "10        casual                  12  1309.571429  2290.0  667.0\n",
       "11        member                   1   554.703704  1271.0  139.0\n",
       "12        member                   2   770.100000  2138.0  142.0\n",
       "13        member                   3   921.294118  2241.0  133.0\n",
       "14        member                   4  1150.200000  2363.0  196.0\n",
       "15        member                   5   803.470588  2103.0   12.0\n",
       "16        member                   6  1177.482759  4195.0  176.0\n",
       "17        member                   7  1149.019231  5513.0    2.0\n",
       "18        member                   8   899.212121  2916.0  195.0\n",
       "19        member                   9   769.000000  3366.0  126.0\n",
       "20        member                  10   798.487179  5097.0  188.0\n",
       "21        member                  11  1019.076923  4996.0   30.0\n",
       "22        member                  12   844.250000  4048.0   39.0"
      ]
     },
     "execution_count": 97,
     "metadata": {},
     "output_type": "execute_result"
    }
   ],
   "source": [
    "summary2 = df_sample.groupby(['member_casual', 'trip_started_month'])['trip_length_seconds'].agg(['mean','max', 'min'])\n",
    "summary2 = summary2.reset_index()\n",
    "summary2"
   ]
  },
  {
   "cell_type": "code",
   "execution_count": 98,
   "id": "f2f72fdd",
   "metadata": {},
   "outputs": [
    {
     "data": {
      "image/png": "[encoded data removed]",
      "text/plain": [
       "<Figure size 691.925x504 with 1 Axes>"
      ]
     },
     "metadata": {
      "needs_background": "light"
     },
     "output_type": "display_data"
    }
   ],
   "source": [
    "sns.catplot(data = summary2, kind = 'bar', x = 'trip_started_month', y = 'mean', hue = 'member_casual', height = 7, aspect = 1.2)\n",
    "plt.title('Average length of a trip per day and per member type')\n",
    "plt.show()"
   ]
  },
  {
   "cell_type": "markdown",
   "id": "fab38f06",
   "metadata": {},
   "source": [
    "### Which is the most solicited month¶\n"
   ]
  },
  {
   "cell_type": "code",
   "execution_count": 101,
   "id": "fb4a7a02",
   "metadata": {},
   "outputs": [
    {
     "data": {
      "text/html": [
       "<div>\n",
       "<style scoped>\n",
       "    .dataframe tbody tr th:only-of-type {\n",
       "        vertical-align: middle;\n",
       "    }\n",
       "\n",
       "    .dataframe tbody tr th {\n",
       "        vertical-align: top;\n",
       "    }\n",
       "\n",
       "    .dataframe thead th {\n",
       "        text-align: right;\n",
       "    }\n",
       "</style>\n",
       "<table border=\"1\" class=\"dataframe\">\n",
       "  <thead>\n",
       "    <tr style=\"text-align: right;\">\n",
       "      <th></th>\n",
       "      <th></th>\n",
       "      <th>count</th>\n",
       "    </tr>\n",
       "    <tr>\n",
       "      <th>member_casual</th>\n",
       "      <th>trip_started_month</th>\n",
       "      <th></th>\n",
       "    </tr>\n",
       "  </thead>\n",
       "  <tbody>\n",
       "    <tr>\n",
       "      <th rowspan=\"11\" valign=\"top\">casual</th>\n",
       "      <th>1</th>\n",
       "      <td>1</td>\n",
       "    </tr>\n",
       "    <tr>\n",
       "      <th>2</th>\n",
       "      <td>2</td>\n",
       "    </tr>\n",
       "    <tr>\n",
       "      <th>3</th>\n",
       "      <td>7</td>\n",
       "    </tr>\n",
       "    <tr>\n",
       "      <th>5</th>\n",
       "      <td>13</td>\n",
       "    </tr>\n",
       "    <tr>\n",
       "      <th>6</th>\n",
       "      <td>29</td>\n",
       "    </tr>\n",
       "    <tr>\n",
       "      <th>7</th>\n",
       "      <td>30</td>\n",
       "    </tr>\n",
       "    <tr>\n",
       "      <th>8</th>\n",
       "      <td>52</td>\n",
       "    </tr>\n",
       "    <tr>\n",
       "      <th>9</th>\n",
       "      <td>38</td>\n",
       "    </tr>\n",
       "    <tr>\n",
       "      <th>10</th>\n",
       "      <td>24</td>\n",
       "    </tr>\n",
       "    <tr>\n",
       "      <th>11</th>\n",
       "      <td>10</td>\n",
       "    </tr>\n",
       "    <tr>\n",
       "      <th>12</th>\n",
       "      <td>7</td>\n",
       "    </tr>\n",
       "    <tr>\n",
       "      <th rowspan=\"12\" valign=\"top\">member</th>\n",
       "      <th>1</th>\n",
       "      <td>27</td>\n",
       "    </tr>\n",
       "    <tr>\n",
       "      <th>2</th>\n",
       "      <td>20</td>\n",
       "    </tr>\n",
       "    <tr>\n",
       "      <th>3</th>\n",
       "      <td>17</td>\n",
       "    </tr>\n",
       "    <tr>\n",
       "      <th>4</th>\n",
       "      <td>10</td>\n",
       "    </tr>\n",
       "    <tr>\n",
       "      <th>5</th>\n",
       "      <td>17</td>\n",
       "    </tr>\n",
       "    <tr>\n",
       "      <th>6</th>\n",
       "      <td>29</td>\n",
       "    </tr>\n",
       "    <tr>\n",
       "      <th>7</th>\n",
       "      <td>52</td>\n",
       "    </tr>\n",
       "    <tr>\n",
       "      <th>8</th>\n",
       "      <td>66</td>\n",
       "    </tr>\n",
       "    <tr>\n",
       "      <th>9</th>\n",
       "      <td>56</td>\n",
       "    </tr>\n",
       "    <tr>\n",
       "      <th>10</th>\n",
       "      <td>39</td>\n",
       "    </tr>\n",
       "    <tr>\n",
       "      <th>11</th>\n",
       "      <td>39</td>\n",
       "    </tr>\n",
       "    <tr>\n",
       "      <th>12</th>\n",
       "      <td>12</td>\n",
       "    </tr>\n",
       "  </tbody>\n",
       "</table>\n",
       "</div>"
      ],
      "text/plain": [
       "                                  count\n",
       "member_casual trip_started_month       \n",
       "casual        1                       1\n",
       "              2                       2\n",
       "              3                       7\n",
       "              5                      13\n",
       "              6                      29\n",
       "              7                      30\n",
       "              8                      52\n",
       "              9                      38\n",
       "              10                     24\n",
       "              11                     10\n",
       "              12                      7\n",
       "member        1                      27\n",
       "              2                      20\n",
       "              3                      17\n",
       "              4                      10\n",
       "              5                      17\n",
       "              6                      29\n",
       "              7                      52\n",
       "              8                      66\n",
       "              9                      56\n",
       "              10                     39\n",
       "              11                     39\n",
       "              12                     12"
      ]
     },
     "execution_count": 101,
     "metadata": {},
     "output_type": "execute_result"
    }
   ],
   "source": [
    "df_sample.groupby(['member_casual', 'trip_started_month'])['trip_started_month'].agg(['count'])\n"
   ]
  },
  {
   "cell_type": "code",
   "execution_count": 102,
   "id": "565b4184",
   "metadata": {},
   "outputs": [
    {
     "data": {
      "image/png": "[encoded data removed]",
      "text/plain": [
       "<Figure size 720x504 with 1 Axes>"
      ]
     },
     "metadata": {
      "needs_background": "light"
     },
     "output_type": "display_data"
    }
   ],
   "source": [
    "fig, ax = plt.subplots(figsize = (10,7))\n",
    "sns.histplot(df_sample, x = 'trip_started_month', hue = 'member_casual', ax=ax, kde = True) #plot distribution\n",
    "plt.title('Distribution of number of use per month of the week')\n",
    "plt.show()"
   ]
  },
  {
   "cell_type": "markdown",
   "id": "de5d33ef",
   "metadata": {},
   "source": [
    "## Conclusion\n",
    "In the conclusion no numbers will appear since the sample size is taken randomly. If the entire kernel is ran again, different values and different plots will be displayed.\n",
    "\n",
    "But, in general, the analysis tell us the following:\n",
    "\n",
    "The average time spent on a bike per ride is clear:\n",
    "\n",
    "    *While Casual members spend on average more time on their bike than annual members, the distribution remain inconsistent      during week days.\n",
    "    \n",
    "    *Annual members seem to be more predictible is a more consitant average time spent on their bike.\n",
    "   \n",
    "    *In both case, casual and annual members seem to spend more time on a bike during the weekends.\n",
    "\n",
    "While the number of rides is clearly on annual members side:\n",
    "   \n",
    "   \n",
    "    *Annual members have more rides in a day than casual members\n",
    "    \n",
    "    *On the weekends (Saturday and Sunday), is the period where casual member have different rides more often\n",
    "    \n",
    "    *Same remark as before, the number of rides stay consistent throuhout the week with annual members\n",
    "\n",
    "During seasonal period, behaviors are distinct:\n",
    "   \n",
    "    *The period of spring and summer are the best season so far both in term of number of unique ride and average time per ride\n",
    "    \n",
    "    *However, casual members are still unpredictable. With the average time spent on a bike varying from month to month        unconsistantly.\n",
    "\n",
    "In clear, casual members spend averagely more time on a bike than their peers the annual members. It appears that casual members create the most and biggest outliers for the ride time. However, annual members use their benifit well since they are using more bikes in a day than casual members."
   ]
  },
  {
   "cell_type": "code",
   "execution_count": null,
   "id": "92914b46",
   "metadata": {},
   "outputs": [],
   "source": []
  }
 ],
 "metadata": {
  "kernelspec": {
   "display_name": "Python 3",
   "language": "python",
   "name": "python3"
  },
  "language_info": {
   "codemirror_mode": {
    "name": "ipython",
    "version": 3
   },
   "file_extension": ".py",
   "mimetype": "text/x-python",
   "name": "python",
   "nbconvert_exporter": "python",
   "pygments_lexer": "ipython3",
   "version": "3.9.5"
  }
 },
 "nbformat": 4,
 "nbformat_minor": 5
}
